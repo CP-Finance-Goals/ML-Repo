{
 "cells": [
  {
   "cell_type": "markdown",
   "metadata": {
    "id": "M-NneowNqsUn"
   },
   "source": [
    "**Model 1 Feature 1: House Price Prediction**\n",
    "\n",
    "This model is designed to predict the price of a dream home based on user inputs such as location, number of bedrooms, number of bathrooms, land size, building size, electricity capacity, maid's room, and number of floors. Specifically, the model is aimed at predicting house prices in the Jabodetabek (Jakarta, Bogor, Depok, Tangerang, and Bekasi) region using a neural network with a regression algorithm powered by TensorFlow.\n",
    "\n",
    "The primary objective of this model is to provide accurate house price predictions for users, allowing them to estimate the cost of their desired property in different cities of the Jabodetabek area. The model uses a Linear Regression approach within a neural network architecture to estimate the house prices effectively."
   ]
  },
  {
   "cell_type": "markdown",
   "metadata": {
    "id": "lZovgHPeqc3j"
   },
   "source": [
    "#  Import Library"
   ]
  },
  {
   "cell_type": "code",
   "execution_count": null,
   "metadata": {
    "id": "zUFS5LCOLT9N"
   },
   "outputs": [],
   "source": [
    "import tensorflow as tf\n",
    "import pandas as pd\n",
    "import numpy as np\n",
    "from sklearn.preprocessing import MinMaxScaler\n",
    "from tensorflow.keras.models import Sequential\n",
    "from tensorflow.keras.layers import Dense, Dropout, BatchNormalization, Input\n",
    "from tensorflow.keras.callbacks import EarlyStopping, ReduceLROnPlateau\n",
    "from tensorflow.keras.optimizers import SGD\n",
    "from tensorflow.keras.losses import Huber\n",
    "from sklearn.metrics import r2_score\n",
    "import matplotlib.pyplot as plt"
   ]
  },
  {
   "cell_type": "markdown",
   "metadata": {
    "id": "ssQj8SYLsuH0"
   },
   "source": [
    "# Data Preparation\n",
    "\n",
    "1. The data is divided into two parts:\n",
    "* X: independent variables (features), which are all columns except price_in_rp.\n",
    "* y: dependent variable (target), which is the price_in_rp column.\n",
    "2. Categorical features (city) are converted into numerical representations using one-hot encoding.\n",
    "3.  Numerical features are normalized using MinMaxScaler to have the same range of values.\n",
    "4. Data is split into training data (80%) and test data (20%)."
   ]
  },
  {
   "cell_type": "code",
   "execution_count": null,
   "metadata": {
    "colab": {
     "base_uri": "https://localhost:8080/"
    },
    "id": "VHY025mlyvj8",
    "outputId": "79b6ad95-c0bd-4c92-c920-1f3f8db2c7af"
   },
   "outputs": [
    {
     "name": "stdout",
     "output_type": "stream",
     "text": [
      "Drive already mounted at /content/drive; to attempt to forcibly remount, call drive.mount(\"/content/drive\", force_remount=True).\n"
     ]
    }
   ],
   "source": [
    "from google.colab import drive\n",
    "drive.mount('/content/drive')"
   ]
  },
  {
   "cell_type": "code",
   "execution_count": null,
   "metadata": {
    "id": "8VzyLbigyzMP"
   },
   "outputs": [],
   "source": [
    "house_data= pd.DataFrame(pd.read_csv(\"drive/MyDrive/data_clean/house_clean_v3.csv\"))"
   ]
  },
  {
   "cell_type": "code",
   "execution_count": null,
   "metadata": {
    "id": "Cg_HLEwiMayG"
   },
   "outputs": [],
   "source": [
    "X = house_data.drop(columns=['price_in_rp'])\n",
    "y = house_data['price_in_rp']\n",
    "\n",
    "# One-hot\n",
    "X_cat = pd.get_dummies(X['city'], drop_first=True)\n",
    "X_num = X.drop(columns=['city'])\n",
    "\n",
    "# Normalize\n",
    "scale_num= MinMaxScaler()\n",
    "X_num_scaled = scale_num.fit_transform(X_num)\n",
    "\n",
    "# Combine\n",
    "\n",
    "X_combined = np.hstack((X_num_scaled, X_cat.values))\n",
    "\n",
    "# Normalize y\n",
    "y_mean = y.mean()\n",
    "y_std = y.std()\n",
    "y_scaled = (y - y_mean) / y_std"
   ]
  },
  {
   "cell_type": "code",
   "execution_count": null,
   "metadata": {
    "id": "3nCMa5lrM0XZ"
   },
   "outputs": [],
   "source": [
    "# Split\n",
    "split = int(0.8 * len(X_combined))\n",
    "X_train, X_test = X_combined[:split], X_combined[split:]\n",
    "y_train, y_test = y_scaled[:split], y_scaled[split:]\n",
    "\n",
    "# Convert to TensorFlow datasets\n",
    "train_data= tf.data.Dataset.from_tensor_slices((X_train.astype(np.float32), y_train.astype(np.float32))).batch(32).shuffle(1000)\n",
    "test_data= tf.data.Dataset.from_tensor_slices((X_test.astype(np.float32), y_test.astype(np.float32))).batch(32)"
   ]
  },
  {
   "cell_type": "markdown",
   "metadata": {
    "id": "1VvhXPWuugYS"
   },
   "source": [
    "# Model Architecture\n",
    "\n",
    "1. The model used is an artificial neural network with several layers:\n",
    "\n",
    "* Dense: standard fully connected layer.\n",
    "\n",
    "* BatchNormalization: to normalize activations between layers.\n",
    "\n",
    "* Dropout: to prevent overfitting.\n",
    "\n",
    "2. The activation function used is ReLU, except for the output layer which does not use an activation function (linear).\n",
    "3. The optimizer used is Stochastic Gradient Descent (SGD) with a learning rate of 0.01 and momentum of 0.9.\n",
    "4. The loss function used is Huber loss.\n",
    "5. Evaluation metrics used are Mean Absolute Error (MAE) and Mean Squared Error (MSE)."
   ]
  },
  {
   "cell_type": "code",
   "execution_count": null,
   "metadata": {
    "id": "rcubgst6NJvB"
   },
   "outputs": [],
   "source": [
    "def create_model(input_dim):\n",
    "    model = Sequential([\n",
    "        Input(shape=(input_dim,)),\n",
    "        Dense(512, activation='relu', kernel_regularizer=tf.keras.regularizers.l2(0.01)),\n",
    "        BatchNormalization(),\n",
    "        Dropout(0.3),\n",
    "        Dense(256, activation='relu', kernel_regularizer=tf.keras.regularizers.l2(0.01)),\n",
    "        BatchNormalization(),\n",
    "        Dropout(0.1),\n",
    "        Dense(128, activation='relu', kernel_regularizer=tf.keras.regularizers.l2(0.01)),\n",
    "        BatchNormalization(),\n",
    "        Dense(24, activation='relu'),\n",
    "        Dense(24, activation='relu'),\n",
    "        Dense(1)\n",
    "    ])\n",
    "    return model\n",
    "model = create_model(X_train.shape[1])\n",
    "sgd = SGD(learning_rate=0.01, momentum=0.9)\n",
    "model.compile(optimizer=sgd,loss=Huber(delta=1.0),metrics=['mae', 'mse'])"
   ]
  },
  {
   "cell_type": "markdown",
   "metadata": {
    "id": "MV5RY9Q1vb_3"
   },
   "source": [
    "# Model Training\n",
    "1. The model is trained using the training data (train_data) and validated using the test data (test_data).\n",
    "2. EarlyStopping is used to stop training if the model's performance on the validation data does not improve for 30 epochs.\n",
    "3. ReduceLROnPlateau is used to reduce the learning rate if the model's performance on the validation data does not improve for 10 epochs."
   ]
  },
  {
   "cell_type": "code",
   "execution_count": null,
   "metadata": {
    "id": "xY5ZC1b-NcNm"
   },
   "outputs": [],
   "source": [
    "early_stopping = EarlyStopping(monitor='val_loss', patience=30, restore_best_weights=True)\n",
    "reduce_lr = ReduceLROnPlateau(monitor='val_loss', factor=0.5, patience=10, min_lr=1e-5)"
   ]
  },
  {
   "cell_type": "code",
   "execution_count": null,
   "metadata": {
    "colab": {
     "base_uri": "https://localhost:8080/"
    },
    "id": "nIlc4kRkNf3F",
    "outputId": "eaa99db9-650b-4073-b771-b52c20ed904c"
   },
   "outputs": [
    {
     "name": "stdout",
     "output_type": "stream",
     "text": [
      "Epoch 1/200\n",
      "\u001b[1m89/89\u001b[0m \u001b[32m━━━━━━━━━━━━━━━━━━━━\u001b[0m\u001b[37m\u001b[0m \u001b[1m4s\u001b[0m 11ms/step - loss: 5.5267 - mae: 0.7863 - mse: 1.1462 - val_loss: 4.2537 - val_mae: 0.6460 - val_mse: 0.6894 - learning_rate: 0.0100\n",
      "Epoch 2/200\n",
      "\u001b[1m89/89\u001b[0m \u001b[32m━━━━━━━━━━━━━━━━━━━━\u001b[0m\u001b[37m\u001b[0m \u001b[1m1s\u001b[0m 7ms/step - loss: 3.9051 - mae: 0.5844 - mse: 0.6352 - val_loss: 3.0664 - val_mae: 0.6297 - val_mse: 0.6278 - learning_rate: 0.0100\n",
      "Epoch 3/200\n",
      "\u001b[1m89/89\u001b[0m \u001b[32m━━━━━━━━━━━━━━━━━━━━\u001b[0m\u001b[37m\u001b[0m \u001b[1m1s\u001b[0m 7ms/step - loss: 2.7299 - mae: 0.4183 - mse: 0.3994 - val_loss: 2.2618 - val_mae: 0.7043 - val_mse: 0.6028 - learning_rate: 0.0100\n",
      "Epoch 4/200\n",
      "\u001b[1m89/89\u001b[0m \u001b[32m━━━━━━━━━━━━━━━━━━━━\u001b[0m\u001b[37m\u001b[0m \u001b[1m1s\u001b[0m 6ms/step - loss: 1.9238 - mae: 0.3589 - mse: 0.2548 - val_loss: 1.6184 - val_mae: 0.5669 - val_mse: 0.4937 - learning_rate: 0.0100\n",
      "Epoch 5/200\n",
      "\u001b[1m89/89\u001b[0m \u001b[32m━━━━━━━━━━━━━━━━━━━━\u001b[0m\u001b[37m\u001b[0m \u001b[1m1s\u001b[0m 7ms/step - loss: 1.4221 - mae: 0.3802 - mse: 0.3162 - val_loss: 1.1161 - val_mae: 0.4322 - val_mse: 0.2677 - learning_rate: 0.0100\n",
      "Epoch 6/200\n",
      "\u001b[1m89/89\u001b[0m \u001b[32m━━━━━━━━━━━━━━━━━━━━\u001b[0m\u001b[37m\u001b[0m \u001b[1m1s\u001b[0m 7ms/step - loss: 1.0074 - mae: 0.3172 - mse: 0.2083 - val_loss: 0.8619 - val_mae: 0.4762 - val_mse: 0.3223 - learning_rate: 0.0100\n",
      "Epoch 7/200\n",
      "\u001b[1m89/89\u001b[0m \u001b[32m━━━━━━━━━━━━━━━━━━━━\u001b[0m\u001b[37m\u001b[0m \u001b[1m1s\u001b[0m 6ms/step - loss: 0.7392 - mae: 0.2908 - mse: 0.1843 - val_loss: 0.6979 - val_mae: 0.4964 - val_mse: 0.3870 - learning_rate: 0.0100\n",
      "Epoch 8/200\n",
      "\u001b[1m89/89\u001b[0m \u001b[32m━━━━━━━━━━━━━━━━━━━━\u001b[0m\u001b[37m\u001b[0m \u001b[1m1s\u001b[0m 7ms/step - loss: 0.5939 - mae: 0.3356 - mse: 0.2517 - val_loss: 0.5143 - val_mae: 0.4086 - val_mse: 0.2787 - learning_rate: 0.0100\n",
      "Epoch 9/200\n",
      "\u001b[1m89/89\u001b[0m \u001b[32m━━━━━━━━━━━━━━━━━━━━\u001b[0m\u001b[37m\u001b[0m \u001b[1m1s\u001b[0m 6ms/step - loss: 0.4530 - mae: 0.3162 - mse: 0.2071 - val_loss: 0.4173 - val_mae: 0.4351 - val_mse: 0.2712 - learning_rate: 0.0100\n",
      "Epoch 10/200\n",
      "\u001b[1m89/89\u001b[0m \u001b[32m━━━━━━━━━━━━━━━━━━━━\u001b[0m\u001b[37m\u001b[0m \u001b[1m1s\u001b[0m 7ms/step - loss: 0.3486 - mae: 0.2795 - mse: 0.1702 - val_loss: 0.3291 - val_mae: 0.3810 - val_mse: 0.2290 - learning_rate: 0.0100\n",
      "Epoch 11/200\n",
      "\u001b[1m89/89\u001b[0m \u001b[32m━━━━━━━━━━━━━━━━━━━━\u001b[0m\u001b[37m\u001b[0m \u001b[1m1s\u001b[0m 6ms/step - loss: 0.2780 - mae: 0.2623 - mse: 0.1598 - val_loss: 0.3622 - val_mae: 0.5546 - val_mse: 0.3970 - learning_rate: 0.0100\n",
      "Epoch 12/200\n",
      "\u001b[1m89/89\u001b[0m \u001b[32m━━━━━━━━━━━━━━━━━━━━\u001b[0m\u001b[37m\u001b[0m \u001b[1m1s\u001b[0m 6ms/step - loss: 0.2422 - mae: 0.2838 - mse: 0.1771 - val_loss: 0.3290 - val_mae: 0.4604 - val_mse: 0.4514 - learning_rate: 0.0100\n",
      "Epoch 13/200\n",
      "\u001b[1m89/89\u001b[0m \u001b[32m━━━━━━━━━━━━━━━━━━━━\u001b[0m\u001b[37m\u001b[0m \u001b[1m1s\u001b[0m 7ms/step - loss: 0.2270 - mae: 0.3117 - mse: 0.2056 - val_loss: 0.3606 - val_mae: 0.6032 - val_mse: 0.5251 - learning_rate: 0.0100\n",
      "Epoch 14/200\n",
      "\u001b[1m89/89\u001b[0m \u001b[32m━━━━━━━━━━━━━━━━━━━━\u001b[0m\u001b[37m\u001b[0m \u001b[1m1s\u001b[0m 6ms/step - loss: 0.2073 - mae: 0.3124 - mse: 0.2106 - val_loss: 0.2580 - val_mae: 0.4051 - val_mse: 0.3391 - learning_rate: 0.0100\n",
      "Epoch 15/200\n",
      "\u001b[1m89/89\u001b[0m \u001b[32m━━━━━━━━━━━━━━━━━━━━\u001b[0m\u001b[37m\u001b[0m \u001b[1m1s\u001b[0m 7ms/step - loss: 0.2044 - mae: 0.3196 - mse: 0.2206 - val_loss: 0.2291 - val_mae: 0.4491 - val_mse: 0.2808 - learning_rate: 0.0100\n",
      "Epoch 16/200\n",
      "\u001b[1m89/89\u001b[0m \u001b[32m━━━━━━━━━━━━━━━━━━━━\u001b[0m\u001b[37m\u001b[0m \u001b[1m1s\u001b[0m 9ms/step - loss: 0.1805 - mae: 0.2987 - mse: 0.1934 - val_loss: 0.3114 - val_mae: 0.4932 - val_mse: 0.5689 - learning_rate: 0.0100\n",
      "Epoch 17/200\n",
      "\u001b[1m89/89\u001b[0m \u001b[32m━━━━━━━━━━━━━━━━━━━━\u001b[0m\u001b[37m\u001b[0m \u001b[1m2s\u001b[0m 12ms/step - loss: 0.1767 - mae: 0.3110 - mse: 0.2142 - val_loss: 0.2981 - val_mae: 0.5784 - val_mse: 0.4671 - learning_rate: 0.0100\n",
      "Epoch 18/200\n",
      "\u001b[1m89/89\u001b[0m \u001b[32m━━━━━━━━━━━━━━━━━━━━\u001b[0m\u001b[37m\u001b[0m \u001b[1m1s\u001b[0m 12ms/step - loss: 0.1448 - mae: 0.2690 - mse: 0.1611 - val_loss: 0.2561 - val_mae: 0.5311 - val_mse: 0.3983 - learning_rate: 0.0100\n",
      "Epoch 19/200\n",
      "\u001b[1m89/89\u001b[0m \u001b[32m━━━━━━━━━━━━━━━━━━━━\u001b[0m\u001b[37m\u001b[0m \u001b[1m1s\u001b[0m 12ms/step - loss: 0.1385 - mae: 0.2738 - mse: 0.1614 - val_loss: 0.3321 - val_mae: 0.6000 - val_mse: 0.6451 - learning_rate: 0.0100\n",
      "Epoch 20/200\n",
      "\u001b[1m89/89\u001b[0m \u001b[32m━━━━━━━━━━━━━━━━━━━━\u001b[0m\u001b[37m\u001b[0m \u001b[1m1s\u001b[0m 7ms/step - loss: 0.1738 - mae: 0.3401 - mse: 0.2471 - val_loss: 0.1854 - val_mae: 0.3868 - val_mse: 0.2629 - learning_rate: 0.0100\n",
      "Epoch 21/200\n",
      "\u001b[1m89/89\u001b[0m \u001b[32m━━━━━━━━━━━━━━━━━━━━\u001b[0m\u001b[37m\u001b[0m \u001b[1m1s\u001b[0m 7ms/step - loss: 0.1467 - mae: 0.2861 - mse: 0.1826 - val_loss: 0.1772 - val_mae: 0.4185 - val_mse: 0.2488 - learning_rate: 0.0100\n",
      "Epoch 22/200\n",
      "\u001b[1m89/89\u001b[0m \u001b[32m━━━━━━━━━━━━━━━━━━━━\u001b[0m\u001b[37m\u001b[0m \u001b[1m1s\u001b[0m 6ms/step - loss: 0.1617 - mae: 0.3229 - mse: 0.2247 - val_loss: 0.3858 - val_mae: 0.7478 - val_mse: 0.6808 - learning_rate: 0.0100\n",
      "Epoch 23/200\n",
      "\u001b[1m89/89\u001b[0m \u001b[32m━━━━━━━━━━━━━━━━━━━━\u001b[0m\u001b[37m\u001b[0m \u001b[1m1s\u001b[0m 7ms/step - loss: 0.1722 - mae: 0.3426 - mse: 0.2553 - val_loss: 0.2595 - val_mae: 0.5007 - val_mse: 0.4326 - learning_rate: 0.0100\n",
      "Epoch 24/200\n",
      "\u001b[1m89/89\u001b[0m \u001b[32m━━━━━━━━━━━━━━━━━━━━\u001b[0m\u001b[37m\u001b[0m \u001b[1m1s\u001b[0m 7ms/step - loss: 0.1632 - mae: 0.3120 - mse: 0.2150 - val_loss: 0.2200 - val_mae: 0.3893 - val_mse: 0.3314 - learning_rate: 0.0100\n",
      "Epoch 25/200\n",
      "\u001b[1m89/89\u001b[0m \u001b[32m━━━━━━━━━━━━━━━━━━━━\u001b[0m\u001b[37m\u001b[0m \u001b[1m1s\u001b[0m 6ms/step - loss: 0.2124 - mae: 0.3891 - mse: 0.3062 - val_loss: 0.2940 - val_mae: 0.5248 - val_mse: 0.5177 - learning_rate: 0.0100\n",
      "Epoch 26/200\n",
      "\u001b[1m89/89\u001b[0m \u001b[32m━━━━━━━━━━━━━━━━━━━━\u001b[0m\u001b[37m\u001b[0m \u001b[1m1s\u001b[0m 7ms/step - loss: 0.1898 - mae: 0.3422 - mse: 0.2661 - val_loss: 0.2094 - val_mae: 0.4638 - val_mse: 0.2889 - learning_rate: 0.0100\n",
      "Epoch 27/200\n",
      "\u001b[1m89/89\u001b[0m \u001b[32m━━━━━━━━━━━━━━━━━━━━\u001b[0m\u001b[37m\u001b[0m \u001b[1m1s\u001b[0m 7ms/step - loss: 0.1517 - mae: 0.2969 - mse: 0.1787 - val_loss: 0.2165 - val_mae: 0.3862 - val_mse: 0.3267 - learning_rate: 0.0100\n",
      "Epoch 28/200\n",
      "\u001b[1m89/89\u001b[0m \u001b[32m━━━━━━━━━━━━━━━━━━━━\u001b[0m\u001b[37m\u001b[0m \u001b[1m1s\u001b[0m 6ms/step - loss: 0.1794 - mae: 0.3389 - mse: 0.2393 - val_loss: 0.3310 - val_mae: 0.5741 - val_mse: 0.6131 - learning_rate: 0.0100\n",
      "Epoch 29/200\n",
      "\u001b[1m89/89\u001b[0m \u001b[32m━━━━━━━━━━━━━━━━━━━━\u001b[0m\u001b[37m\u001b[0m \u001b[1m1s\u001b[0m 6ms/step - loss: 0.1845 - mae: 0.3394 - mse: 0.2417 - val_loss: 0.2932 - val_mae: 0.5813 - val_mse: 0.4641 - learning_rate: 0.0100\n",
      "Epoch 30/200\n",
      "\u001b[1m89/89\u001b[0m \u001b[32m━━━━━━━━━━━━━━━━━━━━\u001b[0m\u001b[37m\u001b[0m \u001b[1m1s\u001b[0m 6ms/step - loss: 0.1572 - mae: 0.2926 - mse: 0.1952 - val_loss: 0.2253 - val_mae: 0.5115 - val_mse: 0.3366 - learning_rate: 0.0100\n",
      "Epoch 31/200\n",
      "\u001b[1m89/89\u001b[0m \u001b[32m━━━━━━━━━━━━━━━━━━━━\u001b[0m\u001b[37m\u001b[0m \u001b[1m1s\u001b[0m 6ms/step - loss: 0.1486 - mae: 0.3073 - mse: 0.1895 - val_loss: 0.2137 - val_mae: 0.4629 - val_mse: 0.3248 - learning_rate: 0.0100\n",
      "Epoch 32/200\n",
      "\u001b[1m89/89\u001b[0m \u001b[32m━━━━━━━━━━━━━━━━━━━━\u001b[0m\u001b[37m\u001b[0m \u001b[1m1s\u001b[0m 7ms/step - loss: 0.1390 - mae: 0.2956 - mse: 0.1768 - val_loss: 0.1964 - val_mae: 0.4579 - val_mse: 0.2963 - learning_rate: 0.0050\n",
      "Epoch 33/200\n",
      "\u001b[1m89/89\u001b[0m \u001b[32m━━━━━━━━━━━━━━━━━━━━\u001b[0m\u001b[37m\u001b[0m \u001b[1m1s\u001b[0m 7ms/step - loss: 0.1184 - mae: 0.2464 - mse: 0.1426 - val_loss: 0.1860 - val_mae: 0.4315 - val_mse: 0.2870 - learning_rate: 0.0050\n",
      "Epoch 34/200\n",
      "\u001b[1m89/89\u001b[0m \u001b[32m━━━━━━━━━━━━━━━━━━━━\u001b[0m\u001b[37m\u001b[0m \u001b[1m1s\u001b[0m 7ms/step - loss: 0.1099 - mae: 0.2532 - mse: 0.1320 - val_loss: 0.1457 - val_mae: 0.3575 - val_mse: 0.2149 - learning_rate: 0.0050\n",
      "Epoch 35/200\n",
      "\u001b[1m89/89\u001b[0m \u001b[32m━━━━━━━━━━━━━━━━━━━━\u001b[0m\u001b[37m\u001b[0m \u001b[1m1s\u001b[0m 7ms/step - loss: 0.1121 - mae: 0.2655 - mse: 0.1458 - val_loss: 0.1578 - val_mae: 0.4190 - val_mse: 0.2432 - learning_rate: 0.0050\n",
      "Epoch 36/200\n",
      "\u001b[1m89/89\u001b[0m \u001b[32m━━━━━━━━━━━━━━━━━━━━\u001b[0m\u001b[37m\u001b[0m \u001b[1m1s\u001b[0m 9ms/step - loss: 0.1041 - mae: 0.2475 - mse: 0.1350 - val_loss: 0.1334 - val_mae: 0.3428 - val_mse: 0.2002 - learning_rate: 0.0050\n",
      "Epoch 37/200\n",
      "\u001b[1m89/89\u001b[0m \u001b[32m━━━━━━━━━━━━━━━━━━━━\u001b[0m\u001b[37m\u001b[0m \u001b[1m1s\u001b[0m 12ms/step - loss: 0.0892 - mae: 0.2164 - mse: 0.1110 - val_loss: 0.1600 - val_mae: 0.4093 - val_mse: 0.2600 - learning_rate: 0.0050\n",
      "Epoch 38/200\n",
      "\u001b[1m89/89\u001b[0m \u001b[32m━━━━━━━━━━━━━━━━━━━━\u001b[0m\u001b[37m\u001b[0m \u001b[1m1s\u001b[0m 12ms/step - loss: 0.1013 - mae: 0.2532 - mse: 0.1367 - val_loss: 0.1547 - val_mae: 0.4037 - val_mse: 0.2473 - learning_rate: 0.0050\n",
      "Epoch 39/200\n",
      "\u001b[1m89/89\u001b[0m \u001b[32m━━━━━━━━━━━━━━━━━━━━\u001b[0m\u001b[37m\u001b[0m \u001b[1m1s\u001b[0m 13ms/step - loss: 0.0951 - mae: 0.2399 - mse: 0.1277 - val_loss: 0.1992 - val_mae: 0.4716 - val_mse: 0.3409 - learning_rate: 0.0050\n",
      "Epoch 40/200\n",
      "\u001b[1m89/89\u001b[0m \u001b[32m━━━━━━━━━━━━━━━━━━━━\u001b[0m\u001b[37m\u001b[0m \u001b[1m1s\u001b[0m 11ms/step - loss: 0.0914 - mae: 0.2278 - mse: 0.1202 - val_loss: 0.2579 - val_mae: 0.5136 - val_mse: 0.5181 - learning_rate: 0.0050\n",
      "Epoch 41/200\n",
      "\u001b[1m89/89\u001b[0m \u001b[32m━━━━━━━━━━━━━━━━━━━━\u001b[0m\u001b[37m\u001b[0m \u001b[1m1s\u001b[0m 7ms/step - loss: 0.1005 - mae: 0.2421 - mse: 0.1411 - val_loss: 0.1752 - val_mae: 0.4301 - val_mse: 0.2934 - learning_rate: 0.0050\n",
      "Epoch 42/200\n",
      "\u001b[1m89/89\u001b[0m \u001b[32m━━━━━━━━━━━━━━━━━━━━\u001b[0m\u001b[37m\u001b[0m \u001b[1m1s\u001b[0m 6ms/step - loss: 0.1220 - mae: 0.2922 - mse: 0.1868 - val_loss: 0.1637 - val_mae: 0.4198 - val_mse: 0.2628 - learning_rate: 0.0050\n",
      "Epoch 43/200\n",
      "\u001b[1m89/89\u001b[0m \u001b[32m━━━━━━━━━━━━━━━━━━━━\u001b[0m\u001b[37m\u001b[0m \u001b[1m1s\u001b[0m 7ms/step - loss: 0.1008 - mae: 0.2350 - mse: 0.1405 - val_loss: 0.1666 - val_mae: 0.3949 - val_mse: 0.2783 - learning_rate: 0.0050\n",
      "Epoch 44/200\n",
      "\u001b[1m89/89\u001b[0m \u001b[32m━━━━━━━━━━━━━━━━━━━━\u001b[0m\u001b[37m\u001b[0m \u001b[1m1s\u001b[0m 6ms/step - loss: 0.1075 - mae: 0.2637 - mse: 0.1536 - val_loss: 0.2386 - val_mae: 0.5752 - val_mse: 0.4148 - learning_rate: 0.0050\n",
      "Epoch 45/200\n",
      "\u001b[1m89/89\u001b[0m \u001b[32m━━━━━━━━━━━━━━━━━━━━\u001b[0m\u001b[37m\u001b[0m \u001b[1m1s\u001b[0m 7ms/step - loss: 0.0975 - mae: 0.2492 - mse: 0.1329 - val_loss: 0.2194 - val_mae: 0.4924 - val_mse: 0.4028 - learning_rate: 0.0050\n",
      "Epoch 46/200\n",
      "\u001b[1m89/89\u001b[0m \u001b[32m━━━━━━━━━━━━━━━━━━━━\u001b[0m\u001b[37m\u001b[0m \u001b[1m1s\u001b[0m 6ms/step - loss: 0.1006 - mae: 0.2472 - mse: 0.1456 - val_loss: 0.2336 - val_mae: 0.5339 - val_mse: 0.4172 - learning_rate: 0.0050\n",
      "Epoch 47/200\n",
      "\u001b[1m89/89\u001b[0m \u001b[32m━━━━━━━━━━━━━━━━━━━━\u001b[0m\u001b[37m\u001b[0m \u001b[1m1s\u001b[0m 7ms/step - loss: 0.0926 - mae: 0.2412 - mse: 0.1260 - val_loss: 0.1839 - val_mae: 0.4337 - val_mse: 0.3214 - learning_rate: 0.0025\n",
      "Epoch 48/200\n",
      "\u001b[1m89/89\u001b[0m \u001b[32m━━━━━━━━━━━━━━━━━━━━\u001b[0m\u001b[37m\u001b[0m \u001b[1m1s\u001b[0m 6ms/step - loss: 0.0791 - mae: 0.2053 - mse: 0.1020 - val_loss: 0.1693 - val_mae: 0.4196 - val_mse: 0.2885 - learning_rate: 0.0025\n",
      "Epoch 49/200\n",
      "\u001b[1m89/89\u001b[0m \u001b[32m━━━━━━━━━━━━━━━━━━━━\u001b[0m\u001b[37m\u001b[0m \u001b[1m1s\u001b[0m 7ms/step - loss: 0.0696 - mae: 0.1940 - mse: 0.0834 - val_loss: 0.1546 - val_mae: 0.4337 - val_mse: 0.2578 - learning_rate: 0.0025\n",
      "Epoch 50/200\n",
      "\u001b[1m89/89\u001b[0m \u001b[32m━━━━━━━━━━━━━━━━━━━━\u001b[0m\u001b[37m\u001b[0m \u001b[1m1s\u001b[0m 6ms/step - loss: 0.0736 - mae: 0.2054 - mse: 0.0965 - val_loss: 0.1422 - val_mae: 0.3967 - val_mse: 0.2404 - learning_rate: 0.0025\n",
      "Epoch 51/200\n",
      "\u001b[1m89/89\u001b[0m \u001b[32m━━━━━━━━━━━━━━━━━━━━\u001b[0m\u001b[37m\u001b[0m \u001b[1m1s\u001b[0m 7ms/step - loss: 0.0737 - mae: 0.2106 - mse: 0.0987 - val_loss: 0.1304 - val_mae: 0.3302 - val_mse: 0.2193 - learning_rate: 0.0025\n",
      "Epoch 52/200\n",
      "\u001b[1m89/89\u001b[0m \u001b[32m━━━━━━━━━━━━━━━━━━━━\u001b[0m\u001b[37m\u001b[0m \u001b[1m1s\u001b[0m 7ms/step - loss: 0.0703 - mae: 0.2064 - mse: 0.0930 - val_loss: 0.1392 - val_mae: 0.3531 - val_mse: 0.2404 - learning_rate: 0.0025\n",
      "Epoch 53/200\n",
      "\u001b[1m89/89\u001b[0m \u001b[32m━━━━━━━━━━━━━━━━━━━━\u001b[0m\u001b[37m\u001b[0m \u001b[1m1s\u001b[0m 6ms/step - loss: 0.0752 - mae: 0.2186 - mse: 0.1044 - val_loss: 0.1828 - val_mae: 0.4244 - val_mse: 0.3466 - learning_rate: 0.0025\n",
      "Epoch 54/200\n",
      "\u001b[1m89/89\u001b[0m \u001b[32m━━━━━━━━━━━━━━━━━━━━\u001b[0m\u001b[37m\u001b[0m \u001b[1m1s\u001b[0m 7ms/step - loss: 0.0702 - mae: 0.2124 - mse: 0.0957 - val_loss: 0.1280 - val_mae: 0.3700 - val_mse: 0.2161 - learning_rate: 0.0025\n",
      "Epoch 55/200\n",
      "\u001b[1m89/89\u001b[0m \u001b[32m━━━━━━━━━━━━━━━━━━━━\u001b[0m\u001b[37m\u001b[0m \u001b[1m2s\u001b[0m 11ms/step - loss: 0.0653 - mae: 0.1954 - mse: 0.0901 - val_loss: 0.1458 - val_mae: 0.3877 - val_mse: 0.2539 - learning_rate: 0.0025\n",
      "Epoch 56/200\n",
      "\u001b[1m89/89\u001b[0m \u001b[32m━━━━━━━━━━━━━━━━━━━━\u001b[0m\u001b[37m\u001b[0m \u001b[1m1s\u001b[0m 12ms/step - loss: 0.0629 - mae: 0.1943 - mse: 0.0834 - val_loss: 0.1595 - val_mae: 0.4193 - val_mse: 0.2853 - learning_rate: 0.0025\n",
      "Epoch 57/200\n",
      "\u001b[1m89/89\u001b[0m \u001b[32m━━━━━━━━━━━━━━━━━━━━\u001b[0m\u001b[37m\u001b[0m \u001b[1m1s\u001b[0m 12ms/step - loss: 0.0641 - mae: 0.1962 - mse: 0.0907 - val_loss: 0.2006 - val_mae: 0.4872 - val_mse: 0.3762 - learning_rate: 0.0025\n",
      "Epoch 58/200\n",
      "\u001b[1m89/89\u001b[0m \u001b[32m━━━━━━━━━━━━━━━━━━━━\u001b[0m\u001b[37m\u001b[0m \u001b[1m1s\u001b[0m 7ms/step - loss: 0.0698 - mae: 0.2154 - mse: 0.1005 - val_loss: 0.1264 - val_mae: 0.3626 - val_mse: 0.2180 - learning_rate: 0.0025\n",
      "Epoch 59/200\n",
      "\u001b[1m89/89\u001b[0m \u001b[32m━━━━━━━━━━━━━━━━━━━━\u001b[0m\u001b[37m\u001b[0m \u001b[1m1s\u001b[0m 7ms/step - loss: 0.0671 - mae: 0.2026 - mse: 0.0963 - val_loss: 0.1291 - val_mae: 0.3868 - val_mse: 0.2215 - learning_rate: 0.0025\n",
      "Epoch 60/200\n",
      "\u001b[1m89/89\u001b[0m \u001b[32m━━━━━━━━━━━━━━━━━━━━\u001b[0m\u001b[37m\u001b[0m \u001b[1m1s\u001b[0m 7ms/step - loss: 0.0600 - mae: 0.1932 - mse: 0.0820 - val_loss: 0.1838 - val_mae: 0.4749 - val_mse: 0.3446 - learning_rate: 0.0025\n",
      "Epoch 61/200\n",
      "\u001b[1m89/89\u001b[0m \u001b[32m━━━━━━━━━━━━━━━━━━━━\u001b[0m\u001b[37m\u001b[0m \u001b[1m1s\u001b[0m 6ms/step - loss: 0.0579 - mae: 0.1832 - mse: 0.0775 - val_loss: 0.1455 - val_mae: 0.4263 - val_mse: 0.2567 - learning_rate: 0.0025\n",
      "Epoch 62/200\n",
      "\u001b[1m89/89\u001b[0m \u001b[32m━━━━━━━━━━━━━━━━━━━━\u001b[0m\u001b[37m\u001b[0m \u001b[1m1s\u001b[0m 7ms/step - loss: 0.0588 - mae: 0.1923 - mse: 0.0802 - val_loss: 0.1534 - val_mae: 0.3815 - val_mse: 0.2917 - learning_rate: 0.0025\n",
      "Epoch 63/200\n",
      "\u001b[1m89/89\u001b[0m \u001b[32m━━━━━━━━━━━━━━━━━━━━\u001b[0m\u001b[37m\u001b[0m \u001b[1m1s\u001b[0m 6ms/step - loss: 0.0653 - mae: 0.2060 - mse: 0.0939 - val_loss: 0.1454 - val_mae: 0.4052 - val_mse: 0.2602 - learning_rate: 0.0025\n",
      "Epoch 64/200\n",
      "\u001b[1m89/89\u001b[0m \u001b[32m━━━━━━━━━━━━━━━━━━━━\u001b[0m\u001b[37m\u001b[0m \u001b[1m1s\u001b[0m 7ms/step - loss: 0.0672 - mae: 0.2037 - mse: 0.0962 - val_loss: 0.1124 - val_mae: 0.3309 - val_mse: 0.1914 - learning_rate: 0.0025\n",
      "Epoch 65/200\n",
      "\u001b[1m89/89\u001b[0m \u001b[32m━━━━━━━━━━━━━━━━━━━━\u001b[0m\u001b[37m\u001b[0m \u001b[1m1s\u001b[0m 7ms/step - loss: 0.0659 - mae: 0.2063 - mse: 0.0934 - val_loss: 0.1036 - val_mae: 0.2891 - val_mse: 0.1764 - learning_rate: 0.0025\n",
      "Epoch 66/200\n",
      "\u001b[1m89/89\u001b[0m \u001b[32m━━━━━━━━━━━━━━━━━━━━\u001b[0m\u001b[37m\u001b[0m \u001b[1m1s\u001b[0m 6ms/step - loss: 0.0702 - mae: 0.2054 - mse: 0.1037 - val_loss: 0.1087 - val_mae: 0.3139 - val_mse: 0.1852 - learning_rate: 0.0025\n",
      "Epoch 67/200\n",
      "\u001b[1m89/89\u001b[0m \u001b[32m━━━━━━━━━━━━━━━━━━━━\u001b[0m\u001b[37m\u001b[0m \u001b[1m1s\u001b[0m 6ms/step - loss: 0.0689 - mae: 0.2043 - mse: 0.0991 - val_loss: 0.1113 - val_mae: 0.3283 - val_mse: 0.1867 - learning_rate: 0.0025\n",
      "Epoch 68/200\n",
      "\u001b[1m89/89\u001b[0m \u001b[32m━━━━━━━━━━━━━━━━━━━━\u001b[0m\u001b[37m\u001b[0m \u001b[1m1s\u001b[0m 6ms/step - loss: 0.0603 - mae: 0.1941 - mse: 0.0815 - val_loss: 0.1261 - val_mae: 0.3421 - val_mse: 0.2216 - learning_rate: 0.0025\n",
      "Epoch 69/200\n",
      "\u001b[1m89/89\u001b[0m \u001b[32m━━━━━━━━━━━━━━━━━━━━\u001b[0m\u001b[37m\u001b[0m \u001b[1m1s\u001b[0m 6ms/step - loss: 0.0753 - mae: 0.2184 - mse: 0.1177 - val_loss: 0.1160 - val_mae: 0.3188 - val_mse: 0.2004 - learning_rate: 0.0025\n",
      "Epoch 70/200\n",
      "\u001b[1m89/89\u001b[0m \u001b[32m━━━━━━━━━━━━━━━━━━━━\u001b[0m\u001b[37m\u001b[0m \u001b[1m1s\u001b[0m 7ms/step - loss: 0.0608 - mae: 0.1959 - mse: 0.0823 - val_loss: 0.2328 - val_mae: 0.4392 - val_mse: 0.5099 - learning_rate: 0.0025\n",
      "Epoch 71/200\n",
      "\u001b[1m89/89\u001b[0m \u001b[32m━━━━━━━━━━━━━━━━━━━━\u001b[0m\u001b[37m\u001b[0m \u001b[1m1s\u001b[0m 6ms/step - loss: 0.0665 - mae: 0.2063 - mse: 0.0942 - val_loss: 0.1611 - val_mae: 0.4299 - val_mse: 0.2949 - learning_rate: 0.0025\n",
      "Epoch 72/200\n",
      "\u001b[1m89/89\u001b[0m \u001b[32m━━━━━━━━━━━━━━━━━━━━\u001b[0m\u001b[37m\u001b[0m \u001b[1m1s\u001b[0m 7ms/step - loss: 0.0619 - mae: 0.1930 - mse: 0.0841 - val_loss: 0.1260 - val_mae: 0.3519 - val_mse: 0.2178 - learning_rate: 0.0025\n",
      "Epoch 73/200\n",
      "\u001b[1m89/89\u001b[0m \u001b[32m━━━━━━━━━━━━━━━━━━━━\u001b[0m\u001b[37m\u001b[0m \u001b[1m2s\u001b[0m 12ms/step - loss: 0.0577 - mae: 0.1822 - mse: 0.0763 - val_loss: 0.1366 - val_mae: 0.3589 - val_mse: 0.2452 - learning_rate: 0.0025\n",
      "Epoch 74/200\n",
      "\u001b[1m89/89\u001b[0m \u001b[32m━━━━━━━━━━━━━━━━━━━━\u001b[0m\u001b[37m\u001b[0m \u001b[1m1s\u001b[0m 11ms/step - loss: 0.0576 - mae: 0.1845 - mse: 0.0789 - val_loss: 0.1568 - val_mae: 0.3794 - val_mse: 0.2925 - learning_rate: 0.0025\n",
      "Epoch 75/200\n",
      "\u001b[1m89/89\u001b[0m \u001b[32m━━━━━━━━━━━━━━━━━━━━\u001b[0m\u001b[37m\u001b[0m \u001b[1m1s\u001b[0m 12ms/step - loss: 0.0721 - mae: 0.2188 - mse: 0.1092 - val_loss: 0.1044 - val_mae: 0.2994 - val_mse: 0.1753 - learning_rate: 0.0025\n",
      "Epoch 76/200\n",
      "\u001b[1m89/89\u001b[0m \u001b[32m━━━━━━━━━━━━━━━━━━━━\u001b[0m\u001b[37m\u001b[0m \u001b[1m1s\u001b[0m 9ms/step - loss: 0.0679 - mae: 0.2078 - mse: 0.0964 - val_loss: 0.1427 - val_mae: 0.3526 - val_mse: 0.2594 - learning_rate: 0.0012\n",
      "Epoch 77/200\n",
      "\u001b[1m89/89\u001b[0m \u001b[32m━━━━━━━━━━━━━━━━━━━━\u001b[0m\u001b[37m\u001b[0m \u001b[1m1s\u001b[0m 7ms/step - loss: 0.0507 - mae: 0.1684 - mse: 0.0617 - val_loss: 0.1437 - val_mae: 0.3553 - val_mse: 0.2671 - learning_rate: 0.0012\n",
      "Epoch 78/200\n",
      "\u001b[1m89/89\u001b[0m \u001b[32m━━━━━━━━━━━━━━━━━━━━\u001b[0m\u001b[37m\u001b[0m \u001b[1m1s\u001b[0m 6ms/step - loss: 0.0554 - mae: 0.1743 - mse: 0.0748 - val_loss: 0.0993 - val_mae: 0.3009 - val_mse: 0.1683 - learning_rate: 0.0012\n",
      "Epoch 79/200\n",
      "\u001b[1m89/89\u001b[0m \u001b[32m━━━━━━━━━━━━━━━━━━━━\u001b[0m\u001b[37m\u001b[0m \u001b[1m1s\u001b[0m 7ms/step - loss: 0.0560 - mae: 0.1810 - mse: 0.0784 - val_loss: 0.1377 - val_mae: 0.3407 - val_mse: 0.2586 - learning_rate: 0.0012\n",
      "Epoch 80/200\n",
      "\u001b[1m89/89\u001b[0m \u001b[32m━━━━━━━━━━━━━━━━━━━━\u001b[0m\u001b[37m\u001b[0m \u001b[1m1s\u001b[0m 7ms/step - loss: 0.0500 - mae: 0.1645 - mse: 0.0658 - val_loss: 0.1253 - val_mae: 0.3230 - val_mse: 0.2264 - learning_rate: 0.0012\n",
      "Epoch 81/200\n",
      "\u001b[1m89/89\u001b[0m \u001b[32m━━━━━━━━━━━━━━━━━━━━\u001b[0m\u001b[37m\u001b[0m \u001b[1m1s\u001b[0m 6ms/step - loss: 0.0474 - mae: 0.1636 - mse: 0.0591 - val_loss: 0.1275 - val_mae: 0.3388 - val_mse: 0.2320 - learning_rate: 0.0012\n",
      "Epoch 82/200\n",
      "\u001b[1m89/89\u001b[0m \u001b[32m━━━━━━━━━━━━━━━━━━━━\u001b[0m\u001b[37m\u001b[0m \u001b[1m1s\u001b[0m 7ms/step - loss: 0.0538 - mae: 0.1783 - mse: 0.0769 - val_loss: 0.1458 - val_mae: 0.3618 - val_mse: 0.2727 - learning_rate: 0.0012\n",
      "Epoch 83/200\n",
      "\u001b[1m89/89\u001b[0m \u001b[32m━━━━━━━━━━━━━━━━━━━━\u001b[0m\u001b[37m\u001b[0m \u001b[1m1s\u001b[0m 6ms/step - loss: 0.0502 - mae: 0.1737 - mse: 0.0685 - val_loss: 0.1153 - val_mae: 0.3285 - val_mse: 0.2055 - learning_rate: 0.0012\n",
      "Epoch 84/200\n",
      "\u001b[1m89/89\u001b[0m \u001b[32m━━━━━━━━━━━━━━━━━━━━\u001b[0m\u001b[37m\u001b[0m \u001b[1m1s\u001b[0m 7ms/step - loss: 0.0451 - mae: 0.1547 - mse: 0.0571 - val_loss: 0.1113 - val_mae: 0.3187 - val_mse: 0.1981 - learning_rate: 0.0012\n",
      "Epoch 85/200\n",
      "\u001b[1m89/89\u001b[0m \u001b[32m━━━━━━━━━━━━━━━━━━━━\u001b[0m\u001b[37m\u001b[0m \u001b[1m1s\u001b[0m 7ms/step - loss: 0.0490 - mae: 0.1675 - mse: 0.0668 - val_loss: 0.0977 - val_mae: 0.3035 - val_mse: 0.1698 - learning_rate: 0.0012\n",
      "Epoch 86/200\n",
      "\u001b[1m89/89\u001b[0m \u001b[32m━━━━━━━━━━━━━━━━━━━━\u001b[0m\u001b[37m\u001b[0m \u001b[1m1s\u001b[0m 7ms/step - loss: 0.0498 - mae: 0.1713 - mse: 0.0705 - val_loss: 0.1341 - val_mae: 0.3469 - val_mse: 0.2496 - learning_rate: 0.0012\n",
      "Epoch 87/200\n",
      "\u001b[1m89/89\u001b[0m \u001b[32m━━━━━━━━━━━━━━━━━━━━\u001b[0m\u001b[37m\u001b[0m \u001b[1m1s\u001b[0m 7ms/step - loss: 0.0458 - mae: 0.1637 - mse: 0.0592 - val_loss: 0.1274 - val_mae: 0.3494 - val_mse: 0.2327 - learning_rate: 0.0012\n",
      "Epoch 88/200\n",
      "\u001b[1m89/89\u001b[0m \u001b[32m━━━━━━━━━━━━━━━━━━━━\u001b[0m\u001b[37m\u001b[0m \u001b[1m1s\u001b[0m 7ms/step - loss: 0.0473 - mae: 0.1665 - mse: 0.0635 - val_loss: 0.1242 - val_mae: 0.3258 - val_mse: 0.2291 - learning_rate: 0.0012\n",
      "Epoch 89/200\n",
      "\u001b[1m89/89\u001b[0m \u001b[32m━━━━━━━━━━━━━━━━━━━━\u001b[0m\u001b[37m\u001b[0m \u001b[1m1s\u001b[0m 8ms/step - loss: 0.0487 - mae: 0.1718 - mse: 0.0676 - val_loss: 0.0895 - val_mae: 0.2858 - val_mse: 0.1536 - learning_rate: 0.0012\n",
      "Epoch 90/200\n",
      "\u001b[1m89/89\u001b[0m \u001b[32m━━━━━━━━━━━━━━━━━━━━\u001b[0m\u001b[37m\u001b[0m \u001b[1m2s\u001b[0m 13ms/step - loss: 0.0485 - mae: 0.1728 - mse: 0.0674 - val_loss: 0.1168 - val_mae: 0.3303 - val_mse: 0.2149 - learning_rate: 0.0012\n",
      "Epoch 91/200\n",
      "\u001b[1m89/89\u001b[0m \u001b[32m━━━━━━━━━━━━━━━━━━━━\u001b[0m\u001b[37m\u001b[0m \u001b[1m1s\u001b[0m 12ms/step - loss: 0.0425 - mae: 0.1511 - mse: 0.0573 - val_loss: 0.1626 - val_mae: 0.3918 - val_mse: 0.3167 - learning_rate: 0.0012\n",
      "Epoch 92/200\n",
      "\u001b[1m89/89\u001b[0m \u001b[32m━━━━━━━━━━━━━━━━━━━━\u001b[0m\u001b[37m\u001b[0m \u001b[1m1s\u001b[0m 12ms/step - loss: 0.0449 - mae: 0.1615 - mse: 0.0606 - val_loss: 0.1044 - val_mae: 0.3099 - val_mse: 0.1878 - learning_rate: 0.0012\n",
      "Epoch 93/200\n",
      "\u001b[1m89/89\u001b[0m \u001b[32m━━━━━━━━━━━━━━━━━━━━\u001b[0m\u001b[37m\u001b[0m \u001b[1m1s\u001b[0m 7ms/step - loss: 0.0427 - mae: 0.1569 - mse: 0.0582 - val_loss: 0.0970 - val_mae: 0.2916 - val_mse: 0.1746 - learning_rate: 0.0012\n",
      "Epoch 94/200\n",
      "\u001b[1m89/89\u001b[0m \u001b[32m━━━━━━━━━━━━━━━━━━━━\u001b[0m\u001b[37m\u001b[0m \u001b[1m1s\u001b[0m 7ms/step - loss: 0.0490 - mae: 0.1683 - mse: 0.0699 - val_loss: 0.1212 - val_mae: 0.3373 - val_mse: 0.2219 - learning_rate: 0.0012\n",
      "Epoch 95/200\n",
      "\u001b[1m89/89\u001b[0m \u001b[32m━━━━━━━━━━━━━━━━━━━━\u001b[0m\u001b[37m\u001b[0m \u001b[1m1s\u001b[0m 7ms/step - loss: 0.0425 - mae: 0.1584 - mse: 0.0559 - val_loss: 0.0932 - val_mae: 0.2800 - val_mse: 0.1644 - learning_rate: 0.0012\n",
      "Epoch 96/200\n",
      "\u001b[1m89/89\u001b[0m \u001b[32m━━━━━━━━━━━━━━━━━━━━\u001b[0m\u001b[37m\u001b[0m \u001b[1m1s\u001b[0m 6ms/step - loss: 0.0500 - mae: 0.1758 - mse: 0.0716 - val_loss: 0.1221 - val_mae: 0.3287 - val_mse: 0.2264 - learning_rate: 0.0012\n",
      "Epoch 97/200\n",
      "\u001b[1m89/89\u001b[0m \u001b[32m━━━━━━━━━━━━━━━━━━━━\u001b[0m\u001b[37m\u001b[0m \u001b[1m1s\u001b[0m 7ms/step - loss: 0.0494 - mae: 0.1737 - mse: 0.0702 - val_loss: 0.1207 - val_mae: 0.3226 - val_mse: 0.2227 - learning_rate: 0.0012\n",
      "Epoch 98/200\n",
      "\u001b[1m89/89\u001b[0m \u001b[32m━━━━━━━━━━━━━━━━━━━━\u001b[0m\u001b[37m\u001b[0m \u001b[1m1s\u001b[0m 7ms/step - loss: 0.0415 - mae: 0.1534 - mse: 0.0541 - val_loss: 0.1064 - val_mae: 0.3256 - val_mse: 0.1904 - learning_rate: 0.0012\n",
      "Epoch 99/200\n",
      "\u001b[1m89/89\u001b[0m \u001b[32m━━━━━━━━━━━━━━━━━━━━\u001b[0m\u001b[37m\u001b[0m \u001b[1m1s\u001b[0m 7ms/step - loss: 0.0454 - mae: 0.1682 - mse: 0.0627 - val_loss: 0.1128 - val_mae: 0.3162 - val_mse: 0.2059 - learning_rate: 0.0012\n",
      "Epoch 100/200\n",
      "\u001b[1m89/89\u001b[0m \u001b[32m━━━━━━━━━━━━━━━━━━━━\u001b[0m\u001b[37m\u001b[0m \u001b[1m1s\u001b[0m 6ms/step - loss: 0.0464 - mae: 0.1640 - mse: 0.0670 - val_loss: 0.1282 - val_mae: 0.3397 - val_mse: 0.2392 - learning_rate: 6.2500e-04\n",
      "Epoch 101/200\n",
      "\u001b[1m89/89\u001b[0m \u001b[32m━━━━━━━━━━━━━━━━━━━━\u001b[0m\u001b[37m\u001b[0m \u001b[1m1s\u001b[0m 7ms/step - loss: 0.0438 - mae: 0.1598 - mse: 0.0602 - val_loss: 0.1109 - val_mae: 0.3184 - val_mse: 0.2029 - learning_rate: 6.2500e-04\n",
      "Epoch 102/200\n",
      "\u001b[1m89/89\u001b[0m \u001b[32m━━━━━━━━━━━━━━━━━━━━\u001b[0m\u001b[37m\u001b[0m \u001b[1m1s\u001b[0m 7ms/step - loss: 0.0412 - mae: 0.1507 - mse: 0.0583 - val_loss: 0.1241 - val_mae: 0.3357 - val_mse: 0.2319 - learning_rate: 6.2500e-04\n",
      "Epoch 103/200\n",
      "\u001b[1m89/89\u001b[0m \u001b[32m━━━━━━━━━━━━━━━━━━━━\u001b[0m\u001b[37m\u001b[0m \u001b[1m1s\u001b[0m 7ms/step - loss: 0.0393 - mae: 0.1486 - mse: 0.0530 - val_loss: 0.1447 - val_mae: 0.3553 - val_mse: 0.2788 - learning_rate: 6.2500e-04\n",
      "Epoch 104/200\n",
      "\u001b[1m89/89\u001b[0m \u001b[32m━━━━━━━━━━━━━━━━━━━━\u001b[0m\u001b[37m\u001b[0m \u001b[1m1s\u001b[0m 7ms/step - loss: 0.0424 - mae: 0.1566 - mse: 0.0586 - val_loss: 0.1082 - val_mae: 0.3150 - val_mse: 0.1981 - learning_rate: 6.2500e-04\n",
      "Epoch 105/200\n",
      "\u001b[1m89/89\u001b[0m \u001b[32m━━━━━━━━━━━━━━━━━━━━\u001b[0m\u001b[37m\u001b[0m \u001b[1m1s\u001b[0m 7ms/step - loss: 0.0340 - mae: 0.1352 - mse: 0.0418 - val_loss: 0.1437 - val_mae: 0.3571 - val_mse: 0.2788 - learning_rate: 6.2500e-04\n",
      "Epoch 106/200\n",
      "\u001b[1m89/89\u001b[0m \u001b[32m━━━━━━━━━━━━━━━━━━━━\u001b[0m\u001b[37m\u001b[0m \u001b[1m2s\u001b[0m 11ms/step - loss: 0.0384 - mae: 0.1456 - mse: 0.0506 - val_loss: 0.1128 - val_mae: 0.3145 - val_mse: 0.2100 - learning_rate: 6.2500e-04\n",
      "Epoch 107/200\n",
      "\u001b[1m89/89\u001b[0m \u001b[32m━━━━━━━━━━━━━━━━━━━━\u001b[0m\u001b[37m\u001b[0m \u001b[1m1s\u001b[0m 11ms/step - loss: 0.0378 - mae: 0.1434 - mse: 0.0508 - val_loss: 0.1428 - val_mae: 0.3666 - val_mse: 0.2743 - learning_rate: 6.2500e-04\n",
      "Epoch 108/200\n",
      "\u001b[1m89/89\u001b[0m \u001b[32m━━━━━━━━━━━━━━━━━━━━\u001b[0m\u001b[37m\u001b[0m \u001b[1m1s\u001b[0m 12ms/step - loss: 0.0373 - mae: 0.1426 - mse: 0.0513 - val_loss: 0.1066 - val_mae: 0.3144 - val_mse: 0.1962 - learning_rate: 6.2500e-04\n",
      "Epoch 109/200\n",
      "\u001b[1m89/89\u001b[0m \u001b[32m━━━━━━━━━━━━━━━━━━━━\u001b[0m\u001b[37m\u001b[0m \u001b[1m1s\u001b[0m 7ms/step - loss: 0.0334 - mae: 0.1362 - mse: 0.0409 - val_loss: 0.1366 - val_mae: 0.3555 - val_mse: 0.2611 - learning_rate: 6.2500e-04\n",
      "Epoch 110/200\n",
      "\u001b[1m89/89\u001b[0m \u001b[32m━━━━━━━━━━━━━━━━━━━━\u001b[0m\u001b[37m\u001b[0m \u001b[1m1s\u001b[0m 7ms/step - loss: 0.0382 - mae: 0.1445 - mse: 0.0564 - val_loss: 0.1119 - val_mae: 0.3197 - val_mse: 0.2078 - learning_rate: 3.1250e-04\n",
      "Epoch 111/200\n",
      "\u001b[1m89/89\u001b[0m \u001b[32m━━━━━━━━━━━━━━━━━━━━\u001b[0m\u001b[37m\u001b[0m \u001b[1m1s\u001b[0m 6ms/step - loss: 0.0387 - mae: 0.1411 - mse: 0.0582 - val_loss: 0.1241 - val_mae: 0.3334 - val_mse: 0.2363 - learning_rate: 3.1250e-04\n",
      "Epoch 112/200\n",
      "\u001b[1m89/89\u001b[0m \u001b[32m━━━━━━━━━━━━━━━━━━━━\u001b[0m\u001b[37m\u001b[0m \u001b[1m1s\u001b[0m 6ms/step - loss: 0.0351 - mae: 0.1364 - mse: 0.0461 - val_loss: 0.1194 - val_mae: 0.3319 - val_mse: 0.2250 - learning_rate: 3.1250e-04\n",
      "Epoch 113/200\n",
      "\u001b[1m89/89\u001b[0m \u001b[32m━━━━━━━━━━━━━━━━━━━━\u001b[0m\u001b[37m\u001b[0m \u001b[1m1s\u001b[0m 7ms/step - loss: 0.0338 - mae: 0.1326 - mse: 0.0443 - val_loss: 0.1116 - val_mae: 0.3182 - val_mse: 0.2076 - learning_rate: 3.1250e-04\n",
      "Epoch 114/200\n",
      "\u001b[1m89/89\u001b[0m \u001b[32m━━━━━━━━━━━━━━━━━━━━\u001b[0m\u001b[37m\u001b[0m \u001b[1m1s\u001b[0m 7ms/step - loss: 0.0368 - mae: 0.1474 - mse: 0.0487 - val_loss: 0.1119 - val_mae: 0.3205 - val_mse: 0.2085 - learning_rate: 3.1250e-04\n",
      "Epoch 115/200\n",
      "\u001b[1m89/89\u001b[0m \u001b[32m━━━━━━━━━━━━━━━━━━━━\u001b[0m\u001b[37m\u001b[0m \u001b[1m1s\u001b[0m 7ms/step - loss: 0.0346 - mae: 0.1412 - mse: 0.0432 - val_loss: 0.1178 - val_mae: 0.3286 - val_mse: 0.2211 - learning_rate: 3.1250e-04\n",
      "Epoch 116/200\n",
      "\u001b[1m89/89\u001b[0m \u001b[32m━━━━━━━━━━━━━━━━━━━━\u001b[0m\u001b[37m\u001b[0m \u001b[1m1s\u001b[0m 7ms/step - loss: 0.0353 - mae: 0.1405 - mse: 0.0456 - val_loss: 0.1091 - val_mae: 0.3147 - val_mse: 0.2019 - learning_rate: 3.1250e-04\n",
      "Epoch 117/200\n",
      "\u001b[1m89/89\u001b[0m \u001b[32m━━━━━━━━━━━━━━━━━━━━\u001b[0m\u001b[37m\u001b[0m \u001b[1m1s\u001b[0m 7ms/step - loss: 0.0348 - mae: 0.1355 - mse: 0.0485 - val_loss: 0.1163 - val_mae: 0.3224 - val_mse: 0.2183 - learning_rate: 3.1250e-04\n",
      "Epoch 118/200\n",
      "\u001b[1m89/89\u001b[0m \u001b[32m━━━━━━━━━━━━━━━━━━━━\u001b[0m\u001b[37m\u001b[0m \u001b[1m1s\u001b[0m 10ms/step - loss: 0.0354 - mae: 0.1374 - mse: 0.0494 - val_loss: 0.1172 - val_mae: 0.3256 - val_mse: 0.2194 - learning_rate: 3.1250e-04\n",
      "Epoch 119/200\n",
      "\u001b[1m89/89\u001b[0m \u001b[32m━━━━━━━━━━━━━━━━━━━━\u001b[0m\u001b[37m\u001b[0m \u001b[1m1s\u001b[0m 10ms/step - loss: 0.0318 - mae: 0.1335 - mse: 0.0393 - val_loss: 0.1268 - val_mae: 0.3375 - val_mse: 0.2402 - learning_rate: 3.1250e-04\n"
     ]
    }
   ],
   "source": [
    "history = model.fit(train_data, epochs=200, validation_data=test_data,\n",
    "                    callbacks=[early_stopping, reduce_lr], verbose=1)"
   ]
  },
  {
   "cell_type": "markdown",
   "metadata": {
    "id": "6WTuBmUMvrFI"
   },
   "source": [
    "# Results and Evaluation Model"
   ]
  },
  {
   "cell_type": "code",
   "execution_count": null,
   "metadata": {
    "colab": {
     "base_uri": "https://localhost:8080/"
    },
    "id": "HW6DuzqQNoCX",
    "outputId": "fed606c9-386b-48a4-d9af-bc22302c4563"
   },
   "outputs": [
    {
     "name": "stdout",
     "output_type": "stream",
     "text": [
      "\u001b[1m23/23\u001b[0m \u001b[32m━━━━━━━━━━━━━━━━━━━━\u001b[0m\u001b[37m\u001b[0m \u001b[1m0s\u001b[0m 2ms/step - loss: 0.1030 - mae: 0.3122 - mse: 0.1822\n",
      "\u001b[1m23/23\u001b[0m \u001b[32m━━━━━━━━━━━━━━━━━━━━\u001b[0m\u001b[37m\u001b[0m \u001b[1m0s\u001b[0m 7ms/step\n",
      "Test Loss: 0.0895, Test MAE: 0.2858, Test R2 Score: 0.8197\n"
     ]
    }
   ],
   "source": [
    "test_loss, test_mae, test_mse = model.evaluate(test_data)\n",
    "y_pred = model.predict(X_test)\n",
    "r2 = r2_score(y_test * y_std + y_mean, y_pred.flatten() * y_std + y_mean)\n",
    "print(f\"Test Loss: {test_loss:.4f}, Test MAE: {test_mae:.4f}, Test R2 Score: {r2:.4f}\")"
   ]
  },
  {
   "cell_type": "code",
   "execution_count": null,
   "metadata": {
    "colab": {
     "base_uri": "https://localhost:8080/",
     "height": 564
    },
    "id": "zeRqFXntGS9i",
    "outputId": "9c615110-3e02-4483-d021-54ca4cd2a5a1"
   },
   "outputs": [
    {
     "data": {
      "image/png": "[encoded data removed]",
      "text/plain": [
       "<Figure size 1200x600 with 1 Axes>"
      ]
     },
     "metadata": {},
     "output_type": "display_data"
    }
   ],
   "source": [
    "plt.figure(figsize=(12, 6))\n",
    "plt.plot(history.history['loss'], label='Training Loss')\n",
    "plt.plot(history.history['val_loss'], label='Validation Loss')\n",
    "plt.xlabel('Epochs')\n",
    "plt.ylabel('Loss')\n",
    "plt.legend()\n",
    "plt.title('Improved Model Training and Validation Loss')\n",
    "plt.show()"
   ]
  },
  {
   "cell_type": "code",
   "execution_count": null,
   "metadata": {
    "colab": {
     "base_uri": "https://localhost:8080/",
     "height": 718
    },
    "id": "GhaNbWZtQJOx",
    "outputId": "a9f6f4e7-3ca8-4a23-f869-f6fe867c7367"
   },
   "outputs": [
    {
     "data": {
      "image/png": "[encoded data removed]",
      "text/plain": [
       "<Figure size 800x800 with 1 Axes>"
      ]
     },
     "metadata": {},
     "output_type": "display_data"
    }
   ],
   "source": [
    "y_actual = y_test * y_std + y_mean\n",
    "y_pred_actual = y_pred.flatten() * y_std + y_mean\n",
    "\n",
    "plt.figure(figsize=(8, 8))\n",
    "plt.scatter(y_actual, y_pred_actual, alpha=0.5, label='prediksi vs aktual')\n",
    "plt.plot([y_actual.min(), y_actual.max()], [y_actual.min(), y_actual.max()], 'r--', label='Ideal Fit')\n",
    "plt.xlabel('Actual Price')\n",
    "plt.ylabel('Prediksi Price')\n",
    "plt.title('Prediksi vs Actual ')\n",
    "plt.legend()\n",
    "plt.show()"
   ]
  },
  {
   "cell_type": "code",
   "execution_count": null,
   "metadata": {
    "colab": {
     "base_uri": "https://localhost:8080/",
     "height": 545
    },
    "id": "phammXXsR1fv",
    "outputId": "054ed4bb-3659-4e37-9e43-29ae3b32acb3"
   },
   "outputs": [
    {
     "data": {
      "text/html": [
       "<pre style=\"white-space:pre;overflow-x:auto;line-height:normal;font-family:Menlo,'DejaVu Sans Mono',consolas,'Courier New',monospace\"><span style=\"font-weight: bold\">Model: \"sequential_25\"</span>\n",
       "</pre>\n"
      ],
      "text/plain": [
       "\u001b[1mModel: \"sequential_25\"\u001b[0m\n"
      ]
     },
     "metadata": {},
     "output_type": "display_data"
    },
    {
     "data": {
      "text/html": [
       "<pre style=\"white-space:pre;overflow-x:auto;line-height:normal;font-family:Menlo,'DejaVu Sans Mono',consolas,'Courier New',monospace\">┏━━━━━━━━━━━━━━━━━━━━━━━━━━━━━━━━━━━━━━┳━━━━━━━━━━━━━━━━━━━━━━━━━━━━━┳━━━━━━━━━━━━━━━━━┓\n",
       "┃<span style=\"font-weight: bold\"> Layer (type)                         </span>┃<span style=\"font-weight: bold\"> Output Shape                </span>┃<span style=\"font-weight: bold\">         Param # </span>┃\n",
       "┡━━━━━━━━━━━━━━━━━━━━━━━━━━━━━━━━━━━━━━╇━━━━━━━━━━━━━━━━━━━━━━━━━━━━━╇━━━━━━━━━━━━━━━━━┩\n",
       "│ dense_155 (<span style=\"color: #0087ff; text-decoration-color: #0087ff\">Dense</span>)                    │ (<span style=\"color: #00d7ff; text-decoration-color: #00d7ff\">None</span>, <span style=\"color: #00af00; text-decoration-color: #00af00\">512</span>)                 │           <span style=\"color: #00af00; text-decoration-color: #00af00\">8,192</span> │\n",
       "├──────────────────────────────────────┼─────────────────────────────┼─────────────────┤\n",
       "│ batch_normalization_75               │ (<span style=\"color: #00d7ff; text-decoration-color: #00d7ff\">None</span>, <span style=\"color: #00af00; text-decoration-color: #00af00\">512</span>)                 │           <span style=\"color: #00af00; text-decoration-color: #00af00\">2,048</span> │\n",
       "│ (<span style=\"color: #0087ff; text-decoration-color: #0087ff\">BatchNormalization</span>)                 │                             │                 │\n",
       "├──────────────────────────────────────┼─────────────────────────────┼─────────────────┤\n",
       "│ dropout_50 (<span style=\"color: #0087ff; text-decoration-color: #0087ff\">Dropout</span>)                 │ (<span style=\"color: #00d7ff; text-decoration-color: #00d7ff\">None</span>, <span style=\"color: #00af00; text-decoration-color: #00af00\">512</span>)                 │               <span style=\"color: #00af00; text-decoration-color: #00af00\">0</span> │\n",
       "├──────────────────────────────────────┼─────────────────────────────┼─────────────────┤\n",
       "│ dense_156 (<span style=\"color: #0087ff; text-decoration-color: #0087ff\">Dense</span>)                    │ (<span style=\"color: #00d7ff; text-decoration-color: #00d7ff\">None</span>, <span style=\"color: #00af00; text-decoration-color: #00af00\">256</span>)                 │         <span style=\"color: #00af00; text-decoration-color: #00af00\">131,328</span> │\n",
       "├──────────────────────────────────────┼─────────────────────────────┼─────────────────┤\n",
       "│ batch_normalization_76               │ (<span style=\"color: #00d7ff; text-decoration-color: #00d7ff\">None</span>, <span style=\"color: #00af00; text-decoration-color: #00af00\">256</span>)                 │           <span style=\"color: #00af00; text-decoration-color: #00af00\">1,024</span> │\n",
       "│ (<span style=\"color: #0087ff; text-decoration-color: #0087ff\">BatchNormalization</span>)                 │                             │                 │\n",
       "├──────────────────────────────────────┼─────────────────────────────┼─────────────────┤\n",
       "│ dropout_51 (<span style=\"color: #0087ff; text-decoration-color: #0087ff\">Dropout</span>)                 │ (<span style=\"color: #00d7ff; text-decoration-color: #00d7ff\">None</span>, <span style=\"color: #00af00; text-decoration-color: #00af00\">256</span>)                 │               <span style=\"color: #00af00; text-decoration-color: #00af00\">0</span> │\n",
       "├──────────────────────────────────────┼─────────────────────────────┼─────────────────┤\n",
       "│ dense_157 (<span style=\"color: #0087ff; text-decoration-color: #0087ff\">Dense</span>)                    │ (<span style=\"color: #00d7ff; text-decoration-color: #00d7ff\">None</span>, <span style=\"color: #00af00; text-decoration-color: #00af00\">128</span>)                 │          <span style=\"color: #00af00; text-decoration-color: #00af00\">32,896</span> │\n",
       "├──────────────────────────────────────┼─────────────────────────────┼─────────────────┤\n",
       "│ batch_normalization_77               │ (<span style=\"color: #00d7ff; text-decoration-color: #00d7ff\">None</span>, <span style=\"color: #00af00; text-decoration-color: #00af00\">128</span>)                 │             <span style=\"color: #00af00; text-decoration-color: #00af00\">512</span> │\n",
       "│ (<span style=\"color: #0087ff; text-decoration-color: #0087ff\">BatchNormalization</span>)                 │                             │                 │\n",
       "├──────────────────────────────────────┼─────────────────────────────┼─────────────────┤\n",
       "│ dense_158 (<span style=\"color: #0087ff; text-decoration-color: #0087ff\">Dense</span>)                    │ (<span style=\"color: #00d7ff; text-decoration-color: #00d7ff\">None</span>, <span style=\"color: #00af00; text-decoration-color: #00af00\">24</span>)                  │           <span style=\"color: #00af00; text-decoration-color: #00af00\">3,096</span> │\n",
       "├──────────────────────────────────────┼─────────────────────────────┼─────────────────┤\n",
       "│ dense_159 (<span style=\"color: #0087ff; text-decoration-color: #0087ff\">Dense</span>)                    │ (<span style=\"color: #00d7ff; text-decoration-color: #00d7ff\">None</span>, <span style=\"color: #00af00; text-decoration-color: #00af00\">16</span>)                  │             <span style=\"color: #00af00; text-decoration-color: #00af00\">400</span> │\n",
       "├──────────────────────────────────────┼─────────────────────────────┼─────────────────┤\n",
       "│ dense_160 (<span style=\"color: #0087ff; text-decoration-color: #0087ff\">Dense</span>)                    │ (<span style=\"color: #00d7ff; text-decoration-color: #00d7ff\">None</span>, <span style=\"color: #00af00; text-decoration-color: #00af00\">1</span>)                   │              <span style=\"color: #00af00; text-decoration-color: #00af00\">17</span> │\n",
       "└──────────────────────────────────────┴─────────────────────────────┴─────────────────┘\n",
       "</pre>\n"
      ],
      "text/plain": [
       "┏━━━━━━━━━━━━━━━━━━━━━━━━━━━━━━━━━━━━━━┳━━━━━━━━━━━━━━━━━━━━━━━━━━━━━┳━━━━━━━━━━━━━━━━━┓\n",
       "┃\u001b[1m \u001b[0m\u001b[1mLayer (type)                        \u001b[0m\u001b[1m \u001b[0m┃\u001b[1m \u001b[0m\u001b[1mOutput Shape               \u001b[0m\u001b[1m \u001b[0m┃\u001b[1m \u001b[0m\u001b[1m        Param #\u001b[0m\u001b[1m \u001b[0m┃\n",
       "┡━━━━━━━━━━━━━━━━━━━━━━━━━━━━━━━━━━━━━━╇━━━━━━━━━━━━━━━━━━━━━━━━━━━━━╇━━━━━━━━━━━━━━━━━┩\n",
       "│ dense_155 (\u001b[38;5;33mDense\u001b[0m)                    │ (\u001b[38;5;45mNone\u001b[0m, \u001b[38;5;34m512\u001b[0m)                 │           \u001b[38;5;34m8,192\u001b[0m │\n",
       "├──────────────────────────────────────┼─────────────────────────────┼─────────────────┤\n",
       "│ batch_normalization_75               │ (\u001b[38;5;45mNone\u001b[0m, \u001b[38;5;34m512\u001b[0m)                 │           \u001b[38;5;34m2,048\u001b[0m │\n",
       "│ (\u001b[38;5;33mBatchNormalization\u001b[0m)                 │                             │                 │\n",
       "├──────────────────────────────────────┼─────────────────────────────┼─────────────────┤\n",
       "│ dropout_50 (\u001b[38;5;33mDropout\u001b[0m)                 │ (\u001b[38;5;45mNone\u001b[0m, \u001b[38;5;34m512\u001b[0m)                 │               \u001b[38;5;34m0\u001b[0m │\n",
       "├──────────────────────────────────────┼─────────────────────────────┼─────────────────┤\n",
       "│ dense_156 (\u001b[38;5;33mDense\u001b[0m)                    │ (\u001b[38;5;45mNone\u001b[0m, \u001b[38;5;34m256\u001b[0m)                 │         \u001b[38;5;34m131,328\u001b[0m │\n",
       "├──────────────────────────────────────┼─────────────────────────────┼─────────────────┤\n",
       "│ batch_normalization_76               │ (\u001b[38;5;45mNone\u001b[0m, \u001b[38;5;34m256\u001b[0m)                 │           \u001b[38;5;34m1,024\u001b[0m │\n",
       "│ (\u001b[38;5;33mBatchNormalization\u001b[0m)                 │                             │                 │\n",
       "├──────────────────────────────────────┼─────────────────────────────┼─────────────────┤\n",
       "│ dropout_51 (\u001b[38;5;33mDropout\u001b[0m)                 │ (\u001b[38;5;45mNone\u001b[0m, \u001b[38;5;34m256\u001b[0m)                 │               \u001b[38;5;34m0\u001b[0m │\n",
       "├──────────────────────────────────────┼─────────────────────────────┼─────────────────┤\n",
       "│ dense_157 (\u001b[38;5;33mDense\u001b[0m)                    │ (\u001b[38;5;45mNone\u001b[0m, \u001b[38;5;34m128\u001b[0m)                 │          \u001b[38;5;34m32,896\u001b[0m │\n",
       "├──────────────────────────────────────┼─────────────────────────────┼─────────────────┤\n",
       "│ batch_normalization_77               │ (\u001b[38;5;45mNone\u001b[0m, \u001b[38;5;34m128\u001b[0m)                 │             \u001b[38;5;34m512\u001b[0m │\n",
       "│ (\u001b[38;5;33mBatchNormalization\u001b[0m)                 │                             │                 │\n",
       "├──────────────────────────────────────┼─────────────────────────────┼─────────────────┤\n",
       "│ dense_158 (\u001b[38;5;33mDense\u001b[0m)                    │ (\u001b[38;5;45mNone\u001b[0m, \u001b[38;5;34m24\u001b[0m)                  │           \u001b[38;5;34m3,096\u001b[0m │\n",
       "├──────────────────────────────────────┼─────────────────────────────┼─────────────────┤\n",
       "│ dense_159 (\u001b[38;5;33mDense\u001b[0m)                    │ (\u001b[38;5;45mNone\u001b[0m, \u001b[38;5;34m16\u001b[0m)                  │             \u001b[38;5;34m400\u001b[0m │\n",
       "├──────────────────────────────────────┼─────────────────────────────┼─────────────────┤\n",
       "│ dense_160 (\u001b[38;5;33mDense\u001b[0m)                    │ (\u001b[38;5;45mNone\u001b[0m, \u001b[38;5;34m1\u001b[0m)                   │              \u001b[38;5;34m17\u001b[0m │\n",
       "└──────────────────────────────────────┴─────────────────────────────┴─────────────────┘\n"
      ]
     },
     "metadata": {},
     "output_type": "display_data"
    },
    {
     "data": {
      "text/html": [
       "<pre style=\"white-space:pre;overflow-x:auto;line-height:normal;font-family:Menlo,'DejaVu Sans Mono',consolas,'Courier New',monospace\"><span style=\"font-weight: bold\"> Total params: </span><span style=\"color: #00af00; text-decoration-color: #00af00\">357,236</span> (1.36 MB)\n",
       "</pre>\n"
      ],
      "text/plain": [
       "\u001b[1m Total params: \u001b[0m\u001b[38;5;34m357,236\u001b[0m (1.36 MB)\n"
      ]
     },
     "metadata": {},
     "output_type": "display_data"
    },
    {
     "data": {
      "text/html": [
       "<pre style=\"white-space:pre;overflow-x:auto;line-height:normal;font-family:Menlo,'DejaVu Sans Mono',consolas,'Courier New',monospace\"><span style=\"font-weight: bold\"> Trainable params: </span><span style=\"color: #00af00; text-decoration-color: #00af00\">177,721</span> (694.22 KB)\n",
       "</pre>\n"
      ],
      "text/plain": [
       "\u001b[1m Trainable params: \u001b[0m\u001b[38;5;34m177,721\u001b[0m (694.22 KB)\n"
      ]
     },
     "metadata": {},
     "output_type": "display_data"
    },
    {
     "data": {
      "text/html": [
       "<pre style=\"white-space:pre;overflow-x:auto;line-height:normal;font-family:Menlo,'DejaVu Sans Mono',consolas,'Courier New',monospace\"><span style=\"font-weight: bold\"> Non-trainable params: </span><span style=\"color: #00af00; text-decoration-color: #00af00\">1,792</span> (7.00 KB)\n",
       "</pre>\n"
      ],
      "text/plain": [
       "\u001b[1m Non-trainable params: \u001b[0m\u001b[38;5;34m1,792\u001b[0m (7.00 KB)\n"
      ]
     },
     "metadata": {},
     "output_type": "display_data"
    },
    {
     "data": {
      "text/html": [
       "<pre style=\"white-space:pre;overflow-x:auto;line-height:normal;font-family:Menlo,'DejaVu Sans Mono',consolas,'Courier New',monospace\"><span style=\"font-weight: bold\"> Optimizer params: </span><span style=\"color: #00af00; text-decoration-color: #00af00\">177,723</span> (694.23 KB)\n",
       "</pre>\n"
      ],
      "text/plain": [
       "\u001b[1m Optimizer params: \u001b[0m\u001b[38;5;34m177,723\u001b[0m (694.23 KB)\n"
      ]
     },
     "metadata": {},
     "output_type": "display_data"
    }
   ],
   "source": [
    "model.summary()"
   ]
  },
  {
   "cell_type": "markdown",
   "metadata": {
    "id": "3vY0ROTE0KcT"
   },
   "source": [
    "# Save model"
   ]
  },
  {
   "cell_type": "code",
   "execution_count": null,
   "metadata": {
    "colab": {
     "base_uri": "https://localhost:8080/"
    },
    "id": "zGP2TT8WLhrF",
    "outputId": "13a60f43-837c-4339-b7aa-11ec46385bd2"
   },
   "outputs": [
    {
     "name": "stderr",
     "output_type": "stream",
     "text": [
      "WARNING:absl:You are saving your model as an HDF5 file via `model.save()` or `keras.saving.save_model(model)`. This file format is considered legacy. We recommend using instead the native Keras format, e.g. `model.save('my_model.keras')` or `keras.saving.save_model(model, 'my_model.keras')`. \n"
     ]
    },
    {
     "name": "stdout",
     "output_type": "stream",
     "text": [
      "Model  disimpan\n"
     ]
    }
   ],
   "source": [
    "model.save('house_fix.h5')\n",
    "print(\"Model  disimpan\")"
   ]
  },
  {
   "cell_type": "code",
   "execution_count": null,
   "metadata": {
    "colab": {
     "base_uri": "https://localhost:8080/"
    },
    "id": "Rpr9DKWcRlhH",
    "outputId": "2addac37-6fa5-4f8c-81b1-2fc17f20c970"
   },
   "outputs": [
    {
     "name": "stdout",
     "output_type": "stream",
     "text": [
      "Model berhasil disimpan dalam format .keras\n"
     ]
    }
   ],
   "source": [
    "model.save('house_fix.keras')\n",
    "print(\"Model berhasil disimpan dalam format .keras\")"
   ]
  },
  {
   "cell_type": "code",
   "execution_count": null,
   "metadata": {
    "colab": {
     "base_uri": "https://localhost:8080/"
    },
    "id": "w_63ZCxcUt11",
    "outputId": "607b56d6-6257-46db-b3f2-b5944f317b1c"
   },
   "outputs": [
    {
     "name": "stdout",
     "output_type": "stream",
     "text": [
      "(None, 15)\n"
     ]
    }
   ],
   "source": [
    "print(model.input_shape)"
   ]
  },
  {
   "cell_type": "markdown",
   "metadata": {
    "id": "0cuGQGMGv9ry"
   },
   "source": [
    "# Predictions"
   ]
  },
  {
   "cell_type": "code",
   "execution_count": null,
   "metadata": {
    "colab": {
     "base_uri": "https://localhost:8080/"
    },
    "id": "ow_yaPxiCRIg",
    "outputId": "872690e6-de19-451f-d3b4-446767bf6960"
   },
   "outputs": [
    {
     "name": "stdout",
     "output_type": "stream",
     "text": [
      "\u001b[1m1/1\u001b[0m \u001b[32m━━━━━━━━━━━━━━━━━━━━\u001b[0m\u001b[37m\u001b[0m \u001b[1m0s\u001b[0m 19ms/step\n",
      "Hasil prediksi harga (dalam rupiah): [1.936194e+09]\n"
     ]
    }
   ],
   "source": [
    "data_baru = pd.DataFrame({\n",
    "    'city': ['Bekasi'],\n",
    "    'bedrooms': [3],\n",
    "    'bathrooms': [4],\n",
    "    'land_size_m2': [119],\n",
    "    'building_size_m2': [131],\n",
    "    'electricity': [2200],\n",
    "    'maid_bedrooms': [1],\n",
    "    'floors': [2]\n",
    "})\n",
    "X_cat_baru = pd.get_dummies(data_baru['city'], drop_first=True)\n",
    "all = X['city'].unique()\n",
    "\n",
    "# Add missing city columns to X_cat_baru\n",
    "for city in all:\n",
    "    if city not in X_cat_baru.columns:\n",
    "        X_cat_baru[city] = 0\n",
    "\n",
    "X_cat_baru = X_cat_baru[X_cat.columns]\n",
    "\n",
    "X_num_baru = data_baru.drop(columns=['city'])\n",
    "\n",
    "X_num_scaled_baru = scale_num.transform(X_num_baru)\n",
    "\n",
    "X_combined_baru = np.hstack((X_num_scaled_baru, X_cat_baru.values))\n",
    "\n",
    "# Prediksi\n",
    "y_pred_baru = model.predict(X_combined_baru)\n",
    "\n",
    "# Inverse scaling\n",
    "y_pred_actual_baru = y_pred_baru.flatten() * y_std + y_mean\n",
    "y_pred_actual = np.expm1(y_pred.flatten())\n",
    "\n",
    "print(\"Hasil prediksi harga (dalam rupiah):\", y_pred_actual_baru)"
   ]
  },
  {
   "cell_type": "code",
   "execution_count": null,
   "metadata": {
    "colab": {
     "base_uri": "https://localhost:8080/"
    },
    "id": "iRxuECUcQA1s",
    "outputId": "d6cbed6b-6530-4eb5-eded-b52419de9de2"
   },
   "outputs": [
    {
     "name": "stdout",
     "output_type": "stream",
     "text": [
      "\u001b[1m1/1\u001b[0m \u001b[32m━━━━━━━━━━━━━━━━━━━━\u001b[0m\u001b[37m\u001b[0m \u001b[1m0s\u001b[0m 20ms/step\n",
      "Hasil prediksi harga (dalam rupiah): [6.787048e+08]\n"
     ]
    }
   ],
   "source": [
    "data_baru = pd.DataFrame({\n",
    "    'city': ['Bekasi'],\n",
    "    'bedrooms': [1],\n",
    "    'bathrooms': [1],\n",
    "    'land_size_m2': [60],\n",
    "    'building_size_m2': [60],\n",
    "    'electricity': [1300],\n",
    "    'maid_bedrooms': [0],\n",
    "    'floors': [1]\n",
    "})\n",
    "X_cat_baru = pd.get_dummies(data_baru['city'], drop_first=True)\n",
    "all = X['city'].unique()\n",
    "\n",
    "# Add missing city columns to X_cat_baru\n",
    "for city in all:\n",
    "    if city not in X_cat_baru.columns:\n",
    "        X_cat_baru[city] = 0\n",
    "\n",
    "X_cat_baru = X_cat_baru[X_cat.columns]\n",
    "\n",
    "X_num_baru = data_baru.drop(columns=['city'])\n",
    "\n",
    "X_num_scaled_baru = scale_num.transform(X_num_baru)\n",
    "\n",
    "X_combined_baru = np.hstack((X_num_scaled_baru, X_cat_baru.values))\n",
    "\n",
    "# Prediksi\n",
    "y_pred_baru = model.predict(X_combined_baru)\n",
    "\n",
    "# Inverse scaling\n",
    "y_pred_actual_baru = y_pred_baru.flatten() * y_std + y_mean\n",
    "y_pred_actual = np.expm1(y_pred.flatten())\n",
    "\n",
    "print(\"Hasil prediksi harga (dalam rupiah):\", y_pred_actual_baru)"
   ]
  },
  {
   "cell_type": "code",
   "execution_count": null,
   "metadata": {
    "colab": {
     "base_uri": "https://localhost:8080/"
    },
    "id": "n7cBLdLiNde9",
    "outputId": "b16aba28-a193-4acb-84de-e87bcea1bf85"
   },
   "outputs": [
    {
     "name": "stdout",
     "output_type": "stream",
     "text": [
      "Package                            Version\n",
      "---------------------------------- --------------------\n",
      "absl-py                            1.4.0\n",
      "accelerate                         1.1.1\n",
      "aiohappyeyeballs                   2.4.3\n",
      "aiohttp                            3.11.1\n",
      "aiosignal                          1.3.1\n",
      "alabaster                          1.0.0\n",
      "albucore                           0.0.19\n",
      "albumentations                     1.4.20\n",
      "altair                             4.2.2\n",
      "annotated-types                    0.7.0\n",
      "anyio                              3.7.1\n",
      "argon2-cffi                        23.1.0\n",
      "argon2-cffi-bindings               21.2.0\n",
      "array_record                       0.5.1\n",
      "arviz                              0.20.0\n",
      "astropy                            6.1.6\n",
      "astropy-iers-data                  0.2024.11.11.0.32.38\n",
      "astunparse                         1.6.3\n",
      "async-timeout                      4.0.3\n",
      "atpublic                           4.1.0\n",
      "attrs                              24.2.0\n",
      "audioread                          3.0.1\n",
      "autograd                           1.7.0\n",
      "babel                              2.16.0\n",
      "backcall                           0.2.0\n",
      "beautifulsoup4                     4.12.3\n",
      "bigframes                          1.26.0\n",
      "bigquery-magics                    0.4.0\n",
      "bleach                             6.2.0\n",
      "blinker                            1.9.0\n",
      "blis                               0.7.11\n",
      "blosc2                             2.7.1\n",
      "bokeh                              3.6.1\n",
      "Bottleneck                         1.4.2\n",
      "bqplot                             0.12.43\n",
      "branca                             0.8.0\n",
      "CacheControl                       0.14.1\n",
      "cachetools                         5.5.0\n",
      "catalogue                          2.0.10\n",
      "certifi                            2024.8.30\n",
      "cffi                               1.17.1\n",
      "chardet                            5.2.0\n",
      "charset-normalizer                 3.4.0\n",
      "chex                               0.1.87\n",
      "clarabel                           0.9.0\n",
      "click                              8.1.7\n",
      "cloudpathlib                       0.20.0\n",
      "cloudpickle                        3.1.0\n",
      "cmake                              3.30.5\n",
      "cmdstanpy                          1.2.4\n",
      "colorcet                           3.1.0\n",
      "colorlover                         0.3.0\n",
      "colour                             0.1.5\n",
      "community                          1.0.0b1\n",
      "confection                         0.1.5\n",
      "cons                               0.4.6\n",
      "contourpy                          1.3.1\n",
      "cryptography                       43.0.3\n",
      "cuda-python                        12.2.1\n",
      "cudf-cu12                          24.10.1\n",
      "cufflinks                          0.17.3\n",
      "cupy-cuda12x                       12.2.0\n",
      "cvxopt                             1.3.2\n",
      "cvxpy                              1.5.3\n",
      "cycler                             0.12.1\n",
      "cymem                              2.0.8\n",
      "Cython                             3.0.11\n",
      "dask                               2024.10.0\n",
      "datascience                        0.17.6\n",
      "db-dtypes                          1.3.1\n",
      "dbus-python                        1.2.18\n",
      "debugpy                            1.8.0\n",
      "decorator                          4.4.2\n",
      "defusedxml                         0.7.1\n",
      "Deprecated                         1.2.14\n",
      "diffusers                          0.31.0\n",
      "distro                             1.9.0\n",
      "dlib                               19.24.2\n",
      "dm-tree                            0.1.8\n",
      "docker-pycreds                     0.4.0\n",
      "docstring_parser                   0.16\n",
      "docutils                           0.21.2\n",
      "dopamine_rl                        4.0.9\n",
      "duckdb                             1.1.3\n",
      "earthengine-api                    1.2.0\n",
      "easydict                           1.13\n",
      "ecos                               2.0.14\n",
      "editdistance                       0.8.1\n",
      "eerepr                             0.0.4\n",
      "einops                             0.8.0\n",
      "en-core-web-sm                     3.7.1\n",
      "entrypoints                        0.4\n",
      "et_xmlfile                         2.0.0\n",
      "etils                              1.10.0\n",
      "etuples                            0.3.9\n",
      "eval_type_backport                 0.2.0\n",
      "exceptiongroup                     1.2.2\n",
      "fastai                             2.7.18\n",
      "fastcore                           1.7.19\n",
      "fastdownload                       0.0.7\n",
      "fastjsonschema                     2.20.0\n",
      "fastprogress                       1.0.3\n",
      "fastrlock                          0.8.2\n",
      "filelock                           3.16.1\n",
      "firebase-admin                     6.5.0\n",
      "Flask                              3.0.3\n",
      "flatbuffers                        24.3.25\n",
      "flax                               0.8.5\n",
      "folium                             0.18.0\n",
      "fonttools                          4.54.1\n",
      "frozendict                         2.4.6\n",
      "frozenlist                         1.5.0\n",
      "fsspec                             2024.10.0\n",
      "future                             1.0.0\n",
      "gast                               0.6.0\n",
      "gcsfs                              2024.10.0\n",
      "GDAL                               3.6.4\n",
      "gdown                              5.2.0\n",
      "geemap                             0.35.1\n",
      "gensim                             4.3.3\n",
      "geocoder                           1.38.1\n",
      "geographiclib                      2.0\n",
      "geopandas                          1.0.1\n",
      "geopy                              2.4.1\n",
      "gin-config                         0.5.0\n",
      "gitdb                              4.0.11\n",
      "GitPython                          3.1.43\n",
      "glob2                              0.7\n",
      "google                             2.0.3\n",
      "google-ai-generativelanguage       0.6.10\n",
      "google-api-core                    2.19.2\n",
      "google-api-python-client           2.151.0\n",
      "google-auth                        2.27.0\n",
      "google-auth-httplib2               0.2.0\n",
      "google-auth-oauthlib               1.2.1\n",
      "google-cloud-aiplatform            1.71.1\n",
      "google-cloud-bigquery              3.25.0\n",
      "google-cloud-bigquery-connection   1.16.1\n",
      "google-cloud-bigquery-storage      2.27.0\n",
      "google-cloud-bigtable              2.27.0\n",
      "google-cloud-core                  2.4.1\n",
      "google-cloud-datastore             2.20.1\n",
      "google-cloud-firestore             2.19.0\n",
      "google-cloud-functions             1.18.0\n",
      "google-cloud-iam                   2.16.0\n",
      "google-cloud-language              2.15.0\n",
      "google-cloud-pubsub                2.27.1\n",
      "google-cloud-resource-manager      1.13.0\n",
      "google-cloud-storage               2.8.0\n",
      "google-cloud-translate             3.17.0\n",
      "google-colab                       1.0.0\n",
      "google-crc32c                      1.6.0\n",
      "google-generativeai                0.8.3\n",
      "google-pasta                       0.2.0\n",
      "google-resumable-media             2.7.2\n",
      "googleapis-common-protos           1.66.0\n",
      "googledrivedownloader              0.4\n",
      "graphviz                           0.20.3\n",
      "greenlet                           3.1.1\n",
      "grpc-google-iam-v1                 0.13.1\n",
      "grpcio                             1.67.1\n",
      "grpcio-status                      1.62.3\n",
      "gspread                            6.0.2\n",
      "gspread-dataframe                  3.3.1\n",
      "gym                                0.25.2\n",
      "gym-notices                        0.0.8\n",
      "h11                                0.14.0\n",
      "h5netcdf                           1.4.1\n",
      "h5py                               3.12.1\n",
      "holidays                           0.60\n",
      "holoviews                          1.20.0\n",
      "html5lib                           1.1\n",
      "httpcore                           1.0.6\n",
      "httpimport                         1.4.0\n",
      "httplib2                           0.22.0\n",
      "httpx                              0.27.2\n",
      "huggingface-hub                    0.26.2\n",
      "humanize                           4.11.0\n",
      "hyperopt                           0.2.7\n",
      "ibis-framework                     9.2.0\n",
      "idna                               3.10\n",
      "imageio                            2.36.0\n",
      "imageio-ffmpeg                     0.5.1\n",
      "imagesize                          1.4.1\n",
      "imbalanced-learn                   0.12.4\n",
      "imgaug                             0.4.0\n",
      "immutabledict                      4.2.0\n",
      "importlib_metadata                 8.5.0\n",
      "importlib_resources                6.4.5\n",
      "imutils                            0.5.4\n",
      "inflect                            7.4.0\n",
      "iniconfig                          2.0.0\n",
      "intel-cmplr-lib-ur                 2025.0.0\n",
      "intel-openmp                       2025.0.0\n",
      "ipyevents                          2.0.2\n",
      "ipyfilechooser                     0.6.0\n",
      "ipykernel                          5.5.6\n",
      "ipyleaflet                         0.19.2\n",
      "ipyparallel                        8.8.0\n",
      "ipython                            7.34.0\n",
      "ipython-genutils                   0.2.0\n",
      "ipython-sql                        0.5.0\n",
      "ipytree                            0.2.2\n",
      "ipywidgets                         7.7.1\n",
      "itsdangerous                       2.2.0\n",
      "jax                                0.4.33\n",
      "jax-cuda12-pjrt                    0.4.33\n",
      "jax-cuda12-plugin                  0.4.33\n",
      "jaxlib                             0.4.33\n",
      "jeepney                            0.7.1\n",
      "jellyfish                          1.1.0\n",
      "jieba                              0.42.1\n",
      "Jinja2                             3.1.4\n",
      "jiter                              0.7.1\n",
      "joblib                             1.4.2\n",
      "jsonpatch                          1.33\n",
      "jsonpickle                         4.0.0\n",
      "jsonpointer                        3.0.0\n",
      "jsonschema                         4.23.0\n",
      "jsonschema-specifications          2024.10.1\n",
      "jupyter-client                     6.1.12\n",
      "jupyter-console                    6.1.0\n",
      "jupyter_core                       5.7.2\n",
      "jupyter-leaflet                    0.19.2\n",
      "jupyter-server                     1.24.0\n",
      "jupyterlab_pygments                0.3.0\n",
      "jupyterlab_widgets                 3.0.13\n",
      "kaggle                             1.6.17\n",
      "kagglehub                          0.3.4\n",
      "keras                              3.5.0\n",
      "keyring                            23.5.0\n",
      "kiwisolver                         1.4.7\n",
      "langchain                          0.3.7\n",
      "langchain-core                     0.3.18\n",
      "langchain-text-splitters           0.3.2\n",
      "langcodes                          3.4.1\n",
      "langsmith                          0.1.143\n",
      "language_data                      1.2.0\n",
      "launchpadlib                       1.10.16\n",
      "lazr.restfulclient                 0.14.4\n",
      "lazr.uri                           1.0.6\n",
      "lazy_loader                        0.4\n",
      "libclang                           18.1.1\n",
      "libcudf-cu12                       24.10.1\n",
      "librosa                            0.10.2.post1\n",
      "lightgbm                           4.5.0\n",
      "linkify-it-py                      2.0.3\n",
      "llvmlite                           0.43.0\n",
      "locket                             1.0.0\n",
      "logical-unification                0.4.6\n",
      "lxml                               5.3.0\n",
      "marisa-trie                        1.2.1\n",
      "Markdown                           3.7\n",
      "markdown-it-py                     3.0.0\n",
      "MarkupSafe                         3.0.2\n",
      "matplotlib                         3.8.0\n",
      "matplotlib-inline                  0.1.7\n",
      "matplotlib-venn                    1.1.1\n",
      "mdit-py-plugins                    0.4.2\n",
      "mdurl                              0.1.2\n",
      "miniKanren                         1.0.3\n",
      "missingno                          0.5.2\n",
      "mistune                            3.0.2\n",
      "mizani                             0.13.0\n",
      "mkl                                2025.0.0\n",
      "ml-dtypes                          0.4.1\n",
      "mlxtend                            0.23.2\n",
      "more-itertools                     10.5.0\n",
      "moviepy                            1.0.3\n",
      "mpmath                             1.3.0\n",
      "msgpack                            1.1.0\n",
      "multidict                          6.1.0\n",
      "multipledispatch                   1.0.0\n",
      "multitasking                       0.0.11\n",
      "murmurhash                         1.0.10\n",
      "music21                            9.3.0\n",
      "namex                              0.0.8\n",
      "natsort                            8.4.0\n",
      "nbclassic                          1.1.0\n",
      "nbclient                           0.10.0\n",
      "nbconvert                          7.16.4\n",
      "nbformat                           5.10.4\n",
      "ndindex                            1.9.2\n",
      "nest-asyncio                       1.6.0\n",
      "networkx                           3.4.2\n",
      "nibabel                            5.3.2\n",
      "nltk                               3.9.1\n",
      "notebook                           6.5.5\n",
      "notebook_shim                      0.2.4\n",
      "numba                              0.60.0\n",
      "numexpr                            2.10.1\n",
      "numpy                              1.26.4\n",
      "nvidia-cublas-cu12                 12.6.3.3\n",
      "nvidia-cuda-cupti-cu12             12.6.80\n",
      "nvidia-cuda-nvcc-cu12              12.6.77\n",
      "nvidia-cuda-runtime-cu12           12.6.77\n",
      "nvidia-cudnn-cu12                  9.5.1.17\n",
      "nvidia-cufft-cu12                  11.3.0.4\n",
      "nvidia-curand-cu12                 10.3.7.77\n",
      "nvidia-cusolver-cu12               11.7.1.2\n",
      "nvidia-cusparse-cu12               12.5.4.2\n",
      "nvidia-nccl-cu12                   2.23.4\n",
      "nvidia-nvjitlink-cu12              12.6.77\n",
      "nvtx                               0.2.10\n",
      "nx-cugraph-cu12                    24.10.0\n",
      "oauth2client                       4.1.3\n",
      "oauthlib                           3.2.2\n",
      "openai                             1.54.4\n",
      "opencv-contrib-python              4.10.0.84\n",
      "opencv-python                      4.10.0.84\n",
      "opencv-python-headless             4.10.0.84\n",
      "openpyxl                           3.1.5\n",
      "opentelemetry-api                  1.28.1\n",
      "opentelemetry-sdk                  1.28.1\n",
      "opentelemetry-semantic-conventions 0.49b1\n",
      "opt_einsum                         3.4.0\n",
      "optax                              0.2.4\n",
      "optree                             0.13.1\n",
      "orbax-checkpoint                   0.6.4\n",
      "orjson                             3.10.11\n",
      "osqp                               0.6.7.post3\n",
      "packaging                          24.2\n",
      "pandas                             2.2.2\n",
      "pandas-datareader                  0.10.0\n",
      "pandas-gbq                         0.24.0\n",
      "pandas-stubs                       2.2.2.240909\n",
      "pandocfilters                      1.5.1\n",
      "panel                              1.5.4\n",
      "param                              2.1.1\n",
      "parso                              0.8.4\n",
      "parsy                              2.1\n",
      "partd                              1.4.2\n",
      "pathlib                            1.0.1\n",
      "patsy                              1.0.1\n",
      "peewee                             3.17.8\n",
      "peft                               0.13.2\n",
      "pexpect                            4.9.0\n",
      "pickleshare                        0.7.5\n",
      "pillow                             11.0.0\n",
      "pip                                24.1.2\n",
      "platformdirs                       4.3.6\n",
      "plotly                             5.24.1\n",
      "plotnine                           0.14.1\n",
      "pluggy                             1.5.0\n",
      "polars                             1.9.0\n",
      "pooch                              1.8.2\n",
      "portpicker                         1.5.2\n",
      "preshed                            3.0.9\n",
      "prettytable                        3.12.0\n",
      "proglog                            0.1.10\n",
      "progressbar2                       4.5.0\n",
      "prometheus_client                  0.21.0\n",
      "promise                            2.3\n",
      "prompt_toolkit                     3.0.48\n",
      "propcache                          0.2.0\n",
      "prophet                            1.1.6\n",
      "proto-plus                         1.25.0\n",
      "protobuf                           4.25.5\n",
      "psutil                             5.9.5\n",
      "psycopg2                           2.9.10\n",
      "ptyprocess                         0.7.0\n",
      "py-cpuinfo                         9.0.0\n",
      "py4j                               0.10.9.7\n",
      "pyarrow                            17.0.0\n",
      "pyarrow-hotfix                     0.6\n",
      "pyasn1                             0.6.1\n",
      "pyasn1_modules                     0.4.1\n",
      "pycocotools                        2.0.8\n",
      "pycparser                          2.22\n",
      "pydantic                           2.9.2\n",
      "pydantic_core                      2.23.4\n",
      "pydata-google-auth                 1.8.2\n",
      "pydot                              3.0.2\n",
      "pydotplus                          2.0.2\n",
      "PyDrive                            1.3.1\n",
      "PyDrive2                           1.21.1\n",
      "pyerfa                             2.0.1.5\n",
      "pygame                             2.6.1\n",
      "pygit2                             1.16.0\n",
      "Pygments                           2.18.0\n",
      "PyGObject                          3.42.1\n",
      "PyJWT                              2.9.0\n",
      "pylibcudf-cu12                     24.10.1\n",
      "pylibcugraph-cu12                  24.10.0\n",
      "pylibraft-cu12                     24.10.0\n",
      "pymc                               5.18.0\n",
      "pymystem3                          0.2.0\n",
      "pynvjitlink-cu12                   0.4.0\n",
      "pyogrio                            0.10.0\n",
      "PyOpenGL                           3.1.7\n",
      "pyOpenSSL                          24.2.1\n",
      "pyparsing                          3.2.0\n",
      "pyperclip                          1.9.0\n",
      "pyproj                             3.7.0\n",
      "pyshp                              2.3.1\n",
      "PySocks                            1.7.1\n",
      "pyspark                            3.5.3\n",
      "pytensor                           2.25.5\n",
      "pytest                             8.3.3\n",
      "python-apt                         0.0.0\n",
      "python-box                         7.2.0\n",
      "python-dateutil                    2.8.2\n",
      "python-louvain                     0.16\n",
      "python-slugify                     8.0.4\n",
      "python-utils                       3.9.0\n",
      "pytz                               2024.2\n",
      "pyviz_comms                        3.0.3\n",
      "PyYAML                             6.0.2\n",
      "pyzmq                              24.0.1\n",
      "qdldl                              0.1.7.post4\n",
      "ratelim                            0.1.6\n",
      "referencing                        0.35.1\n",
      "regex                              2024.9.11\n",
      "requests                           2.32.3\n",
      "requests-oauthlib                  1.3.1\n",
      "requests-toolbelt                  1.0.0\n",
      "requirements-parser                0.9.0\n",
      "rich                               13.9.4\n",
      "rmm-cu12                           24.10.0\n",
      "rpds-py                            0.21.0\n",
      "rpy2                               3.4.2\n",
      "rsa                                4.9\n",
      "safetensors                        0.4.5\n",
      "scikit-image                       0.24.0\n",
      "scikit-learn                       1.5.2\n",
      "scipy                              1.13.1\n",
      "scooby                             0.10.0\n",
      "scs                                3.2.7\n",
      "seaborn                            0.13.2\n",
      "SecretStorage                      3.3.1\n",
      "Send2Trash                         1.8.3\n",
      "sentence-transformers              3.2.1\n",
      "sentencepiece                      0.2.0\n",
      "sentry-sdk                         2.18.0\n",
      "setproctitle                       1.3.3\n",
      "setuptools                         75.1.0\n",
      "shap                               0.46.0\n",
      "shapely                            2.0.6\n",
      "shellingham                        1.5.4\n",
      "simple-parsing                     0.1.6\n",
      "six                                1.16.0\n",
      "sklearn-pandas                     2.2.0\n",
      "slicer                             0.0.8\n",
      "smart-open                         7.0.5\n",
      "smmap                              5.0.1\n",
      "sniffio                            1.3.1\n",
      "snowballstemmer                    2.2.0\n",
      "soundfile                          0.12.1\n",
      "soupsieve                          2.6\n",
      "soxr                               0.5.0.post1\n",
      "spacy                              3.7.5\n",
      "spacy-legacy                       3.0.12\n",
      "spacy-loggers                      1.0.5\n",
      "Sphinx                             8.1.3\n",
      "sphinxcontrib-applehelp            2.0.0\n",
      "sphinxcontrib-devhelp              2.0.0\n",
      "sphinxcontrib-htmlhelp             2.1.0\n",
      "sphinxcontrib-jsmath               1.0.1\n",
      "sphinxcontrib-qthelp               2.0.0\n",
      "sphinxcontrib-serializinghtml      2.0.0\n",
      "SQLAlchemy                         2.0.36\n",
      "sqlglot                            25.1.0\n",
      "sqlparse                           0.5.2\n",
      "srsly                              2.4.8\n",
      "stanio                             0.5.1\n",
      "statsmodels                        0.14.4\n",
      "StrEnum                            0.4.15\n",
      "stringzilla                        3.10.10\n",
      "sympy                              1.13.1\n",
      "tables                             3.10.1\n",
      "tabulate                           0.9.0\n",
      "tbb                                2022.0.0\n",
      "tcmlib                             1.2.0\n",
      "tenacity                           9.0.0\n",
      "tensorboard                        2.17.1\n",
      "tensorboard-data-server            0.7.2\n",
      "tensorflow                         2.17.1\n",
      "tensorflow-datasets                4.9.7\n",
      "tensorflow-hub                     0.16.1\n",
      "tensorflow-io-gcs-filesystem       0.37.1\n",
      "tensorflow-metadata                1.13.1\n",
      "tensorflow-probability             0.24.0\n",
      "tensorstore                        0.1.68\n",
      "termcolor                          2.5.0\n",
      "terminado                          0.18.1\n",
      "text-unidecode                     1.3\n",
      "textblob                           0.17.1\n",
      "tf_keras                           2.17.0\n",
      "tf-slim                            1.1.0\n",
      "thinc                              8.2.5\n",
      "threadpoolctl                      3.5.0\n",
      "tifffile                           2024.9.20\n",
      "timm                               1.0.11\n",
      "tinycss2                           1.4.0\n",
      "tokenizers                         0.20.3\n",
      "toml                               0.10.2\n",
      "tomli                              2.1.0\n",
      "toolz                              0.12.1\n",
      "torch                              2.5.1+cu121\n",
      "torchaudio                         2.5.1+cu121\n",
      "torchsummary                       1.5.1\n",
      "torchvision                        0.20.1+cu121\n",
      "tornado                            6.3.3\n",
      "tqdm                               4.66.6\n",
      "traitlets                          5.7.1\n",
      "traittypes                         0.2.1\n",
      "transformers                       4.46.2\n",
      "tweepy                             4.14.0\n",
      "typeguard                          4.4.1\n",
      "typer                              0.13.0\n",
      "types-pytz                         2024.2.0.20241003\n",
      "types-setuptools                   75.5.0.20241116\n",
      "typing_extensions                  4.12.2\n",
      "tzdata                             2024.2\n",
      "tzlocal                            5.2\n",
      "uc-micro-py                        1.0.3\n",
      "umf                                0.9.0\n",
      "uritemplate                        4.1.1\n",
      "urllib3                            2.2.3\n",
      "vega-datasets                      0.9.0\n",
      "wadllib                            1.3.6\n",
      "wandb                              0.18.7\n",
      "wasabi                             1.1.3\n",
      "wcwidth                            0.2.13\n",
      "weasel                             0.4.1\n",
      "webcolors                          24.11.1\n",
      "webencodings                       0.5.1\n",
      "websocket-client                   1.8.0\n",
      "Werkzeug                           3.1.3\n",
      "wheel                              0.45.0\n",
      "widgetsnbextension                 3.6.10\n",
      "wordcloud                          1.9.4\n",
      "wrapt                              1.16.0\n",
      "xarray                             2024.10.0\n",
      "xarray-einstats                    0.8.0\n",
      "xgboost                            2.1.2\n",
      "xlrd                               2.0.1\n",
      "xyzservices                        2024.9.0\n",
      "yarl                               1.17.1\n",
      "yellowbrick                        1.5\n",
      "yfinance                           0.2.49\n",
      "zipp                               3.21.0\n"
     ]
    }
   ],
   "source": [
    "!pip list"
   ]
  },
  {
   "cell_type": "code",
   "execution_count": null,
   "metadata": {
    "colab": {
     "base_uri": "https://localhost:8080/"
    },
    "id": "LuX3fanGNnkG",
    "outputId": "02ae40de-8eed-4aed-e7e9-305fb56bb19c"
   },
   "outputs": [
    {
     "name": "stdout",
     "output_type": "stream",
     "text": [
      "TensorFlow version: 2.17.1\n",
      "Pandas version: 2.2.2\n",
      "NumPy version: 1.26.4\n",
      "Scikit-learn version: 1.5.2\n",
      "Matplotlib version: 3.8.0\n"
     ]
    }
   ],
   "source": [
    "import tensorflow as tf\n",
    "import pandas as pd\n",
    "import numpy as np\n",
    "import sklearn\n",
    "import matplotlib\n",
    "print(\"TensorFlow version:\", tf.__version__)\n",
    "print(\"Pandas version:\", pd.__version__)\n",
    "print(\"NumPy version:\", np.__version__)\n",
    "print(\"Scikit-learn version:\", sklearn.__version__)\n",
    "print(\"Matplotlib version:\", matplotlib.__version__)"
   ]
  }
 ],
 "metadata": {
  "colab": {
   "provenance": []
  },
  "kernelspec": {
   "display_name": "Python 3",
   "name": "python3"
  },
  "language_info": {
   "name": "python"
  }
 },
 "nbformat": 4,
 "nbformat_minor": 0
}
