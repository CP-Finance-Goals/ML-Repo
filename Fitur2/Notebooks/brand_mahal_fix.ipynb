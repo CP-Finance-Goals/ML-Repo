{
  "nbformat": 4,
  "nbformat_minor": 0,
  "metadata": {
    "colab": {
      "provenance": []
    },
    "kernelspec": {
      "name": "python3",
      "display_name": "Python 3"
    },
    "language_info": {
      "name": "python"
    }
  },
  "cells": [
    {
      "cell_type": "code",
      "execution_count": null,
      "metadata": {
        "id": "pw8fTeFB8ORx"
      },
      "outputs": [],
      "source": [
        "import pandas as pd\n",
        "import numpy as np\n",
        "import tensorflow as tf\n",
        "import matplotlib.pyplot as plt\n",
        "from sklearn.cluster import KMeans\n",
        "import joblib\n",
        "from sklearn.utils.class_weight import compute_class_weight\n",
        "from sklearn.preprocessing import LabelEncoder, StandardScaler, MinMaxScaler\n",
        "from sklearn.model_selection import train_test_split\n",
        "from tensorflow.keras.utils import to_categorical\n",
        "from tensorflow.keras.models import Sequential\n",
        "from tensorflow.keras.layers import Dense, Dropout, BatchNormalization\n",
        "from tensorflow.keras import regularizers\n",
        "from tensorflow.keras.callbacks import EarlyStopping"
      ]
    },
    {
      "cell_type": "code",
      "source": [
        "from google.colab import drive\n",
        "drive.mount('/content/drive')"
      ],
      "metadata": {
        "colab": {
          "base_uri": "https://localhost:8080/"
        },
        "id": "qM69cEUz-USx",
        "outputId": "2c9580b1-a7ea-427b-8b08-75c7a887b15e"
      },
      "execution_count": null,
      "outputs": [
        {
          "output_type": "stream",
          "name": "stdout",
          "text": [
            "Drive already mounted at /content/drive; to attempt to forcibly remount, call drive.mount(\"/content/drive\", force_remount=True).\n"
          ]
        }
      ]
    },
    {
      "cell_type": "code",
      "source": [
        "data = pd.read_csv('/content/drive/MyDrive/Dataset_CP/mahal.csv')"
      ],
      "metadata": {
        "id": "BNirdB6y-U6a"
      },
      "execution_count": null,
      "outputs": []
    },
    {
      "cell_type": "code",
      "source": [
        "data.head()"
      ],
      "metadata": {
        "colab": {
          "base_uri": "https://localhost:8080/",
          "height": 495
        },
        "id": "UrgSPfEZ-nGB",
        "outputId": "865b61fa-5242-44c3-8776-a1be9b545063"
      },
      "execution_count": null,
      "outputs": [
        {
          "output_type": "execute_result",
          "data": {
            "text/plain": [
              "             order no           order date           order time         brand  \\\n",
              "0    OL21010100002723  2021-01-01 00:00:00  2021-01-01 13:37:15    TORY BURCH   \n",
              "1    OL21010100002724  2021-01-01 00:00:00  2021-01-01 14:01:32    KATE SPADE   \n",
              "2  372721010100000200  2021-01-01 00:00:00  2021-01-01 14:21:33    KATE SPADE   \n",
              "3    OL21010100002725  2021-01-01 00:00:00  2021-01-01 14:35:11  MICHAEL KORS   \n",
              "4    OL21010100002726  2021-01-01 00:00:00  2021-01-01 15:18:21    KATE SPADE   \n",
              "\n",
              "      item group                                          item name  \\\n",
              "0     WOMEN BAGS            TORY BURCH 58025 PERRY LEATHER BP BLACK   \n",
              "1  Women Wallets  KATE SPADE WLRU6153 HOLLIE SPADE CLOVER GEO EM...   \n",
              "2     WOMEN BAGS    KATE SPADE WKRO0068 SPADE LINK TOTE WHITE MULTI   \n",
              "3    Women Shoes           MICHAEL KORS FLAT SHOES STUD BROWN BLACK   \n",
              "4     WOMEN BAGS  MICHAEL KORS 35S0GXZM1B TEAGEN SMALL MESSENGER...   \n",
              "\n",
              "       item sku  qty currency      price  ...  discount amount     amount  \\\n",
              "0  192485268584    1      IDR  4250000.0  ...              0.0  4250000.0   \n",
              "1  767883689936    1      IDR  1100000.0  ...              0.0  1100000.0   \n",
              "2  767883816981    1      IDR  1550000.0  ...              0.0  1550000.0   \n",
              "3  190000125411    1      IDR  1400000.0  ...              0.0  1400000.0   \n",
              "4  193599454603    1      IDR  1650000.0  ...              0.0  1650000.0   \n",
              "\n",
              "   cost perunit  total cost    profit  comission    Country  ZIP Code  \\\n",
              "0     4735000.0   4735000.0 -485000.0        0.0  Indonesia   23241.0   \n",
              "1      868515.0    868515.0  231485.0        0.0  Indonesia   53274.0   \n",
              "2     1221044.0   1221044.0  328956.0        0.0        NaN       NaN   \n",
              "3     1124949.0   1124949.0  275051.0        0.0  Indonesia   17115.0   \n",
              "4     1156925.0   1156925.0  493075.0        0.0  Indonesia   41360.0   \n",
              "\n",
              "                 City     Provinsi  \n",
              "0     Kota Banda Aceh         Aceh  \n",
              "1   Kabupaten Cilacap  Jawa Tengah  \n",
              "2                 NaN          NaN  \n",
              "3         Kota Bekasi   Jawa Barat  \n",
              "4  Kabupaten Karawang   Jawa Barat  \n",
              "\n",
              "[5 rows x 22 columns]"
            ],
            "text/html": [
              "\n",
              "  <div id=\"df-8dd23830-128b-431e-8d69-7bd09dde47c9\" class=\"colab-df-container\">\n",
              "    <div>\n",
              "<style scoped>\n",
              "    .dataframe tbody tr th:only-of-type {\n",
              "        vertical-align: middle;\n",
              "    }\n",
              "\n",
              "    .dataframe tbody tr th {\n",
              "        vertical-align: top;\n",
              "    }\n",
              "\n",
              "    .dataframe thead th {\n",
              "        text-align: right;\n",
              "    }\n",
              "</style>\n",
              "<table border=\"1\" class=\"dataframe\">\n",
              "  <thead>\n",
              "    <tr style=\"text-align: right;\">\n",
              "      <th></th>\n",
              "      <th>order no</th>\n",
              "      <th>order date</th>\n",
              "      <th>order time</th>\n",
              "      <th>brand</th>\n",
              "      <th>item group</th>\n",
              "      <th>item name</th>\n",
              "      <th>item sku</th>\n",
              "      <th>qty</th>\n",
              "      <th>currency</th>\n",
              "      <th>price</th>\n",
              "      <th>...</th>\n",
              "      <th>discount amount</th>\n",
              "      <th>amount</th>\n",
              "      <th>cost perunit</th>\n",
              "      <th>total cost</th>\n",
              "      <th>profit</th>\n",
              "      <th>comission</th>\n",
              "      <th>Country</th>\n",
              "      <th>ZIP Code</th>\n",
              "      <th>City</th>\n",
              "      <th>Provinsi</th>\n",
              "    </tr>\n",
              "  </thead>\n",
              "  <tbody>\n",
              "    <tr>\n",
              "      <th>0</th>\n",
              "      <td>OL21010100002723</td>\n",
              "      <td>2021-01-01 00:00:00</td>\n",
              "      <td>2021-01-01 13:37:15</td>\n",
              "      <td>TORY BURCH</td>\n",
              "      <td>WOMEN BAGS</td>\n",
              "      <td>TORY BURCH 58025 PERRY LEATHER BP BLACK</td>\n",
              "      <td>192485268584</td>\n",
              "      <td>1</td>\n",
              "      <td>IDR</td>\n",
              "      <td>4250000.0</td>\n",
              "      <td>...</td>\n",
              "      <td>0.0</td>\n",
              "      <td>4250000.0</td>\n",
              "      <td>4735000.0</td>\n",
              "      <td>4735000.0</td>\n",
              "      <td>-485000.0</td>\n",
              "      <td>0.0</td>\n",
              "      <td>Indonesia</td>\n",
              "      <td>23241.0</td>\n",
              "      <td>Kota Banda Aceh</td>\n",
              "      <td>Aceh</td>\n",
              "    </tr>\n",
              "    <tr>\n",
              "      <th>1</th>\n",
              "      <td>OL21010100002724</td>\n",
              "      <td>2021-01-01 00:00:00</td>\n",
              "      <td>2021-01-01 14:01:32</td>\n",
              "      <td>KATE SPADE</td>\n",
              "      <td>Women Wallets</td>\n",
              "      <td>KATE SPADE WLRU6153 HOLLIE SPADE CLOVER GEO EM...</td>\n",
              "      <td>767883689936</td>\n",
              "      <td>1</td>\n",
              "      <td>IDR</td>\n",
              "      <td>1100000.0</td>\n",
              "      <td>...</td>\n",
              "      <td>0.0</td>\n",
              "      <td>1100000.0</td>\n",
              "      <td>868515.0</td>\n",
              "      <td>868515.0</td>\n",
              "      <td>231485.0</td>\n",
              "      <td>0.0</td>\n",
              "      <td>Indonesia</td>\n",
              "      <td>53274.0</td>\n",
              "      <td>Kabupaten Cilacap</td>\n",
              "      <td>Jawa Tengah</td>\n",
              "    </tr>\n",
              "    <tr>\n",
              "      <th>2</th>\n",
              "      <td>372721010100000200</td>\n",
              "      <td>2021-01-01 00:00:00</td>\n",
              "      <td>2021-01-01 14:21:33</td>\n",
              "      <td>KATE SPADE</td>\n",
              "      <td>WOMEN BAGS</td>\n",
              "      <td>KATE SPADE WKRO0068 SPADE LINK TOTE WHITE MULTI</td>\n",
              "      <td>767883816981</td>\n",
              "      <td>1</td>\n",
              "      <td>IDR</td>\n",
              "      <td>1550000.0</td>\n",
              "      <td>...</td>\n",
              "      <td>0.0</td>\n",
              "      <td>1550000.0</td>\n",
              "      <td>1221044.0</td>\n",
              "      <td>1221044.0</td>\n",
              "      <td>328956.0</td>\n",
              "      <td>0.0</td>\n",
              "      <td>NaN</td>\n",
              "      <td>NaN</td>\n",
              "      <td>NaN</td>\n",
              "      <td>NaN</td>\n",
              "    </tr>\n",
              "    <tr>\n",
              "      <th>3</th>\n",
              "      <td>OL21010100002725</td>\n",
              "      <td>2021-01-01 00:00:00</td>\n",
              "      <td>2021-01-01 14:35:11</td>\n",
              "      <td>MICHAEL KORS</td>\n",
              "      <td>Women Shoes</td>\n",
              "      <td>MICHAEL KORS FLAT SHOES STUD BROWN BLACK</td>\n",
              "      <td>190000125411</td>\n",
              "      <td>1</td>\n",
              "      <td>IDR</td>\n",
              "      <td>1400000.0</td>\n",
              "      <td>...</td>\n",
              "      <td>0.0</td>\n",
              "      <td>1400000.0</td>\n",
              "      <td>1124949.0</td>\n",
              "      <td>1124949.0</td>\n",
              "      <td>275051.0</td>\n",
              "      <td>0.0</td>\n",
              "      <td>Indonesia</td>\n",
              "      <td>17115.0</td>\n",
              "      <td>Kota Bekasi</td>\n",
              "      <td>Jawa Barat</td>\n",
              "    </tr>\n",
              "    <tr>\n",
              "      <th>4</th>\n",
              "      <td>OL21010100002726</td>\n",
              "      <td>2021-01-01 00:00:00</td>\n",
              "      <td>2021-01-01 15:18:21</td>\n",
              "      <td>KATE SPADE</td>\n",
              "      <td>WOMEN BAGS</td>\n",
              "      <td>MICHAEL KORS 35S0GXZM1B TEAGEN SMALL MESSENGER...</td>\n",
              "      <td>193599454603</td>\n",
              "      <td>1</td>\n",
              "      <td>IDR</td>\n",
              "      <td>1650000.0</td>\n",
              "      <td>...</td>\n",
              "      <td>0.0</td>\n",
              "      <td>1650000.0</td>\n",
              "      <td>1156925.0</td>\n",
              "      <td>1156925.0</td>\n",
              "      <td>493075.0</td>\n",
              "      <td>0.0</td>\n",
              "      <td>Indonesia</td>\n",
              "      <td>41360.0</td>\n",
              "      <td>Kabupaten Karawang</td>\n",
              "      <td>Jawa Barat</td>\n",
              "    </tr>\n",
              "  </tbody>\n",
              "</table>\n",
              "<p>5 rows × 22 columns</p>\n",
              "</div>\n",
              "    <div class=\"colab-df-buttons\">\n",
              "\n",
              "  <div class=\"colab-df-container\">\n",
              "    <button class=\"colab-df-convert\" onclick=\"convertToInteractive('df-8dd23830-128b-431e-8d69-7bd09dde47c9')\"\n",
              "            title=\"Convert this dataframe to an interactive table.\"\n",
              "            style=\"display:none;\">\n",
              "\n",
              "  <svg xmlns=\"http://www.w3.org/2000/svg\" height=\"24px\" viewBox=\"0 -960 960 960\">\n",
              "    <path d=\"M120-120v-720h720v720H120Zm60-500h600v-160H180v160Zm220 220h160v-160H400v160Zm0 220h160v-160H400v160ZM180-400h160v-160H180v160Zm440 0h160v-160H620v160ZM180-180h160v-160H180v160Zm440 0h160v-160H620v160Z\"/>\n",
              "  </svg>\n",
              "    </button>\n",
              "\n",
              "  <style>\n",
              "    .colab-df-container {\n",
              "      display:flex;\n",
              "      gap: 12px;\n",
              "    }\n",
              "\n",
              "    .colab-df-convert {\n",
              "      background-color: #E8F0FE;\n",
              "      border: none;\n",
              "      border-radius: 50%;\n",
              "      cursor: pointer;\n",
              "      display: none;\n",
              "      fill: #1967D2;\n",
              "      height: 32px;\n",
              "      padding: 0 0 0 0;\n",
              "      width: 32px;\n",
              "    }\n",
              "\n",
              "    .colab-df-convert:hover {\n",
              "      background-color: #E2EBFA;\n",
              "      box-shadow: 0px 1px 2px rgba(60, 64, 67, 0.3), 0px 1px 3px 1px rgba(60, 64, 67, 0.15);\n",
              "      fill: #174EA6;\n",
              "    }\n",
              "\n",
              "    .colab-df-buttons div {\n",
              "      margin-bottom: 4px;\n",
              "    }\n",
              "\n",
              "    [theme=dark] .colab-df-convert {\n",
              "      background-color: #3B4455;\n",
              "      fill: #D2E3FC;\n",
              "    }\n",
              "\n",
              "    [theme=dark] .colab-df-convert:hover {\n",
              "      background-color: #434B5C;\n",
              "      box-shadow: 0px 1px 3px 1px rgba(0, 0, 0, 0.15);\n",
              "      filter: drop-shadow(0px 1px 2px rgba(0, 0, 0, 0.3));\n",
              "      fill: #FFFFFF;\n",
              "    }\n",
              "  </style>\n",
              "\n",
              "    <script>\n",
              "      const buttonEl =\n",
              "        document.querySelector('#df-8dd23830-128b-431e-8d69-7bd09dde47c9 button.colab-df-convert');\n",
              "      buttonEl.style.display =\n",
              "        google.colab.kernel.accessAllowed ? 'block' : 'none';\n",
              "\n",
              "      async function convertToInteractive(key) {\n",
              "        const element = document.querySelector('#df-8dd23830-128b-431e-8d69-7bd09dde47c9');\n",
              "        const dataTable =\n",
              "          await google.colab.kernel.invokeFunction('convertToInteractive',\n",
              "                                                    [key], {});\n",
              "        if (!dataTable) return;\n",
              "\n",
              "        const docLinkHtml = 'Like what you see? Visit the ' +\n",
              "          '<a target=\"_blank\" href=https://colab.research.google.com/notebooks/data_table.ipynb>data table notebook</a>'\n",
              "          + ' to learn more about interactive tables.';\n",
              "        element.innerHTML = '';\n",
              "        dataTable['output_type'] = 'display_data';\n",
              "        await google.colab.output.renderOutput(dataTable, element);\n",
              "        const docLink = document.createElement('div');\n",
              "        docLink.innerHTML = docLinkHtml;\n",
              "        element.appendChild(docLink);\n",
              "      }\n",
              "    </script>\n",
              "  </div>\n",
              "\n",
              "\n",
              "<div id=\"df-54e1b280-cc63-407e-8c10-9b108e2abebe\">\n",
              "  <button class=\"colab-df-quickchart\" onclick=\"quickchart('df-54e1b280-cc63-407e-8c10-9b108e2abebe')\"\n",
              "            title=\"Suggest charts\"\n",
              "            style=\"display:none;\">\n",
              "\n",
              "<svg xmlns=\"http://www.w3.org/2000/svg\" height=\"24px\"viewBox=\"0 0 24 24\"\n",
              "     width=\"24px\">\n",
              "    <g>\n",
              "        <path d=\"M19 3H5c-1.1 0-2 .9-2 2v14c0 1.1.9 2 2 2h14c1.1 0 2-.9 2-2V5c0-1.1-.9-2-2-2zM9 17H7v-7h2v7zm4 0h-2V7h2v10zm4 0h-2v-4h2v4z\"/>\n",
              "    </g>\n",
              "</svg>\n",
              "  </button>\n",
              "\n",
              "<style>\n",
              "  .colab-df-quickchart {\n",
              "      --bg-color: #E8F0FE;\n",
              "      --fill-color: #1967D2;\n",
              "      --hover-bg-color: #E2EBFA;\n",
              "      --hover-fill-color: #174EA6;\n",
              "      --disabled-fill-color: #AAA;\n",
              "      --disabled-bg-color: #DDD;\n",
              "  }\n",
              "\n",
              "  [theme=dark] .colab-df-quickchart {\n",
              "      --bg-color: #3B4455;\n",
              "      --fill-color: #D2E3FC;\n",
              "      --hover-bg-color: #434B5C;\n",
              "      --hover-fill-color: #FFFFFF;\n",
              "      --disabled-bg-color: #3B4455;\n",
              "      --disabled-fill-color: #666;\n",
              "  }\n",
              "\n",
              "  .colab-df-quickchart {\n",
              "    background-color: var(--bg-color);\n",
              "    border: none;\n",
              "    border-radius: 50%;\n",
              "    cursor: pointer;\n",
              "    display: none;\n",
              "    fill: var(--fill-color);\n",
              "    height: 32px;\n",
              "    padding: 0;\n",
              "    width: 32px;\n",
              "  }\n",
              "\n",
              "  .colab-df-quickchart:hover {\n",
              "    background-color: var(--hover-bg-color);\n",
              "    box-shadow: 0 1px 2px rgba(60, 64, 67, 0.3), 0 1px 3px 1px rgba(60, 64, 67, 0.15);\n",
              "    fill: var(--button-hover-fill-color);\n",
              "  }\n",
              "\n",
              "  .colab-df-quickchart-complete:disabled,\n",
              "  .colab-df-quickchart-complete:disabled:hover {\n",
              "    background-color: var(--disabled-bg-color);\n",
              "    fill: var(--disabled-fill-color);\n",
              "    box-shadow: none;\n",
              "  }\n",
              "\n",
              "  .colab-df-spinner {\n",
              "    border: 2px solid var(--fill-color);\n",
              "    border-color: transparent;\n",
              "    border-bottom-color: var(--fill-color);\n",
              "    animation:\n",
              "      spin 1s steps(1) infinite;\n",
              "  }\n",
              "\n",
              "  @keyframes spin {\n",
              "    0% {\n",
              "      border-color: transparent;\n",
              "      border-bottom-color: var(--fill-color);\n",
              "      border-left-color: var(--fill-color);\n",
              "    }\n",
              "    20% {\n",
              "      border-color: transparent;\n",
              "      border-left-color: var(--fill-color);\n",
              "      border-top-color: var(--fill-color);\n",
              "    }\n",
              "    30% {\n",
              "      border-color: transparent;\n",
              "      border-left-color: var(--fill-color);\n",
              "      border-top-color: var(--fill-color);\n",
              "      border-right-color: var(--fill-color);\n",
              "    }\n",
              "    40% {\n",
              "      border-color: transparent;\n",
              "      border-right-color: var(--fill-color);\n",
              "      border-top-color: var(--fill-color);\n",
              "    }\n",
              "    60% {\n",
              "      border-color: transparent;\n",
              "      border-right-color: var(--fill-color);\n",
              "    }\n",
              "    80% {\n",
              "      border-color: transparent;\n",
              "      border-right-color: var(--fill-color);\n",
              "      border-bottom-color: var(--fill-color);\n",
              "    }\n",
              "    90% {\n",
              "      border-color: transparent;\n",
              "      border-bottom-color: var(--fill-color);\n",
              "    }\n",
              "  }\n",
              "</style>\n",
              "\n",
              "  <script>\n",
              "    async function quickchart(key) {\n",
              "      const quickchartButtonEl =\n",
              "        document.querySelector('#' + key + ' button');\n",
              "      quickchartButtonEl.disabled = true;  // To prevent multiple clicks.\n",
              "      quickchartButtonEl.classList.add('colab-df-spinner');\n",
              "      try {\n",
              "        const charts = await google.colab.kernel.invokeFunction(\n",
              "            'suggestCharts', [key], {});\n",
              "      } catch (error) {\n",
              "        console.error('Error during call to suggestCharts:', error);\n",
              "      }\n",
              "      quickchartButtonEl.classList.remove('colab-df-spinner');\n",
              "      quickchartButtonEl.classList.add('colab-df-quickchart-complete');\n",
              "    }\n",
              "    (() => {\n",
              "      let quickchartButtonEl =\n",
              "        document.querySelector('#df-54e1b280-cc63-407e-8c10-9b108e2abebe button');\n",
              "      quickchartButtonEl.style.display =\n",
              "        google.colab.kernel.accessAllowed ? 'block' : 'none';\n",
              "    })();\n",
              "  </script>\n",
              "</div>\n",
              "\n",
              "    </div>\n",
              "  </div>\n"
            ],
            "application/vnd.google.colaboratory.intrinsic+json": {
              "type": "dataframe",
              "variable_name": "data"
            }
          },
          "metadata": {},
          "execution_count": 4
        }
      ]
    },
    {
      "cell_type": "code",
      "source": [
        "data.isnull().sum()"
      ],
      "metadata": {
        "colab": {
          "base_uri": "https://localhost:8080/",
          "height": 774
        },
        "id": "OGUtHoQdC7el",
        "outputId": "8193368f-01f5-4f97-928d-2e656395e7e5"
      },
      "execution_count": null,
      "outputs": [
        {
          "output_type": "execute_result",
          "data": {
            "text/plain": [
              "order no              1\n",
              "order date            1\n",
              "order time            1\n",
              "brand                 5\n",
              "item group            1\n",
              "item name             1\n",
              "item sku              1\n",
              "qty                   0\n",
              "currency              1\n",
              "price                 1\n",
              "add-on price          1\n",
              "discount percent      1\n",
              "discount amount       1\n",
              "amount                1\n",
              "cost perunit          1\n",
              "total cost            1\n",
              "profit                1\n",
              "comission             1\n",
              "Country             161\n",
              "ZIP Code            161\n",
              "City                161\n",
              "Provinsi            161\n",
              "dtype: int64"
            ],
            "text/html": [
              "<div>\n",
              "<style scoped>\n",
              "    .dataframe tbody tr th:only-of-type {\n",
              "        vertical-align: middle;\n",
              "    }\n",
              "\n",
              "    .dataframe tbody tr th {\n",
              "        vertical-align: top;\n",
              "    }\n",
              "\n",
              "    .dataframe thead th {\n",
              "        text-align: right;\n",
              "    }\n",
              "</style>\n",
              "<table border=\"1\" class=\"dataframe\">\n",
              "  <thead>\n",
              "    <tr style=\"text-align: right;\">\n",
              "      <th></th>\n",
              "      <th>0</th>\n",
              "    </tr>\n",
              "  </thead>\n",
              "  <tbody>\n",
              "    <tr>\n",
              "      <th>order no</th>\n",
              "      <td>1</td>\n",
              "    </tr>\n",
              "    <tr>\n",
              "      <th>order date</th>\n",
              "      <td>1</td>\n",
              "    </tr>\n",
              "    <tr>\n",
              "      <th>order time</th>\n",
              "      <td>1</td>\n",
              "    </tr>\n",
              "    <tr>\n",
              "      <th>brand</th>\n",
              "      <td>5</td>\n",
              "    </tr>\n",
              "    <tr>\n",
              "      <th>item group</th>\n",
              "      <td>1</td>\n",
              "    </tr>\n",
              "    <tr>\n",
              "      <th>item name</th>\n",
              "      <td>1</td>\n",
              "    </tr>\n",
              "    <tr>\n",
              "      <th>item sku</th>\n",
              "      <td>1</td>\n",
              "    </tr>\n",
              "    <tr>\n",
              "      <th>qty</th>\n",
              "      <td>0</td>\n",
              "    </tr>\n",
              "    <tr>\n",
              "      <th>currency</th>\n",
              "      <td>1</td>\n",
              "    </tr>\n",
              "    <tr>\n",
              "      <th>price</th>\n",
              "      <td>1</td>\n",
              "    </tr>\n",
              "    <tr>\n",
              "      <th>add-on price</th>\n",
              "      <td>1</td>\n",
              "    </tr>\n",
              "    <tr>\n",
              "      <th>discount percent</th>\n",
              "      <td>1</td>\n",
              "    </tr>\n",
              "    <tr>\n",
              "      <th>discount amount</th>\n",
              "      <td>1</td>\n",
              "    </tr>\n",
              "    <tr>\n",
              "      <th>amount</th>\n",
              "      <td>1</td>\n",
              "    </tr>\n",
              "    <tr>\n",
              "      <th>cost perunit</th>\n",
              "      <td>1</td>\n",
              "    </tr>\n",
              "    <tr>\n",
              "      <th>total cost</th>\n",
              "      <td>1</td>\n",
              "    </tr>\n",
              "    <tr>\n",
              "      <th>profit</th>\n",
              "      <td>1</td>\n",
              "    </tr>\n",
              "    <tr>\n",
              "      <th>comission</th>\n",
              "      <td>1</td>\n",
              "    </tr>\n",
              "    <tr>\n",
              "      <th>Country</th>\n",
              "      <td>161</td>\n",
              "    </tr>\n",
              "    <tr>\n",
              "      <th>ZIP Code</th>\n",
              "      <td>161</td>\n",
              "    </tr>\n",
              "    <tr>\n",
              "      <th>City</th>\n",
              "      <td>161</td>\n",
              "    </tr>\n",
              "    <tr>\n",
              "      <th>Provinsi</th>\n",
              "      <td>161</td>\n",
              "    </tr>\n",
              "  </tbody>\n",
              "</table>\n",
              "</div><br><label><b>dtype:</b> int64</label>"
            ]
          },
          "metadata": {},
          "execution_count": 5
        }
      ]
    },
    {
      "cell_type": "code",
      "source": [
        "data = data.interpolate(method='linear', axis=0, limit_direction='forward', limit=None)\n",
        "data = data.fillna(method='bfill')"
      ],
      "metadata": {
        "colab": {
          "base_uri": "https://localhost:8080/"
        },
        "id": "g6no7ggGAjYI",
        "outputId": "8e5858c0-33ee-4176-cbd5-16d1273f5b52"
      },
      "execution_count": null,
      "outputs": [
        {
          "output_type": "stream",
          "name": "stderr",
          "text": [
            "<ipython-input-6-c92736cadd97>:1: FutureWarning: DataFrame.interpolate with object dtype is deprecated and will raise in a future version. Call obj.infer_objects(copy=False) before interpolating instead.\n",
            "  data = data.interpolate(method='linear', axis=0, limit_direction='forward', limit=None)\n",
            "<ipython-input-6-c92736cadd97>:2: FutureWarning: DataFrame.fillna with 'method' is deprecated and will raise in a future version. Use obj.ffill() or obj.bfill() instead.\n",
            "  data = data.fillna(method='bfill')\n"
          ]
        }
      ]
    },
    {
      "cell_type": "code",
      "source": [
        "columns_to_drop = [\n",
        "    'order no', 'order date', 'order time', 'item sku', 'qty', 'currency',\n",
        "    'profit', 'comission', 'Country', 'ZIP Code', 'City', 'Provinsi',\n",
        "    'add-on price', 'discount percent', 'discount amount', 'amount', 'cost perunit', 'total cost'\n",
        "]\n",
        "data.drop(columns=columns_to_drop, inplace=True)\n",
        "print(data.head())"
      ],
      "metadata": {
        "colab": {
          "base_uri": "https://localhost:8080/"
        },
        "id": "ev7llyONPPYV",
        "outputId": "e25ef0a5-72c4-4412-9cea-bf6fd20142f4"
      },
      "execution_count": null,
      "outputs": [
        {
          "output_type": "stream",
          "name": "stdout",
          "text": [
            "          brand     item group  \\\n",
            "0    TORY BURCH     WOMEN BAGS   \n",
            "1    KATE SPADE  Women Wallets   \n",
            "2    KATE SPADE     WOMEN BAGS   \n",
            "3  MICHAEL KORS    Women Shoes   \n",
            "4    KATE SPADE     WOMEN BAGS   \n",
            "\n",
            "                                           item name      price  \n",
            "0            TORY BURCH 58025 PERRY LEATHER BP BLACK  4250000.0  \n",
            "1  KATE SPADE WLRU6153 HOLLIE SPADE CLOVER GEO EM...  1100000.0  \n",
            "2    KATE SPADE WKRO0068 SPADE LINK TOTE WHITE MULTI  1550000.0  \n",
            "3           MICHAEL KORS FLAT SHOES STUD BROWN BLACK  1400000.0  \n",
            "4  MICHAEL KORS 35S0GXZM1B TEAGEN SMALL MESSENGER...  1650000.0  \n"
          ]
        }
      ]
    },
    {
      "cell_type": "code",
      "source": [
        "data['merek'] = data['brand']"
      ],
      "metadata": {
        "id": "_CxNOvl1n9xQ"
      },
      "execution_count": null,
      "outputs": []
    },
    {
      "cell_type": "code",
      "source": [
        "data['Brand'] = data['item name']"
      ],
      "metadata": {
        "id": "JH1mBmLEhJ9U"
      },
      "execution_count": null,
      "outputs": []
    },
    {
      "cell_type": "code",
      "source": [
        "data.drop(columns=['item name','brand'], inplace=True)"
      ],
      "metadata": {
        "id": "aBRgJxxrjqum"
      },
      "execution_count": null,
      "outputs": []
    },
    {
      "cell_type": "code",
      "source": [
        "data = data.dropna(subset=['item group', 'merek'])"
      ],
      "metadata": {
        "id": "frwm8QHGxoSL"
      },
      "execution_count": null,
      "outputs": []
    },
    {
      "cell_type": "code",
      "source": [
        "data.info()"
      ],
      "metadata": {
        "colab": {
          "base_uri": "https://localhost:8080/"
        },
        "id": "flyA8I4X9Mc_",
        "outputId": "bd7e1b7c-085f-491e-a368-7b4308078718"
      },
      "execution_count": null,
      "outputs": [
        {
          "output_type": "stream",
          "name": "stdout",
          "text": [
            "<class 'pandas.core.frame.DataFrame'>\n",
            "Index: 603 entries, 0 to 602\n",
            "Data columns (total 4 columns):\n",
            " #   Column      Non-Null Count  Dtype  \n",
            "---  ------      --------------  -----  \n",
            " 0   item group  603 non-null    object \n",
            " 1   price       603 non-null    float64\n",
            " 2   merek       603 non-null    object \n",
            " 3   Brand       603 non-null    object \n",
            "dtypes: float64(1), object(3)\n",
            "memory usage: 23.6+ KB\n"
          ]
        }
      ]
    },
    {
      "cell_type": "code",
      "source": [
        "data.head()"
      ],
      "metadata": {
        "colab": {
          "base_uri": "https://localhost:8080/",
          "height": 206
        },
        "id": "9GeJPenrhlO0",
        "outputId": "bc075629-eede-410e-95c2-372ded83de44"
      },
      "execution_count": null,
      "outputs": [
        {
          "output_type": "execute_result",
          "data": {
            "text/plain": [
              "      item group      price         merek  \\\n",
              "0     WOMEN BAGS  4250000.0    TORY BURCH   \n",
              "1  Women Wallets  1100000.0    KATE SPADE   \n",
              "2     WOMEN BAGS  1550000.0    KATE SPADE   \n",
              "3    Women Shoes  1400000.0  MICHAEL KORS   \n",
              "4     WOMEN BAGS  1650000.0    KATE SPADE   \n",
              "\n",
              "                                               Brand  \n",
              "0            TORY BURCH 58025 PERRY LEATHER BP BLACK  \n",
              "1  KATE SPADE WLRU6153 HOLLIE SPADE CLOVER GEO EM...  \n",
              "2    KATE SPADE WKRO0068 SPADE LINK TOTE WHITE MULTI  \n",
              "3           MICHAEL KORS FLAT SHOES STUD BROWN BLACK  \n",
              "4  MICHAEL KORS 35S0GXZM1B TEAGEN SMALL MESSENGER...  "
            ],
            "text/html": [
              "\n",
              "  <div id=\"df-a7824859-adcd-44ff-9bf1-ca22fea2f170\" class=\"colab-df-container\">\n",
              "    <div>\n",
              "<style scoped>\n",
              "    .dataframe tbody tr th:only-of-type {\n",
              "        vertical-align: middle;\n",
              "    }\n",
              "\n",
              "    .dataframe tbody tr th {\n",
              "        vertical-align: top;\n",
              "    }\n",
              "\n",
              "    .dataframe thead th {\n",
              "        text-align: right;\n",
              "    }\n",
              "</style>\n",
              "<table border=\"1\" class=\"dataframe\">\n",
              "  <thead>\n",
              "    <tr style=\"text-align: right;\">\n",
              "      <th></th>\n",
              "      <th>item group</th>\n",
              "      <th>price</th>\n",
              "      <th>merek</th>\n",
              "      <th>Brand</th>\n",
              "    </tr>\n",
              "  </thead>\n",
              "  <tbody>\n",
              "    <tr>\n",
              "      <th>0</th>\n",
              "      <td>WOMEN BAGS</td>\n",
              "      <td>4250000.0</td>\n",
              "      <td>TORY BURCH</td>\n",
              "      <td>TORY BURCH 58025 PERRY LEATHER BP BLACK</td>\n",
              "    </tr>\n",
              "    <tr>\n",
              "      <th>1</th>\n",
              "      <td>Women Wallets</td>\n",
              "      <td>1100000.0</td>\n",
              "      <td>KATE SPADE</td>\n",
              "      <td>KATE SPADE WLRU6153 HOLLIE SPADE CLOVER GEO EM...</td>\n",
              "    </tr>\n",
              "    <tr>\n",
              "      <th>2</th>\n",
              "      <td>WOMEN BAGS</td>\n",
              "      <td>1550000.0</td>\n",
              "      <td>KATE SPADE</td>\n",
              "      <td>KATE SPADE WKRO0068 SPADE LINK TOTE WHITE MULTI</td>\n",
              "    </tr>\n",
              "    <tr>\n",
              "      <th>3</th>\n",
              "      <td>Women Shoes</td>\n",
              "      <td>1400000.0</td>\n",
              "      <td>MICHAEL KORS</td>\n",
              "      <td>MICHAEL KORS FLAT SHOES STUD BROWN BLACK</td>\n",
              "    </tr>\n",
              "    <tr>\n",
              "      <th>4</th>\n",
              "      <td>WOMEN BAGS</td>\n",
              "      <td>1650000.0</td>\n",
              "      <td>KATE SPADE</td>\n",
              "      <td>MICHAEL KORS 35S0GXZM1B TEAGEN SMALL MESSENGER...</td>\n",
              "    </tr>\n",
              "  </tbody>\n",
              "</table>\n",
              "</div>\n",
              "    <div class=\"colab-df-buttons\">\n",
              "\n",
              "  <div class=\"colab-df-container\">\n",
              "    <button class=\"colab-df-convert\" onclick=\"convertToInteractive('df-a7824859-adcd-44ff-9bf1-ca22fea2f170')\"\n",
              "            title=\"Convert this dataframe to an interactive table.\"\n",
              "            style=\"display:none;\">\n",
              "\n",
              "  <svg xmlns=\"http://www.w3.org/2000/svg\" height=\"24px\" viewBox=\"0 -960 960 960\">\n",
              "    <path d=\"M120-120v-720h720v720H120Zm60-500h600v-160H180v160Zm220 220h160v-160H400v160Zm0 220h160v-160H400v160ZM180-400h160v-160H180v160Zm440 0h160v-160H620v160ZM180-180h160v-160H180v160Zm440 0h160v-160H620v160Z\"/>\n",
              "  </svg>\n",
              "    </button>\n",
              "\n",
              "  <style>\n",
              "    .colab-df-container {\n",
              "      display:flex;\n",
              "      gap: 12px;\n",
              "    }\n",
              "\n",
              "    .colab-df-convert {\n",
              "      background-color: #E8F0FE;\n",
              "      border: none;\n",
              "      border-radius: 50%;\n",
              "      cursor: pointer;\n",
              "      display: none;\n",
              "      fill: #1967D2;\n",
              "      height: 32px;\n",
              "      padding: 0 0 0 0;\n",
              "      width: 32px;\n",
              "    }\n",
              "\n",
              "    .colab-df-convert:hover {\n",
              "      background-color: #E2EBFA;\n",
              "      box-shadow: 0px 1px 2px rgba(60, 64, 67, 0.3), 0px 1px 3px 1px rgba(60, 64, 67, 0.15);\n",
              "      fill: #174EA6;\n",
              "    }\n",
              "\n",
              "    .colab-df-buttons div {\n",
              "      margin-bottom: 4px;\n",
              "    }\n",
              "\n",
              "    [theme=dark] .colab-df-convert {\n",
              "      background-color: #3B4455;\n",
              "      fill: #D2E3FC;\n",
              "    }\n",
              "\n",
              "    [theme=dark] .colab-df-convert:hover {\n",
              "      background-color: #434B5C;\n",
              "      box-shadow: 0px 1px 3px 1px rgba(0, 0, 0, 0.15);\n",
              "      filter: drop-shadow(0px 1px 2px rgba(0, 0, 0, 0.3));\n",
              "      fill: #FFFFFF;\n",
              "    }\n",
              "  </style>\n",
              "\n",
              "    <script>\n",
              "      const buttonEl =\n",
              "        document.querySelector('#df-a7824859-adcd-44ff-9bf1-ca22fea2f170 button.colab-df-convert');\n",
              "      buttonEl.style.display =\n",
              "        google.colab.kernel.accessAllowed ? 'block' : 'none';\n",
              "\n",
              "      async function convertToInteractive(key) {\n",
              "        const element = document.querySelector('#df-a7824859-adcd-44ff-9bf1-ca22fea2f170');\n",
              "        const dataTable =\n",
              "          await google.colab.kernel.invokeFunction('convertToInteractive',\n",
              "                                                    [key], {});\n",
              "        if (!dataTable) return;\n",
              "\n",
              "        const docLinkHtml = 'Like what you see? Visit the ' +\n",
              "          '<a target=\"_blank\" href=https://colab.research.google.com/notebooks/data_table.ipynb>data table notebook</a>'\n",
              "          + ' to learn more about interactive tables.';\n",
              "        element.innerHTML = '';\n",
              "        dataTable['output_type'] = 'display_data';\n",
              "        await google.colab.output.renderOutput(dataTable, element);\n",
              "        const docLink = document.createElement('div');\n",
              "        docLink.innerHTML = docLinkHtml;\n",
              "        element.appendChild(docLink);\n",
              "      }\n",
              "    </script>\n",
              "  </div>\n",
              "\n",
              "\n",
              "<div id=\"df-35a5bbc5-546f-42a9-aa2a-8bfdfc4f6ead\">\n",
              "  <button class=\"colab-df-quickchart\" onclick=\"quickchart('df-35a5bbc5-546f-42a9-aa2a-8bfdfc4f6ead')\"\n",
              "            title=\"Suggest charts\"\n",
              "            style=\"display:none;\">\n",
              "\n",
              "<svg xmlns=\"http://www.w3.org/2000/svg\" height=\"24px\"viewBox=\"0 0 24 24\"\n",
              "     width=\"24px\">\n",
              "    <g>\n",
              "        <path d=\"M19 3H5c-1.1 0-2 .9-2 2v14c0 1.1.9 2 2 2h14c1.1 0 2-.9 2-2V5c0-1.1-.9-2-2-2zM9 17H7v-7h2v7zm4 0h-2V7h2v10zm4 0h-2v-4h2v4z\"/>\n",
              "    </g>\n",
              "</svg>\n",
              "  </button>\n",
              "\n",
              "<style>\n",
              "  .colab-df-quickchart {\n",
              "      --bg-color: #E8F0FE;\n",
              "      --fill-color: #1967D2;\n",
              "      --hover-bg-color: #E2EBFA;\n",
              "      --hover-fill-color: #174EA6;\n",
              "      --disabled-fill-color: #AAA;\n",
              "      --disabled-bg-color: #DDD;\n",
              "  }\n",
              "\n",
              "  [theme=dark] .colab-df-quickchart {\n",
              "      --bg-color: #3B4455;\n",
              "      --fill-color: #D2E3FC;\n",
              "      --hover-bg-color: #434B5C;\n",
              "      --hover-fill-color: #FFFFFF;\n",
              "      --disabled-bg-color: #3B4455;\n",
              "      --disabled-fill-color: #666;\n",
              "  }\n",
              "\n",
              "  .colab-df-quickchart {\n",
              "    background-color: var(--bg-color);\n",
              "    border: none;\n",
              "    border-radius: 50%;\n",
              "    cursor: pointer;\n",
              "    display: none;\n",
              "    fill: var(--fill-color);\n",
              "    height: 32px;\n",
              "    padding: 0;\n",
              "    width: 32px;\n",
              "  }\n",
              "\n",
              "  .colab-df-quickchart:hover {\n",
              "    background-color: var(--hover-bg-color);\n",
              "    box-shadow: 0 1px 2px rgba(60, 64, 67, 0.3), 0 1px 3px 1px rgba(60, 64, 67, 0.15);\n",
              "    fill: var(--button-hover-fill-color);\n",
              "  }\n",
              "\n",
              "  .colab-df-quickchart-complete:disabled,\n",
              "  .colab-df-quickchart-complete:disabled:hover {\n",
              "    background-color: var(--disabled-bg-color);\n",
              "    fill: var(--disabled-fill-color);\n",
              "    box-shadow: none;\n",
              "  }\n",
              "\n",
              "  .colab-df-spinner {\n",
              "    border: 2px solid var(--fill-color);\n",
              "    border-color: transparent;\n",
              "    border-bottom-color: var(--fill-color);\n",
              "    animation:\n",
              "      spin 1s steps(1) infinite;\n",
              "  }\n",
              "\n",
              "  @keyframes spin {\n",
              "    0% {\n",
              "      border-color: transparent;\n",
              "      border-bottom-color: var(--fill-color);\n",
              "      border-left-color: var(--fill-color);\n",
              "    }\n",
              "    20% {\n",
              "      border-color: transparent;\n",
              "      border-left-color: var(--fill-color);\n",
              "      border-top-color: var(--fill-color);\n",
              "    }\n",
              "    30% {\n",
              "      border-color: transparent;\n",
              "      border-left-color: var(--fill-color);\n",
              "      border-top-color: var(--fill-color);\n",
              "      border-right-color: var(--fill-color);\n",
              "    }\n",
              "    40% {\n",
              "      border-color: transparent;\n",
              "      border-right-color: var(--fill-color);\n",
              "      border-top-color: var(--fill-color);\n",
              "    }\n",
              "    60% {\n",
              "      border-color: transparent;\n",
              "      border-right-color: var(--fill-color);\n",
              "    }\n",
              "    80% {\n",
              "      border-color: transparent;\n",
              "      border-right-color: var(--fill-color);\n",
              "      border-bottom-color: var(--fill-color);\n",
              "    }\n",
              "    90% {\n",
              "      border-color: transparent;\n",
              "      border-bottom-color: var(--fill-color);\n",
              "    }\n",
              "  }\n",
              "</style>\n",
              "\n",
              "  <script>\n",
              "    async function quickchart(key) {\n",
              "      const quickchartButtonEl =\n",
              "        document.querySelector('#' + key + ' button');\n",
              "      quickchartButtonEl.disabled = true;  // To prevent multiple clicks.\n",
              "      quickchartButtonEl.classList.add('colab-df-spinner');\n",
              "      try {\n",
              "        const charts = await google.colab.kernel.invokeFunction(\n",
              "            'suggestCharts', [key], {});\n",
              "      } catch (error) {\n",
              "        console.error('Error during call to suggestCharts:', error);\n",
              "      }\n",
              "      quickchartButtonEl.classList.remove('colab-df-spinner');\n",
              "      quickchartButtonEl.classList.add('colab-df-quickchart-complete');\n",
              "    }\n",
              "    (() => {\n",
              "      let quickchartButtonEl =\n",
              "        document.querySelector('#df-35a5bbc5-546f-42a9-aa2a-8bfdfc4f6ead button');\n",
              "      quickchartButtonEl.style.display =\n",
              "        google.colab.kernel.accessAllowed ? 'block' : 'none';\n",
              "    })();\n",
              "  </script>\n",
              "</div>\n",
              "\n",
              "    </div>\n",
              "  </div>\n"
            ],
            "application/vnd.google.colaboratory.intrinsic+json": {
              "type": "dataframe",
              "variable_name": "data",
              "summary": "{\n  \"name\": \"data\",\n  \"rows\": 603,\n  \"fields\": [\n    {\n      \"column\": \"item group\",\n      \"properties\": {\n        \"dtype\": \"category\",\n        \"num_unique_values\": 8,\n        \"samples\": [\n          \"Women Wallets\",\n          \"Men Watches\",\n          \"WOMEN BAGS\"\n        ],\n        \"semantic_type\": \"\",\n        \"description\": \"\"\n      }\n    },\n    {\n      \"column\": \"price\",\n      \"properties\": {\n        \"dtype\": \"number\",\n        \"std\": 1042798.373858995,\n        \"min\": 384114.0,\n        \"max\": 6250000.0,\n        \"num_unique_values\": 80,\n        \"samples\": [\n          800000.0,\n          4250000.0,\n          2950000.0\n        ],\n        \"semantic_type\": \"\",\n        \"description\": \"\"\n      }\n    },\n    {\n      \"column\": \"merek\",\n      \"properties\": {\n        \"dtype\": \"category\",\n        \"num_unique_values\": 11,\n        \"samples\": [\n          \"OLIVIA BURTON\",\n          \"TORY BURCH\",\n          \"LONGCHAMP\"\n        ],\n        \"semantic_type\": \"\",\n        \"description\": \"\"\n      }\n    },\n    {\n      \"column\": \"Brand\",\n      \"properties\": {\n        \"dtype\": \"string\",\n        \"num_unique_values\": 373,\n        \"samples\": [\n          \"COACH 14503620 PURPLE RUBBER STRAP\",\n          \"KATE SPADE WKRU6593 HOLLIE SPADE CLOVER GEO LARGE TOTE PINK MULTI\",\n          \"MICHAEL KORS 36S0MC0Z30 COOPER TECH ZIP AROUND BLUE\"\n        ],\n        \"semantic_type\": \"\",\n        \"description\": \"\"\n      }\n    }\n  ]\n}"
            }
          },
          "metadata": {},
          "execution_count": 13
        }
      ]
    },
    {
      "cell_type": "code",
      "source": [
        "data.to_csv('mewah_clean.csv', index=False)\n",
        "print(\"Data berhasil disimpan\")"
      ],
      "metadata": {
        "colab": {
          "base_uri": "https://localhost:8080/"
        },
        "id": "C8bR7hFpO4Xc",
        "outputId": "071828d8-31cb-4a4a-f7c6-42cc035c02ed"
      },
      "execution_count": null,
      "outputs": [
        {
          "output_type": "stream",
          "name": "stdout",
          "text": [
            "Data berhasil disimpan\n"
          ]
        }
      ]
    },
    {
      "cell_type": "code",
      "source": [
        "data['Price_normalized'] = (data['price'] - data['price'].min()) / (data['price'].max() - data['price'].min())"
      ],
      "metadata": {
        "id": "33DIIZBFF9gW"
      },
      "execution_count": null,
      "outputs": []
    },
    {
      "cell_type": "code",
      "source": [
        "brand_counts = data['Brand'].value_counts()\n",
        "min_samples = 3\n",
        "data = data[data['Brand'].isin(brand_counts[brand_counts >= min_samples].index)]"
      ],
      "metadata": {
        "id": "LKaqbnncGMtV"
      },
      "execution_count": null,
      "outputs": []
    },
    {
      "cell_type": "code",
      "source": [
        "item_group_encoder = LabelEncoder()\n",
        "data['item group'] = item_group_encoder.fit_transform(data['item group'])\n",
        "merek_encoder = LabelEncoder()\n",
        "data['merek'] = merek_encoder.fit_transform(data['merek'])\n",
        "\n",
        "item_group_mapping = dict(zip(item_group_encoder.classes_, range(len(item_group_encoder.classes_))))\n",
        "merek_mapping = dict(zip(merek_encoder.classes_, range(len(merek_encoder.classes_))))\n",
        "print(item_group_mapping)\n",
        "print(merek_mapping)"
      ],
      "metadata": {
        "colab": {
          "base_uri": "https://localhost:8080/"
        },
        "id": "8c5B_AAyTBTl",
        "outputId": "9f2709f9-0702-4d0b-93d4-e638cd77cfed"
      },
      "execution_count": null,
      "outputs": [
        {
          "output_type": "stream",
          "name": "stdout",
          "text": [
            "{'WOMEN BAGS': 0, 'Women Shoes': 1, 'Women Wallets': 2, 'Women Watches': 3}\n",
            "{'COACH': 0, 'ETIENNE AIGNER': 1, 'FOSSIL': 2, 'KATE SPADE': 3, 'MICHAEL KORS': 4, 'TORY BURCH': 5}\n"
          ]
        }
      ]
    },
    {
      "cell_type": "code",
      "source": [
        "np.random.seed(42)\n",
        "tf.random.set_seed(42)"
      ],
      "metadata": {
        "id": "6ztiUBMfrYgP"
      },
      "execution_count": null,
      "outputs": []
    },
    {
      "cell_type": "code",
      "source": [
        "n_clusters = 10\n",
        "kmeans = KMeans(n_clusters=n_clusters, init='k-means++', random_state=42)\n",
        "data['Brand_cluster'] = kmeans.fit_predict(data[['Price_normalized', 'item group', 'merek']])"
      ],
      "metadata": {
        "id": "W9VNemaqTazD"
      },
      "execution_count": null,
      "outputs": []
    },
    {
      "cell_type": "code",
      "source": [
        "joblib.dump(kmeans, 'kmeans_brand.pkl')\n",
        "print(\"Model KMeans telah disimpan\")"
      ],
      "metadata": {
        "colab": {
          "base_uri": "https://localhost:8080/"
        },
        "id": "CoHqsbZLTo8y",
        "outputId": "4a56f82c-66fb-42a9-8356-7eaf1fda257d"
      },
      "execution_count": null,
      "outputs": [
        {
          "output_type": "stream",
          "name": "stdout",
          "text": [
            "Model KMeans telah disimpan\n"
          ]
        }
      ]
    },
    {
      "cell_type": "code",
      "source": [
        "cluster_counts = data['Brand_cluster'].value_counts()\n",
        "valid_clusters = cluster_counts[cluster_counts > 1].index\n",
        "data = data[data['Brand_cluster'].isin(valid_clusters)]"
      ],
      "metadata": {
        "id": "Wlqs_bmeT4mT"
      },
      "execution_count": null,
      "outputs": []
    },
    {
      "cell_type": "code",
      "source": [
        "features = data[['Price_normalized', 'item group', 'merek']].values\n",
        "labels = data['Brand_cluster'].values"
      ],
      "metadata": {
        "id": "YntKEVv5T6Rm"
      },
      "execution_count": null,
      "outputs": []
    },
    {
      "cell_type": "code",
      "source": [
        "scaler = StandardScaler()\n",
        "features = scaler.fit_transform(features)"
      ],
      "metadata": {
        "id": "3GK2rysnUKAM"
      },
      "execution_count": null,
      "outputs": []
    },
    {
      "cell_type": "code",
      "source": [
        "import joblib\n",
        "joblib.dump(scaler, 'scaler_brand.pkl')"
      ],
      "metadata": {
        "colab": {
          "base_uri": "https://localhost:8080/"
        },
        "id": "b0w3k5j8UK-O",
        "outputId": "6ee64e52-bbc7-4de8-b05a-8a2a364b21d2"
      },
      "execution_count": null,
      "outputs": [
        {
          "output_type": "execute_result",
          "data": {
            "text/plain": [
              "['scaler_brand.pkl']"
            ]
          },
          "metadata": {},
          "execution_count": 24
        }
      ]
    },
    {
      "cell_type": "code",
      "source": [
        "X_train, X_test, y_train, y_test = train_test_split(\n",
        "    features, labels, test_size=0.2, random_state=42, stratify=labels\n",
        ")\n",
        "class_weights = compute_class_weight('balanced', classes=np.unique(y_train), y=y_train)\n",
        "class_weight_dict = {i: class_weights[i] for i in range(len(class_weights))}"
      ],
      "metadata": {
        "id": "kCZA_Hg-USfQ"
      },
      "execution_count": null,
      "outputs": []
    },
    {
      "cell_type": "code",
      "source": [
        "model = tf.keras.Sequential([\n",
        "    tf.keras.layers.InputLayer(input_shape=(X_train.shape[1],)),\n",
        "    tf.keras.layers.Dense(, activation='relu',\n",
        "                          kernel_regularizer=regularizers.l2(0.001)),\n",
        "    tf.keras.layers.BatchNormalization(),\n",
        "    tf.keras.layers.Dropout(0.3),\n",
        "    tf.keras.layers.Dense(50, activation='relu',\n",
        "                          kernel_regularizer=regularizers.l2(0.001)),\n",
        "    tf.keras.layers.Dense(n_clusters, activation='softmax')\n",
        "])"
      ],
      "metadata": {
        "id": "lKOZScxJUhgq"
      },
      "execution_count": null,
      "outputs": []
    },
    {
      "cell_type": "code",
      "source": [
        "model.compile(optimizer=tf.keras.optimizers.Adam(learning_rate=0.0001),\n",
        "              loss='sparse_categorical_crossentropy',\n",
        "              metrics=['accuracy'])"
      ],
      "metadata": {
        "id": "Fxz8qKtvUi0n"
      },
      "execution_count": null,
      "outputs": []
    },
    {
      "cell_type": "code",
      "source": [
        "early_stopping = tf.keras.callbacks.EarlyStopping(monitor='val_loss', patience=10, restore_best_weights=True)\n",
        "lr_scheduler = tf.keras.callbacks.ReduceLROnPlateau(monitor='val_loss', factor=0.5, patience=5, min_lr=1e-6)\n",
        "history = model.fit(X_train, y_train,\n",
        "                    epochs=100,\n",
        "                    batch_size=8,\n",
        "                    validation_split=0.2,\n",
        "                    class_weight=class_weight_dict,\n",
        "                    verbose=1,\n",
        "                    callbacks=[early_stopping, lr_scheduler])"
      ],
      "metadata": {
        "colab": {
          "base_uri": "https://localhost:8080/"
        },
        "id": "zz_IftC-UlZX",
        "outputId": "85a8d70d-f78d-40fa-c7ef-d40d2aad0208"
      },
      "execution_count": null,
      "outputs": [
        {
          "output_type": "stream",
          "name": "stdout",
          "text": [
            "Epoch 1/100\n",
            "\u001b[1m15/15\u001b[0m \u001b[32m━━━━━━━━━━━━━━━━━━━━\u001b[0m\u001b[37m\u001b[0m \u001b[1m2s\u001b[0m 26ms/step - accuracy: 0.1279 - loss: 2.7833 - val_accuracy: 0.1034 - val_loss: 2.3873 - learning_rate: 1.0000e-04\n",
            "Epoch 2/100\n",
            "\u001b[1m15/15\u001b[0m \u001b[32m━━━━━━━━━━━━━━━━━━━━\u001b[0m\u001b[37m\u001b[0m \u001b[1m0s\u001b[0m 7ms/step - accuracy: 0.1750 - loss: 2.5564 - val_accuracy: 0.1034 - val_loss: 2.3780 - learning_rate: 1.0000e-04\n",
            "Epoch 3/100\n",
            "\u001b[1m15/15\u001b[0m \u001b[32m━━━━━━━━━━━━━━━━━━━━\u001b[0m\u001b[37m\u001b[0m \u001b[1m0s\u001b[0m 7ms/step - accuracy: 0.2141 - loss: 2.4881 - val_accuracy: 0.1034 - val_loss: 2.3659 - learning_rate: 1.0000e-04\n",
            "Epoch 4/100\n",
            "\u001b[1m15/15\u001b[0m \u001b[32m━━━━━━━━━━━━━━━━━━━━\u001b[0m\u001b[37m\u001b[0m \u001b[1m0s\u001b[0m 6ms/step - accuracy: 0.2423 - loss: 2.2260 - val_accuracy: 0.3103 - val_loss: 2.3504 - learning_rate: 1.0000e-04\n",
            "Epoch 5/100\n",
            "\u001b[1m15/15\u001b[0m \u001b[32m━━━━━━━━━━━━━━━━━━━━\u001b[0m\u001b[37m\u001b[0m \u001b[1m0s\u001b[0m 6ms/step - accuracy: 0.2220 - loss: 2.2582 - val_accuracy: 0.5172 - val_loss: 2.3352 - learning_rate: 1.0000e-04\n",
            "Epoch 6/100\n",
            "\u001b[1m15/15\u001b[0m \u001b[32m━━━━━━━━━━━━━━━━━━━━\u001b[0m\u001b[37m\u001b[0m \u001b[1m0s\u001b[0m 7ms/step - accuracy: 0.3275 - loss: 2.1896 - val_accuracy: 0.5172 - val_loss: 2.3159 - learning_rate: 1.0000e-04\n",
            "Epoch 7/100\n",
            "\u001b[1m15/15\u001b[0m \u001b[32m━━━━━━━━━━━━━━━━━━━━\u001b[0m\u001b[37m\u001b[0m \u001b[1m0s\u001b[0m 7ms/step - accuracy: 0.2325 - loss: 2.2441 - val_accuracy: 0.5172 - val_loss: 2.2935 - learning_rate: 1.0000e-04\n",
            "Epoch 8/100\n",
            "\u001b[1m15/15\u001b[0m \u001b[32m━━━━━━━━━━━━━━━━━━━━\u001b[0m\u001b[37m\u001b[0m \u001b[1m0s\u001b[0m 6ms/step - accuracy: 0.2811 - loss: 1.9776 - val_accuracy: 0.5172 - val_loss: 2.2681 - learning_rate: 1.0000e-04\n",
            "Epoch 9/100\n",
            "\u001b[1m15/15\u001b[0m \u001b[32m━━━━━━━━━━━━━━━━━━━━\u001b[0m\u001b[37m\u001b[0m \u001b[1m0s\u001b[0m 8ms/step - accuracy: 0.3763 - loss: 1.9000 - val_accuracy: 0.5172 - val_loss: 2.2386 - learning_rate: 1.0000e-04\n",
            "Epoch 10/100\n",
            "\u001b[1m15/15\u001b[0m \u001b[32m━━━━━━━━━━━━━━━━━━━━\u001b[0m\u001b[37m\u001b[0m \u001b[1m0s\u001b[0m 9ms/step - accuracy: 0.3520 - loss: 1.9576 - val_accuracy: 0.5172 - val_loss: 2.2076 - learning_rate: 1.0000e-04\n",
            "Epoch 11/100\n",
            "\u001b[1m15/15\u001b[0m \u001b[32m━━━━━━━━━━━━━━━━━━━━\u001b[0m\u001b[37m\u001b[0m \u001b[1m0s\u001b[0m 8ms/step - accuracy: 0.5091 - loss: 1.8301 - val_accuracy: 0.5862 - val_loss: 2.1756 - learning_rate: 1.0000e-04\n",
            "Epoch 12/100\n",
            "\u001b[1m15/15\u001b[0m \u001b[32m━━━━━━━━━━━━━━━━━━━━\u001b[0m\u001b[37m\u001b[0m \u001b[1m0s\u001b[0m 6ms/step - accuracy: 0.4036 - loss: 1.7683 - val_accuracy: 0.5862 - val_loss: 2.1378 - learning_rate: 1.0000e-04\n",
            "Epoch 13/100\n",
            "\u001b[1m15/15\u001b[0m \u001b[32m━━━━━━━━━━━━━━━━━━━━\u001b[0m\u001b[37m\u001b[0m \u001b[1m0s\u001b[0m 8ms/step - accuracy: 0.4557 - loss: 1.8360 - val_accuracy: 0.6207 - val_loss: 2.0969 - learning_rate: 1.0000e-04\n",
            "Epoch 14/100\n",
            "\u001b[1m15/15\u001b[0m \u001b[32m━━━━━━━━━━━━━━━━━━━━\u001b[0m\u001b[37m\u001b[0m \u001b[1m0s\u001b[0m 7ms/step - accuracy: 0.5231 - loss: 1.6552 - val_accuracy: 0.6207 - val_loss: 2.0522 - learning_rate: 1.0000e-04\n",
            "Epoch 15/100\n",
            "\u001b[1m15/15\u001b[0m \u001b[32m━━━━━━━━━━━━━━━━━━━━\u001b[0m\u001b[37m\u001b[0m \u001b[1m0s\u001b[0m 5ms/step - accuracy: 0.4953 - loss: 1.6005 - val_accuracy: 0.6552 - val_loss: 2.0053 - learning_rate: 1.0000e-04\n",
            "Epoch 16/100\n",
            "\u001b[1m15/15\u001b[0m \u001b[32m━━━━━━━━━━━━━━━━━━━━\u001b[0m\u001b[37m\u001b[0m \u001b[1m0s\u001b[0m 5ms/step - accuracy: 0.5086 - loss: 1.4984 - val_accuracy: 0.6897 - val_loss: 1.9530 - learning_rate: 1.0000e-04\n",
            "Epoch 17/100\n",
            "\u001b[1m15/15\u001b[0m \u001b[32m━━━━━━━━━━━━━━━━━━━━\u001b[0m\u001b[37m\u001b[0m \u001b[1m0s\u001b[0m 5ms/step - accuracy: 0.5953 - loss: 1.5727 - val_accuracy: 0.7586 - val_loss: 1.8980 - learning_rate: 1.0000e-04\n",
            "Epoch 18/100\n",
            "\u001b[1m15/15\u001b[0m \u001b[32m━━━━━━━━━━━━━━━━━━━━\u001b[0m\u001b[37m\u001b[0m \u001b[1m0s\u001b[0m 4ms/step - accuracy: 0.6614 - loss: 1.5532 - val_accuracy: 0.7586 - val_loss: 1.8420 - learning_rate: 1.0000e-04\n",
            "Epoch 19/100\n",
            "\u001b[1m15/15\u001b[0m \u001b[32m━━━━━━━━━━━━━━━━━━━━\u001b[0m\u001b[37m\u001b[0m \u001b[1m0s\u001b[0m 5ms/step - accuracy: 0.5114 - loss: 1.4431 - val_accuracy: 0.7586 - val_loss: 1.7836 - learning_rate: 1.0000e-04\n",
            "Epoch 20/100\n",
            "\u001b[1m15/15\u001b[0m \u001b[32m━━━━━━━━━━━━━━━━━━━━\u001b[0m\u001b[37m\u001b[0m \u001b[1m0s\u001b[0m 4ms/step - accuracy: 0.6843 - loss: 1.5370 - val_accuracy: 0.7586 - val_loss: 1.7241 - learning_rate: 1.0000e-04\n",
            "Epoch 21/100\n",
            "\u001b[1m15/15\u001b[0m \u001b[32m━━━━━━━━━━━━━━━━━━━━\u001b[0m\u001b[37m\u001b[0m \u001b[1m0s\u001b[0m 5ms/step - accuracy: 0.6702 - loss: 1.2684 - val_accuracy: 0.7586 - val_loss: 1.6639 - learning_rate: 1.0000e-04\n",
            "Epoch 22/100\n",
            "\u001b[1m15/15\u001b[0m \u001b[32m━━━━━━━━━━━━━━━━━━━━\u001b[0m\u001b[37m\u001b[0m \u001b[1m0s\u001b[0m 4ms/step - accuracy: 0.5931 - loss: 1.4967 - val_accuracy: 0.7586 - val_loss: 1.6015 - learning_rate: 1.0000e-04\n",
            "Epoch 23/100\n",
            "\u001b[1m15/15\u001b[0m \u001b[32m━━━━━━━━━━━━━━━━━━━━\u001b[0m\u001b[37m\u001b[0m \u001b[1m0s\u001b[0m 5ms/step - accuracy: 0.6860 - loss: 1.3778 - val_accuracy: 0.7931 - val_loss: 1.5397 - learning_rate: 1.0000e-04\n",
            "Epoch 24/100\n",
            "\u001b[1m15/15\u001b[0m \u001b[32m━━━━━━━━━━━━━━━━━━━━\u001b[0m\u001b[37m\u001b[0m \u001b[1m0s\u001b[0m 4ms/step - accuracy: 0.7353 - loss: 1.2244 - val_accuracy: 0.7931 - val_loss: 1.4787 - learning_rate: 1.0000e-04\n",
            "Epoch 25/100\n",
            "\u001b[1m15/15\u001b[0m \u001b[32m━━━━━━━━━━━━━━━━━━━━\u001b[0m\u001b[37m\u001b[0m \u001b[1m0s\u001b[0m 4ms/step - accuracy: 0.7226 - loss: 1.2570 - val_accuracy: 0.7931 - val_loss: 1.4170 - learning_rate: 1.0000e-04\n",
            "Epoch 26/100\n",
            "\u001b[1m15/15\u001b[0m \u001b[32m━━━━━━━━━━━━━━━━━━━━\u001b[0m\u001b[37m\u001b[0m \u001b[1m0s\u001b[0m 6ms/step - accuracy: 0.6739 - loss: 1.4260 - val_accuracy: 0.8276 - val_loss: 1.3586 - learning_rate: 1.0000e-04\n",
            "Epoch 27/100\n",
            "\u001b[1m15/15\u001b[0m \u001b[32m━━━━━━━━━━━━━━━━━━━━\u001b[0m\u001b[37m\u001b[0m \u001b[1m0s\u001b[0m 4ms/step - accuracy: 0.8002 - loss: 1.1854 - val_accuracy: 0.8276 - val_loss: 1.2971 - learning_rate: 1.0000e-04\n",
            "Epoch 28/100\n",
            "\u001b[1m15/15\u001b[0m \u001b[32m━━━━━━━━━━━━━━━━━━━━\u001b[0m\u001b[37m\u001b[0m \u001b[1m0s\u001b[0m 5ms/step - accuracy: 0.7009 - loss: 1.2041 - val_accuracy: 0.8276 - val_loss: 1.2342 - learning_rate: 1.0000e-04\n",
            "Epoch 29/100\n",
            "\u001b[1m15/15\u001b[0m \u001b[32m━━━━━━━━━━━━━━━━━━━━\u001b[0m\u001b[37m\u001b[0m \u001b[1m0s\u001b[0m 5ms/step - accuracy: 0.8350 - loss: 0.9852 - val_accuracy: 0.8621 - val_loss: 1.1789 - learning_rate: 1.0000e-04\n",
            "Epoch 30/100\n",
            "\u001b[1m15/15\u001b[0m \u001b[32m━━━━━━━━━━━━━━━━━━━━\u001b[0m\u001b[37m\u001b[0m \u001b[1m0s\u001b[0m 5ms/step - accuracy: 0.7504 - loss: 1.2355 - val_accuracy: 0.8621 - val_loss: 1.1267 - learning_rate: 1.0000e-04\n",
            "Epoch 31/100\n",
            "\u001b[1m15/15\u001b[0m \u001b[32m━━━━━━━━━━━━━━━━━━━━\u001b[0m\u001b[37m\u001b[0m \u001b[1m0s\u001b[0m 5ms/step - accuracy: 0.7395 - loss: 1.2252 - val_accuracy: 0.8621 - val_loss: 1.0769 - learning_rate: 1.0000e-04\n",
            "Epoch 32/100\n",
            "\u001b[1m15/15\u001b[0m \u001b[32m━━━━━━━━━━━━━━━━━━━━\u001b[0m\u001b[37m\u001b[0m \u001b[1m0s\u001b[0m 4ms/step - accuracy: 0.7870 - loss: 1.0782 - val_accuracy: 0.8621 - val_loss: 1.0279 - learning_rate: 1.0000e-04\n",
            "Epoch 33/100\n",
            "\u001b[1m15/15\u001b[0m \u001b[32m━━━━━━━━━━━━━━━━━━━━\u001b[0m\u001b[37m\u001b[0m \u001b[1m0s\u001b[0m 6ms/step - accuracy: 0.7963 - loss: 1.1406 - val_accuracy: 0.8621 - val_loss: 0.9817 - learning_rate: 1.0000e-04\n",
            "Epoch 34/100\n",
            "\u001b[1m15/15\u001b[0m \u001b[32m━━━━━━━━━━━━━━━━━━━━\u001b[0m\u001b[37m\u001b[0m \u001b[1m0s\u001b[0m 5ms/step - accuracy: 0.8311 - loss: 1.0955 - val_accuracy: 0.8621 - val_loss: 0.9374 - learning_rate: 1.0000e-04\n",
            "Epoch 35/100\n",
            "\u001b[1m15/15\u001b[0m \u001b[32m━━━━━━━━━━━━━━━━━━━━\u001b[0m\u001b[37m\u001b[0m \u001b[1m0s\u001b[0m 7ms/step - accuracy: 0.7445 - loss: 1.0369 - val_accuracy: 0.8621 - val_loss: 0.8948 - learning_rate: 1.0000e-04\n",
            "Epoch 36/100\n",
            "\u001b[1m15/15\u001b[0m \u001b[32m━━━━━━━━━━━━━━━━━━━━\u001b[0m\u001b[37m\u001b[0m \u001b[1m0s\u001b[0m 5ms/step - accuracy: 0.8400 - loss: 0.9026 - val_accuracy: 0.9310 - val_loss: 0.8552 - learning_rate: 1.0000e-04\n",
            "Epoch 37/100\n",
            "\u001b[1m15/15\u001b[0m \u001b[32m━━━━━━━━━━━━━━━━━━━━\u001b[0m\u001b[37m\u001b[0m \u001b[1m0s\u001b[0m 5ms/step - accuracy: 0.8606 - loss: 0.9427 - val_accuracy: 0.9310 - val_loss: 0.8222 - learning_rate: 1.0000e-04\n",
            "Epoch 38/100\n",
            "\u001b[1m15/15\u001b[0m \u001b[32m━━━━━━━━━━━━━━━━━━━━\u001b[0m\u001b[37m\u001b[0m \u001b[1m0s\u001b[0m 5ms/step - accuracy: 0.8277 - loss: 1.0727 - val_accuracy: 0.9310 - val_loss: 0.7917 - learning_rate: 1.0000e-04\n",
            "Epoch 39/100\n",
            "\u001b[1m15/15\u001b[0m \u001b[32m━━━━━━━━━━━━━━━━━━━━\u001b[0m\u001b[37m\u001b[0m \u001b[1m0s\u001b[0m 4ms/step - accuracy: 0.8618 - loss: 0.8991 - val_accuracy: 0.9310 - val_loss: 0.7610 - learning_rate: 1.0000e-04\n",
            "Epoch 40/100\n",
            "\u001b[1m15/15\u001b[0m \u001b[32m━━━━━━━━━━━━━━━━━━━━\u001b[0m\u001b[37m\u001b[0m \u001b[1m0s\u001b[0m 4ms/step - accuracy: 0.7844 - loss: 1.0027 - val_accuracy: 0.9310 - val_loss: 0.7336 - learning_rate: 1.0000e-04\n",
            "Epoch 41/100\n",
            "\u001b[1m15/15\u001b[0m \u001b[32m━━━━━━━━━━━━━━━━━━━━\u001b[0m\u001b[37m\u001b[0m \u001b[1m0s\u001b[0m 5ms/step - accuracy: 0.8366 - loss: 0.8460 - val_accuracy: 0.9310 - val_loss: 0.7099 - learning_rate: 1.0000e-04\n",
            "Epoch 42/100\n",
            "\u001b[1m15/15\u001b[0m \u001b[32m━━━━━━━━━━━━━━━━━━━━\u001b[0m\u001b[37m\u001b[0m \u001b[1m0s\u001b[0m 5ms/step - accuracy: 0.8103 - loss: 0.9365 - val_accuracy: 0.9310 - val_loss: 0.6887 - learning_rate: 1.0000e-04\n",
            "Epoch 43/100\n",
            "\u001b[1m15/15\u001b[0m \u001b[32m━━━━━━━━━━━━━━━━━━━━\u001b[0m\u001b[37m\u001b[0m \u001b[1m0s\u001b[0m 5ms/step - accuracy: 0.8346 - loss: 1.0647 - val_accuracy: 0.9310 - val_loss: 0.6699 - learning_rate: 1.0000e-04\n",
            "Epoch 44/100\n",
            "\u001b[1m15/15\u001b[0m \u001b[32m━━━━━━━━━━━━━━━━━━━━\u001b[0m\u001b[37m\u001b[0m \u001b[1m0s\u001b[0m 5ms/step - accuracy: 0.8452 - loss: 0.8910 - val_accuracy: 0.9310 - val_loss: 0.6517 - learning_rate: 1.0000e-04\n",
            "Epoch 45/100\n",
            "\u001b[1m15/15\u001b[0m \u001b[32m━━━━━━━━━━━━━━━━━━━━\u001b[0m\u001b[37m\u001b[0m \u001b[1m0s\u001b[0m 4ms/step - accuracy: 0.8190 - loss: 0.8406 - val_accuracy: 0.9310 - val_loss: 0.6317 - learning_rate: 1.0000e-04\n",
            "Epoch 46/100\n",
            "\u001b[1m15/15\u001b[0m \u001b[32m━━━━━━━━━━━━━━━━━━━━\u001b[0m\u001b[37m\u001b[0m \u001b[1m0s\u001b[0m 5ms/step - accuracy: 0.8020 - loss: 0.9351 - val_accuracy: 0.9310 - val_loss: 0.6152 - learning_rate: 1.0000e-04\n",
            "Epoch 47/100\n",
            "\u001b[1m15/15\u001b[0m \u001b[32m━━━━━━━━━━━━━━━━━━━━\u001b[0m\u001b[37m\u001b[0m \u001b[1m0s\u001b[0m 4ms/step - accuracy: 0.8606 - loss: 0.7645 - val_accuracy: 0.9310 - val_loss: 0.5998 - learning_rate: 1.0000e-04\n",
            "Epoch 48/100\n",
            "\u001b[1m15/15\u001b[0m \u001b[32m━━━━━━━━━━━━━━━━━━━━\u001b[0m\u001b[37m\u001b[0m \u001b[1m0s\u001b[0m 4ms/step - accuracy: 0.8190 - loss: 0.7887 - val_accuracy: 0.9310 - val_loss: 0.5825 - learning_rate: 1.0000e-04\n",
            "Epoch 49/100\n",
            "\u001b[1m15/15\u001b[0m \u001b[32m━━━━━━━━━━━━━━━━━━━━\u001b[0m\u001b[37m\u001b[0m \u001b[1m0s\u001b[0m 5ms/step - accuracy: 0.8500 - loss: 0.8144 - val_accuracy: 0.9310 - val_loss: 0.5674 - learning_rate: 1.0000e-04\n",
            "Epoch 50/100\n",
            "\u001b[1m15/15\u001b[0m \u001b[32m━━━━━━━━━━━━━━━━━━━━\u001b[0m\u001b[37m\u001b[0m \u001b[1m0s\u001b[0m 6ms/step - accuracy: 0.8934 - loss: 0.7217 - val_accuracy: 0.9310 - val_loss: 0.5525 - learning_rate: 1.0000e-04\n",
            "Epoch 51/100\n",
            "\u001b[1m15/15\u001b[0m \u001b[32m━━━━━━━━━━━━━━━━━━━━\u001b[0m\u001b[37m\u001b[0m \u001b[1m0s\u001b[0m 4ms/step - accuracy: 0.8825 - loss: 0.7826 - val_accuracy: 0.9310 - val_loss: 0.5394 - learning_rate: 1.0000e-04\n",
            "Epoch 52/100\n",
            "\u001b[1m15/15\u001b[0m \u001b[32m━━━━━━━━━━━━━━━━━━━━\u001b[0m\u001b[37m\u001b[0m \u001b[1m0s\u001b[0m 4ms/step - accuracy: 0.8591 - loss: 0.7102 - val_accuracy: 0.9310 - val_loss: 0.5281 - learning_rate: 1.0000e-04\n",
            "Epoch 53/100\n",
            "\u001b[1m15/15\u001b[0m \u001b[32m━━━━━━━━━━━━━━━━━━━━\u001b[0m\u001b[37m\u001b[0m \u001b[1m0s\u001b[0m 4ms/step - accuracy: 0.8476 - loss: 0.7875 - val_accuracy: 0.9310 - val_loss: 0.5149 - learning_rate: 1.0000e-04\n",
            "Epoch 54/100\n",
            "\u001b[1m15/15\u001b[0m \u001b[32m━━━━━━━━━━━━━━━━━━━━\u001b[0m\u001b[37m\u001b[0m \u001b[1m0s\u001b[0m 6ms/step - accuracy: 0.9194 - loss: 0.6456 - val_accuracy: 0.9310 - val_loss: 0.5019 - learning_rate: 1.0000e-04\n",
            "Epoch 55/100\n",
            "\u001b[1m15/15\u001b[0m \u001b[32m━━━━━━━━━━━━━━━━━━━━\u001b[0m\u001b[37m\u001b[0m \u001b[1m0s\u001b[0m 5ms/step - accuracy: 0.8691 - loss: 0.7096 - val_accuracy: 0.9310 - val_loss: 0.4917 - learning_rate: 1.0000e-04\n",
            "Epoch 56/100\n",
            "\u001b[1m15/15\u001b[0m \u001b[32m━━━━━━━━━━━━━━━━━━━━\u001b[0m\u001b[37m\u001b[0m \u001b[1m0s\u001b[0m 4ms/step - accuracy: 0.8913 - loss: 0.6734 - val_accuracy: 0.9310 - val_loss: 0.4831 - learning_rate: 1.0000e-04\n",
            "Epoch 57/100\n",
            "\u001b[1m15/15\u001b[0m \u001b[32m━━━━━━━━━━━━━━━━━━━━\u001b[0m\u001b[37m\u001b[0m \u001b[1m0s\u001b[0m 4ms/step - accuracy: 0.8871 - loss: 0.6742 - val_accuracy: 0.9310 - val_loss: 0.4745 - learning_rate: 1.0000e-04\n",
            "Epoch 58/100\n",
            "\u001b[1m15/15\u001b[0m \u001b[32m━━━━━━━━━━━━━━━━━━━━\u001b[0m\u001b[37m\u001b[0m \u001b[1m0s\u001b[0m 6ms/step - accuracy: 0.8879 - loss: 0.6148 - val_accuracy: 0.9310 - val_loss: 0.4660 - learning_rate: 1.0000e-04\n",
            "Epoch 59/100\n",
            "\u001b[1m15/15\u001b[0m \u001b[32m━━━━━━━━━━━━━━━━━━━━\u001b[0m\u001b[37m\u001b[0m \u001b[1m0s\u001b[0m 6ms/step - accuracy: 0.8888 - loss: 0.6026 - val_accuracy: 0.9310 - val_loss: 0.4577 - learning_rate: 1.0000e-04\n",
            "Epoch 60/100\n",
            "\u001b[1m15/15\u001b[0m \u001b[32m━━━━━━━━━━━━━━━━━━━━\u001b[0m\u001b[37m\u001b[0m \u001b[1m0s\u001b[0m 5ms/step - accuracy: 0.8768 - loss: 0.6609 - val_accuracy: 0.9310 - val_loss: 0.4494 - learning_rate: 1.0000e-04\n",
            "Epoch 61/100\n",
            "\u001b[1m15/15\u001b[0m \u001b[32m━━━━━━━━━━━━━━━━━━━━\u001b[0m\u001b[37m\u001b[0m \u001b[1m0s\u001b[0m 4ms/step - accuracy: 0.9033 - loss: 0.6241 - val_accuracy: 0.9310 - val_loss: 0.4407 - learning_rate: 1.0000e-04\n",
            "Epoch 62/100\n",
            "\u001b[1m15/15\u001b[0m \u001b[32m━━━━━━━━━━━━━━━━━━━━\u001b[0m\u001b[37m\u001b[0m \u001b[1m0s\u001b[0m 4ms/step - accuracy: 0.8809 - loss: 0.7159 - val_accuracy: 0.9310 - val_loss: 0.4349 - learning_rate: 1.0000e-04\n",
            "Epoch 63/100\n",
            "\u001b[1m15/15\u001b[0m \u001b[32m━━━━━━━━━━━━━━━━━━━━\u001b[0m\u001b[37m\u001b[0m \u001b[1m0s\u001b[0m 5ms/step - accuracy: 0.8929 - loss: 0.5996 - val_accuracy: 0.9310 - val_loss: 0.4289 - learning_rate: 1.0000e-04\n",
            "Epoch 64/100\n",
            "\u001b[1m15/15\u001b[0m \u001b[32m━━━━━━━━━━━━━━━━━━━━\u001b[0m\u001b[37m\u001b[0m \u001b[1m0s\u001b[0m 4ms/step - accuracy: 0.8567 - loss: 0.6892 - val_accuracy: 0.9310 - val_loss: 0.4247 - learning_rate: 1.0000e-04\n",
            "Epoch 65/100\n",
            "\u001b[1m15/15\u001b[0m \u001b[32m━━━━━━━━━━━━━━━━━━━━\u001b[0m\u001b[37m\u001b[0m \u001b[1m0s\u001b[0m 4ms/step - accuracy: 0.9116 - loss: 0.6302 - val_accuracy: 0.9310 - val_loss: 0.4191 - learning_rate: 1.0000e-04\n",
            "Epoch 66/100\n",
            "\u001b[1m15/15\u001b[0m \u001b[32m━━━━━━━━━━━━━━━━━━━━\u001b[0m\u001b[37m\u001b[0m \u001b[1m0s\u001b[0m 5ms/step - accuracy: 0.8914 - loss: 0.6062 - val_accuracy: 0.9310 - val_loss: 0.4156 - learning_rate: 1.0000e-04\n",
            "Epoch 67/100\n",
            "\u001b[1m15/15\u001b[0m \u001b[32m━━━━━━━━━━━━━━━━━━━━\u001b[0m\u001b[37m\u001b[0m \u001b[1m0s\u001b[0m 5ms/step - accuracy: 0.9265 - loss: 0.5507 - val_accuracy: 0.9310 - val_loss: 0.4101 - learning_rate: 1.0000e-04\n",
            "Epoch 68/100\n",
            "\u001b[1m15/15\u001b[0m \u001b[32m━━━━━━━━━━━━━━━━━━━━\u001b[0m\u001b[37m\u001b[0m \u001b[1m0s\u001b[0m 5ms/step - accuracy: 0.8945 - loss: 0.5691 - val_accuracy: 0.9310 - val_loss: 0.4044 - learning_rate: 1.0000e-04\n",
            "Epoch 69/100\n",
            "\u001b[1m15/15\u001b[0m \u001b[32m━━━━━━━━━━━━━━━━━━━━\u001b[0m\u001b[37m\u001b[0m \u001b[1m0s\u001b[0m 4ms/step - accuracy: 0.8773 - loss: 0.5884 - val_accuracy: 0.9310 - val_loss: 0.3998 - learning_rate: 1.0000e-04\n",
            "Epoch 70/100\n",
            "\u001b[1m15/15\u001b[0m \u001b[32m━━━━━━━━━━━━━━━━━━━━\u001b[0m\u001b[37m\u001b[0m \u001b[1m0s\u001b[0m 4ms/step - accuracy: 0.9109 - loss: 0.5278 - val_accuracy: 0.9310 - val_loss: 0.3952 - learning_rate: 1.0000e-04\n",
            "Epoch 71/100\n",
            "\u001b[1m15/15\u001b[0m \u001b[32m━━━━━━━━━━━━━━━━━━━━\u001b[0m\u001b[37m\u001b[0m \u001b[1m0s\u001b[0m 6ms/step - accuracy: 0.9354 - loss: 0.5013 - val_accuracy: 0.9310 - val_loss: 0.3893 - learning_rate: 1.0000e-04\n",
            "Epoch 72/100\n",
            "\u001b[1m15/15\u001b[0m \u001b[32m━━━━━━━━━━━━━━━━━━━━\u001b[0m\u001b[37m\u001b[0m \u001b[1m0s\u001b[0m 5ms/step - accuracy: 0.9144 - loss: 0.5219 - val_accuracy: 0.9310 - val_loss: 0.3854 - learning_rate: 1.0000e-04\n",
            "Epoch 73/100\n",
            "\u001b[1m15/15\u001b[0m \u001b[32m━━━━━━━━━━━━━━━━━━━━\u001b[0m\u001b[37m\u001b[0m \u001b[1m0s\u001b[0m 4ms/step - accuracy: 0.8968 - loss: 0.4732 - val_accuracy: 0.9310 - val_loss: 0.3831 - learning_rate: 1.0000e-04\n",
            "Epoch 74/100\n",
            "\u001b[1m15/15\u001b[0m \u001b[32m━━━━━━━━━━━━━━━━━━━━\u001b[0m\u001b[37m\u001b[0m \u001b[1m0s\u001b[0m 4ms/step - accuracy: 0.9128 - loss: 0.5728 - val_accuracy: 0.9310 - val_loss: 0.3781 - learning_rate: 1.0000e-04\n",
            "Epoch 75/100\n",
            "\u001b[1m15/15\u001b[0m \u001b[32m━━━━━━━━━━━━━━━━━━━━\u001b[0m\u001b[37m\u001b[0m \u001b[1m0s\u001b[0m 6ms/step - accuracy: 0.9521 - loss: 0.4943 - val_accuracy: 0.9310 - val_loss: 0.3735 - learning_rate: 1.0000e-04\n",
            "Epoch 76/100\n",
            "\u001b[1m15/15\u001b[0m \u001b[32m━━━━━━━━━━━━━━━━━━━━\u001b[0m\u001b[37m\u001b[0m \u001b[1m0s\u001b[0m 5ms/step - accuracy: 0.9437 - loss: 0.4953 - val_accuracy: 0.9310 - val_loss: 0.3698 - learning_rate: 1.0000e-04\n",
            "Epoch 77/100\n",
            "\u001b[1m15/15\u001b[0m \u001b[32m━━━━━━━━━━━━━━━━━━━━\u001b[0m\u001b[37m\u001b[0m \u001b[1m0s\u001b[0m 5ms/step - accuracy: 0.9176 - loss: 0.5465 - val_accuracy: 0.9310 - val_loss: 0.3673 - learning_rate: 1.0000e-04\n",
            "Epoch 78/100\n",
            "\u001b[1m15/15\u001b[0m \u001b[32m━━━━━━━━━━━━━━━━━━━━\u001b[0m\u001b[37m\u001b[0m \u001b[1m0s\u001b[0m 4ms/step - accuracy: 0.8758 - loss: 0.5435 - val_accuracy: 0.9310 - val_loss: 0.3640 - learning_rate: 1.0000e-04\n",
            "Epoch 79/100\n",
            "\u001b[1m15/15\u001b[0m \u001b[32m━━━━━━━━━━━━━━━━━━━━\u001b[0m\u001b[37m\u001b[0m \u001b[1m0s\u001b[0m 5ms/step - accuracy: 0.9486 - loss: 0.4659 - val_accuracy: 0.9310 - val_loss: 0.3605 - learning_rate: 1.0000e-04\n",
            "Epoch 80/100\n",
            "\u001b[1m15/15\u001b[0m \u001b[32m━━━━━━━━━━━━━━━━━━━━\u001b[0m\u001b[37m\u001b[0m \u001b[1m0s\u001b[0m 5ms/step - accuracy: 0.8850 - loss: 0.4414 - val_accuracy: 0.9310 - val_loss: 0.3574 - learning_rate: 1.0000e-04\n",
            "Epoch 81/100\n",
            "\u001b[1m15/15\u001b[0m \u001b[32m━━━━━━━━━━━━━━━━━━━━\u001b[0m\u001b[37m\u001b[0m \u001b[1m0s\u001b[0m 4ms/step - accuracy: 0.9015 - loss: 0.4652 - val_accuracy: 0.9310 - val_loss: 0.3557 - learning_rate: 1.0000e-04\n",
            "Epoch 82/100\n",
            "\u001b[1m15/15\u001b[0m \u001b[32m━━━━━━━━━━━━━━━━━━━━\u001b[0m\u001b[37m\u001b[0m \u001b[1m0s\u001b[0m 4ms/step - accuracy: 0.9227 - loss: 0.4305 - val_accuracy: 0.9310 - val_loss: 0.3546 - learning_rate: 1.0000e-04\n",
            "Epoch 83/100\n",
            "\u001b[1m15/15\u001b[0m \u001b[32m━━━━━━━━━━━━━━━━━━━━\u001b[0m\u001b[37m\u001b[0m \u001b[1m0s\u001b[0m 4ms/step - accuracy: 0.9779 - loss: 0.4136 - val_accuracy: 0.9310 - val_loss: 0.3525 - learning_rate: 1.0000e-04\n",
            "Epoch 84/100\n",
            "\u001b[1m15/15\u001b[0m \u001b[32m━━━━━━━━━━━━━━━━━━━━\u001b[0m\u001b[37m\u001b[0m \u001b[1m0s\u001b[0m 6ms/step - accuracy: 0.9332 - loss: 0.4329 - val_accuracy: 0.9310 - val_loss: 0.3504 - learning_rate: 1.0000e-04\n",
            "Epoch 85/100\n",
            "\u001b[1m15/15\u001b[0m \u001b[32m━━━━━━━━━━━━━━━━━━━━\u001b[0m\u001b[37m\u001b[0m \u001b[1m0s\u001b[0m 5ms/step - accuracy: 0.9517 - loss: 0.4708 - val_accuracy: 0.9310 - val_loss: 0.3487 - learning_rate: 1.0000e-04\n",
            "Epoch 86/100\n",
            "\u001b[1m15/15\u001b[0m \u001b[32m━━━━━━━━━━━━━━━━━━━━\u001b[0m\u001b[37m\u001b[0m \u001b[1m0s\u001b[0m 5ms/step - accuracy: 0.9353 - loss: 0.4079 - val_accuracy: 0.9310 - val_loss: 0.3470 - learning_rate: 1.0000e-04\n",
            "Epoch 87/100\n",
            "\u001b[1m15/15\u001b[0m \u001b[32m━━━━━━━━━━━━━━━━━━━━\u001b[0m\u001b[37m\u001b[0m \u001b[1m0s\u001b[0m 4ms/step - accuracy: 0.9529 - loss: 0.5120 - val_accuracy: 0.9310 - val_loss: 0.3429 - learning_rate: 1.0000e-04\n",
            "Epoch 88/100\n",
            "\u001b[1m15/15\u001b[0m \u001b[32m━━━━━━━━━━━━━━━━━━━━\u001b[0m\u001b[37m\u001b[0m \u001b[1m0s\u001b[0m 4ms/step - accuracy: 0.9164 - loss: 0.4039 - val_accuracy: 0.9310 - val_loss: 0.3402 - learning_rate: 1.0000e-04\n",
            "Epoch 89/100\n",
            "\u001b[1m15/15\u001b[0m \u001b[32m━━━━━━━━━━━━━━━━━━━━\u001b[0m\u001b[37m\u001b[0m \u001b[1m0s\u001b[0m 4ms/step - accuracy: 0.8992 - loss: 0.4209 - val_accuracy: 0.9310 - val_loss: 0.3391 - learning_rate: 1.0000e-04\n",
            "Epoch 90/100\n",
            "\u001b[1m15/15\u001b[0m \u001b[32m━━━━━━━━━━━━━━━━━━━━\u001b[0m\u001b[37m\u001b[0m \u001b[1m0s\u001b[0m 4ms/step - accuracy: 0.9385 - loss: 0.4297 - val_accuracy: 0.8966 - val_loss: 0.3369 - learning_rate: 1.0000e-04\n",
            "Epoch 91/100\n",
            "\u001b[1m15/15\u001b[0m \u001b[32m━━━━━━━━━━━━━━━━━━━━\u001b[0m\u001b[37m\u001b[0m \u001b[1m0s\u001b[0m 4ms/step - accuracy: 0.9722 - loss: 0.3516 - val_accuracy: 0.8966 - val_loss: 0.3352 - learning_rate: 1.0000e-04\n",
            "Epoch 92/100\n",
            "\u001b[1m15/15\u001b[0m \u001b[32m━━━━━━━━━━━━━━━━━━━━\u001b[0m\u001b[37m\u001b[0m \u001b[1m0s\u001b[0m 5ms/step - accuracy: 0.9177 - loss: 0.3548 - val_accuracy: 0.8966 - val_loss: 0.3327 - learning_rate: 1.0000e-04\n",
            "Epoch 93/100\n",
            "\u001b[1m15/15\u001b[0m \u001b[32m━━━━━━━━━━━━━━━━━━━━\u001b[0m\u001b[37m\u001b[0m \u001b[1m0s\u001b[0m 6ms/step - accuracy: 0.9491 - loss: 0.3230 - val_accuracy: 0.8966 - val_loss: 0.3315 - learning_rate: 1.0000e-04\n",
            "Epoch 94/100\n",
            "\u001b[1m15/15\u001b[0m \u001b[32m━━━━━━━━━━━━━━━━━━━━\u001b[0m\u001b[37m\u001b[0m \u001b[1m0s\u001b[0m 6ms/step - accuracy: 0.9540 - loss: 0.4243 - val_accuracy: 0.8966 - val_loss: 0.3308 - learning_rate: 1.0000e-04\n",
            "Epoch 95/100\n",
            "\u001b[1m15/15\u001b[0m \u001b[32m━━━━━━━━━━━━━━━━━━━━\u001b[0m\u001b[37m\u001b[0m \u001b[1m0s\u001b[0m 6ms/step - accuracy: 0.8918 - loss: 0.4417 - val_accuracy: 0.8966 - val_loss: 0.3301 - learning_rate: 1.0000e-04\n",
            "Epoch 96/100\n",
            "\u001b[1m15/15\u001b[0m \u001b[32m━━━━━━━━━━━━━━━━━━━━\u001b[0m\u001b[37m\u001b[0m \u001b[1m0s\u001b[0m 4ms/step - accuracy: 0.9149 - loss: 0.4794 - val_accuracy: 0.9310 - val_loss: 0.3280 - learning_rate: 1.0000e-04\n",
            "Epoch 97/100\n",
            "\u001b[1m15/15\u001b[0m \u001b[32m━━━━━━━━━━━━━━━━━━━━\u001b[0m\u001b[37m\u001b[0m \u001b[1m0s\u001b[0m 8ms/step - accuracy: 0.9401 - loss: 0.3269 - val_accuracy: 0.9310 - val_loss: 0.3263 - learning_rate: 1.0000e-04\n",
            "Epoch 98/100\n",
            "\u001b[1m15/15\u001b[0m \u001b[32m━━━━━━━━━━━━━━━━━━━━\u001b[0m\u001b[37m\u001b[0m \u001b[1m0s\u001b[0m 8ms/step - accuracy: 0.9265 - loss: 0.3355 - val_accuracy: 0.9310 - val_loss: 0.3257 - learning_rate: 1.0000e-04\n",
            "Epoch 99/100\n",
            "\u001b[1m15/15\u001b[0m \u001b[32m━━━━━━━━━━━━━━━━━━━━\u001b[0m\u001b[37m\u001b[0m \u001b[1m0s\u001b[0m 6ms/step - accuracy: 0.9724 - loss: 0.3549 - val_accuracy: 0.9310 - val_loss: 0.3253 - learning_rate: 1.0000e-04\n",
            "Epoch 100/100\n",
            "\u001b[1m15/15\u001b[0m \u001b[32m━━━━━━━━━━━━━━━━━━━━\u001b[0m\u001b[37m\u001b[0m \u001b[1m0s\u001b[0m 8ms/step - accuracy: 0.9538 - loss: 0.3643 - val_accuracy: 0.9310 - val_loss: 0.3248 - learning_rate: 1.0000e-04\n"
          ]
        }
      ]
    },
    {
      "cell_type": "code",
      "source": [
        "plt.figure(figsize=(12, 5))\n",
        "\n",
        "# Plot akurasi\n",
        "plt.subplot(1, 2, 1)\n",
        "plt.plot(history.history['accuracy'], label='Training Accuracy')\n",
        "plt.plot(history.history['val_accuracy'], label='Validation Accuracy')\n",
        "plt.title('Training and Validation Accuracy')\n",
        "plt.xlabel('Epoch')\n",
        "plt.ylabel('Accuracy')\n",
        "plt.legend()\n",
        "\n",
        "# Plot loss\n",
        "plt.subplot(1, 2, 2)\n",
        "plt.plot(history.history['loss'], label='Training Loss')\n",
        "plt.plot(history.history['val_loss'], label='Validation Loss')\n",
        "plt.title('Training and Validation Loss')\n",
        "plt.xlabel('Epoch')\n",
        "plt.ylabel('Loss')\n",
        "plt.legend()\n",
        "\n",
        "plt.show()\n"
      ],
      "metadata": {
        "id": "oeXEE-fvfocn",
        "colab": {
          "base_uri": "https://localhost:8080/",
          "height": 487
        },
        "outputId": "8c619264-3dec-4ae1-86f0-c1e4538c8e96"
      },
      "execution_count": null,
      "outputs": [
        {
          "output_type": "display_data",
          "data": {
            "text/plain": [
              "<Figure size 1200x500 with 2 Axes>"
            ],
            "image/png": "[encoded data removed]"
          },
          "metadata": {}
        }
      ]
    },
    {
      "cell_type": "code",
      "source": [
        "test_loss, test_accuracy = model.evaluate(X_test, y_test)\n",
        "print(f'Test Loss: {test_loss}, Test Accuracy: {test_accuracy}')\n",
        "print(f\"Test Accuracy: {test_accuracy * 100:.2f}%\")"
      ],
      "metadata": {
        "colab": {
          "base_uri": "https://localhost:8080/"
        },
        "id": "qi5Dcbq0rOJX",
        "outputId": "70d7b0e6-e456-4e16-e06e-579fada98950"
      },
      "execution_count": null,
      "outputs": [
        {
          "output_type": "stream",
          "name": "stdout",
          "text": [
            "\u001b[1m2/2\u001b[0m \u001b[32m━━━━━━━━━━━━━━━━━━━━\u001b[0m\u001b[37m\u001b[0m \u001b[1m0s\u001b[0m 11ms/step - accuracy: 0.9716 - loss: 0.3251\n",
            "Test Loss: 0.3222663998603821, Test Accuracy: 0.9729729890823364\n",
            "Test Accuracy: 97.30%\n"
          ]
        }
      ]
    },
    {
      "cell_type": "code",
      "source": [
        "model.save('mewah_fix.h5')"
      ],
      "metadata": {
        "colab": {
          "base_uri": "https://localhost:8080/"
        },
        "id": "21PE9lEsLF-6",
        "outputId": "6c4197a9-c8dc-4e72-a817-d7877832a932"
      },
      "execution_count": null,
      "outputs": [
        {
          "output_type": "stream",
          "name": "stderr",
          "text": [
            "WARNING:absl:You are saving your model as an HDF5 file via `model.save()` or `keras.saving.save_model(model)`. This file format is considered legacy. We recommend using instead the native Keras format, e.g. `model.save('my_model.keras')` or `keras.saving.save_model(model, 'my_model.keras')`. \n"
          ]
        }
      ]
    },
    {
      "cell_type": "markdown",
      "source": [
        "# Testing dengan Filter"
      ],
      "metadata": {
        "id": "LmlvKORZY5gW"
      }
    },
    {
      "cell_type": "code",
      "source": [
        "# Fungsi untuk merekomendasikan barang berdasarkan budget\n",
        "def recommend_items(budget, tolerance=0.1, top_n=5):\n",
        "    # Tentukan rentang harga berdasarkan toleransi\n",
        "    min_price = budget * (1 - tolerance)\n",
        "    max_price = budget * (1 + tolerance)\n",
        "\n",
        "    # Filter data berdasarkan harga25000\n",
        "    recommendations = data[(data['price'] >= min_price) & (data['price'] <= max_price)]\n",
        "\n",
        "    # Jika lebih dari top_n, urutkan berdasarkan harga\n",
        "    if not recommendations.empty:\n",
        "        recommendations = recommendations.sort_values(\n",
        "            by=['price'], ascending=True\n",
        "        ).head(top_n)\n",
        "\n",
        "    # Jika tidak ada hasil, kembalikan DataFrame kosong\n",
        "    if recommendations.empty:\n",
        "        return pd.DataFrame(columns=['Brand','item group', 'merek', 'price'])\n",
        "\n",
        "    # Menampilkan label asli untuk item group, merek, dan brand\n",
        "    recommendations['item group'] = item_group_encoder.inverse_transform(recommendations['item group'])\n",
        "    recommendations['merek'] = merek_encoder.inverse_transform(recommendations['merek'])\n",
        "\n",
        "    return recommendations[['Brand','item group', 'merek', 'price']]\n",
        "\n",
        "# Contoh Penggunaan: User memberikan budget\n",
        "example_budget = float(input(\"Masukkan anggaran Anda (dalam IDR): \"))\n",
        "recommendations = recommend_items(example_budget)\n",
        "\n",
        "if not recommendations.empty:\n",
        "    print(\"\\nRekomendasi Barang yang Sesuai dengan Budget Anda:\")\n",
        "    print(recommendations)\n",
        "else:\n",
        "    print(\"Tidak ada barang yang sesuai dengan anggaran Anda.\")\n"
      ],
      "metadata": {
        "colab": {
          "base_uri": "https://localhost:8080/"
        },
        "id": "wOFOo7I4txHz",
        "outputId": "c047a920-812f-4cee-e3ff-7c2ccc7ffd65"
      },
      "execution_count": null,
      "outputs": [
        {
          "output_type": "stream",
          "name": "stdout",
          "text": [
            "Masukkan anggaran Anda (dalam IDR): 2000000\n",
            "\n",
            "Rekomendasi Barang yang Sesuai dengan Budget Anda:\n",
            "                                                 Brand  item group  \\\n",
            "203  MICHAEL KORS 35T0GBFS5B BEDFORD SMALL DUFFLE S...  WOMEN BAGS   \n",
            "354  MICHAEL KORS 35T0GBFS5B BEDFORD SMALL DUFFLE S...  WOMEN BAGS   \n",
            "284  MICHAEL KORS 35T0GBFS5B BEDFORD SMALL DUFFLE S...  WOMEN BAGS   \n",
            "381  MICHAEL KORS 35T0GBFS5B BEDFORD SMALL DUFFLE S...  WOMEN BAGS   \n",
            "439  KATE SPADE WKRU6797 MEDIUM TRIPLE COMPARTMENT ...  WOMEN BAGS   \n",
            "\n",
            "            merek      price  \n",
            "203  MICHAEL KORS  1850000.0  \n",
            "354  MICHAEL KORS  1850000.0  \n",
            "284  MICHAEL KORS  1850000.0  \n",
            "381  MICHAEL KORS  1850000.0  \n",
            "439    KATE SPADE  1850000.0  \n"
          ]
        }
      ]
    },
    {
      "cell_type": "code",
      "source": [],
      "metadata": {
        "id": "0p4tSBwRZ0E_"
      },
      "execution_count": null,
      "outputs": []
    }
  ]
}