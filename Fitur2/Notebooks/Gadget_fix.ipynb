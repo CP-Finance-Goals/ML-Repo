{
 "cells": [
  {
   "cell_type": "markdown",
   "metadata": {},
   "source": [
    "# Import Library"
   ]
  },
  {
   "cell_type": "markdown",
   "metadata": {},
   "source": [
    "This section imports the essential libraries and tools required for data analysis, preprocessing, and model development. Each library serves specific purposes: \n",
    "- **NumPy (`np`)**: For numerical computations and array operations. \n",
    "- **Pandas (`pd`)**: For data manipulation and analysis. \n",
    "- **Matplotlib (`plt`)**: For creating visualizations and plots. \n",
    "- **TensorFlow (`tf`)**: For building and training deep learning models. \n",
    "- **Scikit-learn**: \n",
    "    - **`compute_class_weight`**: To handle class imbalance in the data. \n",
    "    - **Preprocessing tools** (`StandardScaler`): For data scaling. \n",
    "    - **`train_test_split`**: For splitting datasets into training and testing sets. \n",
    "    - **`KMeans`**: For clustering the data. \n",
    "- **TensorFlow/Keras Components**: \n",
    "    - **Model Components** (`regularizers`): For designing and building neural network models."
   ]
  },
  {
   "cell_type": "code",
   "execution_count": 323,
   "metadata": {
    "id": "2511-nXEinAr"
   },
   "outputs": [],
   "source": [
    "import numpy as np\n",
    "import tensorflow as tf\n",
    "import pandas as pd\n",
    "from sklearn.model_selection import train_test_split\n",
    "from sklearn.preprocessing import StandardScaler\n",
    "from sklearn.cluster import KMeans\n",
    "from sklearn.utils.class_weight import compute_class_weight\n",
    "import matplotlib.pyplot as plt\n",
    "from tensorflow.keras import regularizers"
   ]
  },
  {
   "cell_type": "code",
   "execution_count": 324,
   "metadata": {
    "colab": {
     "base_uri": "https://localhost:8080/"
    },
    "id": "pOoL_a2IizQz",
    "outputId": "2a92939c-9e9c-4ab0-fc97-f6be6e2eb14a"
   },
   "outputs": [
    {
     "name": "stdout",
     "output_type": "stream",
     "text": [
      "Drive already mounted at /content/drive; to attempt to forcibly remount, call drive.mount(\"/content/drive\", force_remount=True).\n"
     ]
    }
   ],
   "source": [
    "from google.colab import drive\n",
    "drive.mount('/content/drive')"
   ]
  },
  {
   "cell_type": "markdown",
   "metadata": {},
   "source": [
    "### Load dataset"
   ]
  },
  {
   "cell_type": "code",
   "execution_count": null,
   "metadata": {
    "id": "GaBoEw2QiquK"
   },
   "outputs": [],
   "source": [
    "data = pd.read_csv('/content/drive/MyDrive/Dataset_CP/gadget.csv')"
   ]
  },
  {
   "cell_type": "markdown",
   "metadata": {
    "id": "yH1MjwvdrL4t"
   },
   "source": [
    "## DATA PREPROCESSING"
   ]
  },
  {
   "cell_type": "markdown",
   "metadata": {},
   "source": [
    "### Drop unnecessary columns"
   ]
  },
  {
   "cell_type": "code",
   "execution_count": null,
   "metadata": {
    "id": "oeeqmsGJisl7"
   },
   "outputs": [],
   "source": [
    "data = data.drop(['Rating', 'Selling Price'], axis=1)"
   ]
  },
  {
   "cell_type": "markdown",
   "metadata": {},
   "source": [
    "### Preprocess Memory column"
   ]
  },
  {
   "cell_type": "code",
   "execution_count": null,
   "metadata": {
    "id": "8lW32Tr2iuFG"
   },
   "outputs": [],
   "source": [
    "data['Memory'] = data['Memory'].str.extract('(\\d+)', expand=False)\n",
    "data['Memory'] = data['Memory'].str.strip().astype(float)"
   ]
  },
  {
   "cell_type": "markdown",
   "metadata": {},
   "source": [
    "### Preprocess Storage column"
   ]
  },
  {
   "cell_type": "code",
   "execution_count": null,
   "metadata": {
    "id": "pqpwAV2jivXq"
   },
   "outputs": [],
   "source": [
    "data['Storage'] = data['Storage'].str.extract('(\\d+)', expand=False)\n",
    "data['Storage'] = data['Storage'].str.strip().astype(float)"
   ]
  },
  {
   "cell_type": "markdown",
   "metadata": {},
   "source": [
    "### Handle missing values with linear interpolation"
   ]
  },
  {
   "cell_type": "code",
   "execution_count": null,
   "metadata": {
    "id": "thsrh-a7i_Qu"
   },
   "outputs": [],
   "source": [
    "data[['Memory', 'Storage']] = data[['Memory', 'Storage']].interpolate(method='linear')"
   ]
  },
  {
   "cell_type": "markdown",
   "metadata": {},
   "source": [
    "### Rename columns"
   ]
  },
  {
   "cell_type": "code",
   "execution_count": null,
   "metadata": {
    "id": "nX42nNiujA1L"
   },
   "outputs": [],
   "source": [
    "data.rename(columns={'Original Price': 'Price'}, inplace=True)"
   ]
  },
  {
   "cell_type": "markdown",
   "metadata": {},
   "source": [
    "### Combine brand, model, and color into a single feature"
   ]
  },
  {
   "cell_type": "code",
   "execution_count": null,
   "metadata": {
    "id": "lgVElvLbjC40"
   },
   "outputs": [],
   "source": [
    "data['Brand'] = data['Brand'] + ' ' + data['Model'] + ' ' + data['Color']"
   ]
  },
  {
   "cell_type": "markdown",
   "metadata": {},
   "source": [
    "### Convert price to INR"
   ]
  },
  {
   "cell_type": "code",
   "execution_count": null,
   "metadata": {
    "id": "lkbOGdV7jEI5"
   },
   "outputs": [],
   "source": [
    "exchange_inr = 100\n",
    "data['Price'] = data['Price'] * exchange_inr\n",
    "data['Price'] = data['Price'].astype(float)"
   ]
  },
  {
   "cell_type": "markdown",
   "metadata": {},
   "source": [
    "### Drop unnecessary columns"
   ]
  },
  {
   "cell_type": "code",
   "execution_count": null,
   "metadata": {
    "id": "KzDi7nxUjFz8"
   },
   "outputs": [],
   "source": [
    "data.drop(columns=['Model', 'Color'], inplace=True)"
   ]
  },
  {
   "cell_type": "markdown",
   "metadata": {},
   "source": [
    "### Normalize the price feature"
   ]
  },
  {
   "cell_type": "code",
   "execution_count": null,
   "metadata": {
    "id": "DJSndcYHjHS1"
   },
   "outputs": [],
   "source": [
    "data['Price_normalized'] = (data['Price'] - data['Price'].min()) / (data['Price'].max() - data['Price'].min())"
   ]
  },
  {
   "cell_type": "markdown",
   "metadata": {},
   "source": [
    "### Reduce the number of classes by clustering similar brands"
   ]
  },
  {
   "cell_type": "code",
   "execution_count": null,
   "metadata": {
    "id": "nDXnEs65jIqC"
   },
   "outputs": [],
   "source": [
    "brand_counts = data['Brand'].value_counts()\n",
    "min_samples = 5  \n",
    "data = data[data['Brand'].isin(brand_counts[brand_counts >= min_samples].index)]"
   ]
  },
  {
   "cell_type": "markdown",
   "metadata": {},
   "source": [
    "### Set Random Seed for Reproducibility"
   ]
  },
  {
   "cell_type": "code",
   "execution_count": null,
   "metadata": {
    "id": "YHBQZFw8wPQY"
   },
   "outputs": [],
   "source": [
    "np.random.seed(42)\n",
    "tf.random.set_seed(42)"
   ]
  },
  {
   "cell_type": "markdown",
   "metadata": {},
   "source": [
    "### Use KMeans clustering to group similar brands (set a reasonable number of clusters)"
   ]
  },
  {
   "cell_type": "code",
   "execution_count": null,
   "metadata": {
    "id": "XL1bM5X_jKDe"
   },
   "outputs": [],
   "source": [
    "n_clusters = 10  # Set number of clusters to match the expected classes (adjusted to 10)\n",
    "kmeans = KMeans(n_clusters=n_clusters, init='k-means++', random_state=42)  \n",
    "data['Brand_cluster'] = kmeans.fit_predict(data[['Price_normalized', 'Memory', 'Storage']])"
   ]
  },
  {
   "cell_type": "markdown",
   "metadata": {},
   "source": [
    "### Ensure that no cluster has fewer than 2 samples"
   ]
  },
  {
   "cell_type": "code",
   "execution_count": null,
   "metadata": {
    "id": "m54Ari7HjPTx"
   },
   "outputs": [],
   "source": [
    "cluster_counts = data['Brand_cluster'].value_counts()\n",
    "valid_clusters = cluster_counts[cluster_counts > 1].index  \n",
    "data = data[data['Brand_cluster'].isin(valid_clusters)]"
   ]
  },
  {
   "cell_type": "markdown",
   "metadata": {},
   "source": [
    "### Rebuild features and labels after clustering"
   ]
  },
  {
   "cell_type": "code",
   "execution_count": null,
   "metadata": {
    "id": "MmeAo92cjQz5"
   },
   "outputs": [],
   "source": [
    "features = data[['Price_normalized', 'Memory', 'Storage']].values\n",
    "labels = data['Brand_cluster'].values  "
   ]
  },
  {
   "cell_type": "markdown",
   "metadata": {},
   "source": [
    "### Features are normalized using StandardScaler to be on the same scale."
   ]
  },
  {
   "cell_type": "code",
   "execution_count": null,
   "metadata": {
    "id": "AgyOH4kwjSYe"
   },
   "outputs": [],
   "source": [
    "scaler = StandardScaler()\n",
    "features = scaler.fit_transform(features)"
   ]
  },
  {
   "cell_type": "markdown",
   "metadata": {},
   "source": [
    "### Train-test split with stratification to ensure class balance"
   ]
  },
  {
   "cell_type": "code",
   "execution_count": null,
   "metadata": {
    "id": "nKUvUOzPjTrD"
   },
   "outputs": [],
   "source": [
    "X_train, X_test, y_train, y_test = train_test_split(\n",
    "    features, labels, test_size=0.2, random_state=42, stratify=labels\n",
    ")\n",
    "\n",
    "# Compute class weights to handle imbalanced classes\n",
    "class_weights = compute_class_weight('balanced', classes=np.unique(y_train), y=y_train)\n",
    "class_weight_dict = {i: class_weights[i] for i in range(len(class_weights))}"
   ]
  },
  {
   "cell_type": "markdown",
   "metadata": {},
   "source": [
    "### Build a simpler model with dropout, batch normalization, and L2 regularization"
   ]
  },
  {
   "cell_type": "code",
   "execution_count": null,
   "metadata": {
    "colab": {
     "base_uri": "https://localhost:8080/"
    },
    "id": "jljUSnF2jVCX",
    "outputId": "698333c8-8725-481c-e6eb-9495552eeb42"
   },
   "outputs": [
    {
     "name": "stderr",
     "output_type": "stream",
     "text": [
      "/usr/local/lib/python3.10/dist-packages/keras/src/layers/core/input_layer.py:26: UserWarning: Argument `input_shape` is deprecated. Use `shape` instead.\n",
      "  warnings.warn(\n"
     ]
    }
   ],
   "source": [
    "model = tf.keras.Sequential([\n",
    "    tf.keras.layers.InputLayer(input_shape=(X_train.shape[1],)),\n",
    "    tf.keras.layers.Dense(128, activation='relu', kernel_initializer='glorot_uniform',\n",
    "                        kernel_regularizer=regularizers.l2(0.001)),\n",
    "    tf.keras.layers.BatchNormalization(),\n",
    "    tf.keras.layers.Dense(n_clusters, activation='softmax', kernel_initializer='glorot_uniform')\n",
    "])"
   ]
  },
  {
   "cell_type": "markdown",
   "metadata": {},
   "source": [
    "### Compile the model"
   ]
  },
  {
   "cell_type": "code",
   "execution_count": null,
   "metadata": {
    "id": "umHoKsvqjWmB"
   },
   "outputs": [],
   "source": [
    "model.compile(optimizer=tf.keras.optimizers.Adam(learning_rate=0.0003),  \n",
    "            loss='sparse_categorical_crossentropy',\n",
    "            metrics=['accuracy'])"
   ]
  },
  {
   "cell_type": "markdown",
   "metadata": {},
   "source": [
    "### Add Early stopping dan Learning Rate Scheduler for got a good accuracy"
   ]
  },
  {
   "cell_type": "code",
   "execution_count": null,
   "metadata": {
    "colab": {
     "base_uri": "https://localhost:8080/"
    },
    "id": "MVGOznHfjYN5",
    "outputId": "891d8d5a-0868-4aa8-a0b5-fc0362728c31"
   },
   "outputs": [
    {
     "name": "stdout",
     "output_type": "stream",
     "text": [
      "Epoch 1/100\n",
      "\u001b[1m18/18\u001b[0m \u001b[32m━━━━━━━━━━━━━━━━━━━━\u001b[0m\u001b[37m\u001b[0m \u001b[1m2s\u001b[0m 21ms/step - accuracy: 0.1391 - loss: 1.9930 - val_accuracy: 0.2571 - val_loss: 2.2971 - learning_rate: 3.0000e-04\n",
      "Epoch 2/100\n",
      "\u001b[1m18/18\u001b[0m \u001b[32m━━━━━━━━━━━━━━━━━━━━\u001b[0m\u001b[37m\u001b[0m \u001b[1m0s\u001b[0m 6ms/step - accuracy: 0.2129 - loss: 1.6078 - val_accuracy: 0.3429 - val_loss: 2.2442 - learning_rate: 3.0000e-04\n",
      "Epoch 3/100\n",
      "\u001b[1m18/18\u001b[0m \u001b[32m━━━━━━━━━━━━━━━━━━━━\u001b[0m\u001b[37m\u001b[0m \u001b[1m0s\u001b[0m 6ms/step - accuracy: 0.3540 - loss: 1.3633 - val_accuracy: 0.3714 - val_loss: 2.1885 - learning_rate: 3.0000e-04\n",
      "Epoch 4/100\n",
      "\u001b[1m18/18\u001b[0m \u001b[32m━━━━━━━━━━━━━━━━━━━━\u001b[0m\u001b[37m\u001b[0m \u001b[1m0s\u001b[0m 5ms/step - accuracy: 0.5339 - loss: 1.1904 - val_accuracy: 0.5143 - val_loss: 2.1309 - learning_rate: 3.0000e-04\n",
      "Epoch 5/100\n",
      "\u001b[1m18/18\u001b[0m \u001b[32m━━━━━━━━━━━━━━━━━━━━\u001b[0m\u001b[37m\u001b[0m \u001b[1m0s\u001b[0m 6ms/step - accuracy: 0.5769 - loss: 1.0614 - val_accuracy: 0.5143 - val_loss: 2.0715 - learning_rate: 3.0000e-04\n",
      "Epoch 6/100\n",
      "\u001b[1m18/18\u001b[0m \u001b[32m━━━━━━━━━━━━━━━━━━━━\u001b[0m\u001b[37m\u001b[0m \u001b[1m0s\u001b[0m 6ms/step - accuracy: 0.6182 - loss: 0.9589 - val_accuracy: 0.6000 - val_loss: 2.0107 - learning_rate: 3.0000e-04\n",
      "Epoch 7/100\n",
      "\u001b[1m18/18\u001b[0m \u001b[32m━━━━━━━━━━━━━━━━━━━━\u001b[0m\u001b[37m\u001b[0m \u001b[1m0s\u001b[0m 6ms/step - accuracy: 0.6332 - loss: 0.8747 - val_accuracy: 0.7143 - val_loss: 1.9479 - learning_rate: 3.0000e-04\n",
      "Epoch 8/100\n",
      "\u001b[1m18/18\u001b[0m \u001b[32m━━━━━━━━━━━━━━━━━━━━\u001b[0m\u001b[37m\u001b[0m \u001b[1m0s\u001b[0m 7ms/step - accuracy: 0.6700 - loss: 0.8038 - val_accuracy: 0.7143 - val_loss: 1.8833 - learning_rate: 3.0000e-04\n",
      "Epoch 9/100\n",
      "\u001b[1m18/18\u001b[0m \u001b[32m━━━━━━━━━━━━━━━━━━━━\u001b[0m\u001b[37m\u001b[0m \u001b[1m0s\u001b[0m 6ms/step - accuracy: 0.7080 - loss: 0.7440 - val_accuracy: 0.7714 - val_loss: 1.8172 - learning_rate: 3.0000e-04\n",
      "Epoch 10/100\n",
      "\u001b[1m18/18\u001b[0m \u001b[32m━━━━━━━━━━━━━━━━━━━━\u001b[0m\u001b[37m\u001b[0m \u001b[1m0s\u001b[0m 7ms/step - accuracy: 0.7200 - loss: 0.6922 - val_accuracy: 0.8000 - val_loss: 1.7497 - learning_rate: 3.0000e-04\n",
      "Epoch 11/100\n",
      "\u001b[1m18/18\u001b[0m \u001b[32m━━━━━━━━━━━━━━━━━━━━\u001b[0m\u001b[37m\u001b[0m \u001b[1m0s\u001b[0m 5ms/step - accuracy: 0.7369 - loss: 0.6471 - val_accuracy: 0.8000 - val_loss: 1.6809 - learning_rate: 3.0000e-04\n",
      "Epoch 12/100\n",
      "\u001b[1m18/18\u001b[0m \u001b[32m━━━━━━━━━━━━━━━━━━━━\u001b[0m\u001b[37m\u001b[0m \u001b[1m0s\u001b[0m 4ms/step - accuracy: 0.7477 - loss: 0.6069 - val_accuracy: 0.8286 - val_loss: 1.6115 - learning_rate: 3.0000e-04\n",
      "Epoch 13/100\n",
      "\u001b[1m18/18\u001b[0m \u001b[32m━━━━━━━━━━━━━━━━━━━━\u001b[0m\u001b[37m\u001b[0m \u001b[1m0s\u001b[0m 4ms/step - accuracy: 0.7879 - loss: 0.5711 - val_accuracy: 0.8286 - val_loss: 1.5417 - learning_rate: 3.0000e-04\n",
      "Epoch 14/100\n",
      "\u001b[1m18/18\u001b[0m \u001b[32m━━━━━━━━━━━━━━━━━━━━\u001b[0m\u001b[37m\u001b[0m \u001b[1m0s\u001b[0m 4ms/step - accuracy: 0.8195 - loss: 0.5386 - val_accuracy: 0.8286 - val_loss: 1.4717 - learning_rate: 3.0000e-04\n",
      "Epoch 15/100\n",
      "\u001b[1m18/18\u001b[0m \u001b[32m━━━━━━━━━━━━━━━━━━━━\u001b[0m\u001b[37m\u001b[0m \u001b[1m0s\u001b[0m 3ms/step - accuracy: 0.8449 - loss: 0.5093 - val_accuracy: 0.8571 - val_loss: 1.4017 - learning_rate: 3.0000e-04\n",
      "Epoch 16/100\n",
      "\u001b[1m18/18\u001b[0m \u001b[32m━━━━━━━━━━━━━━━━━━━━\u001b[0m\u001b[37m\u001b[0m \u001b[1m0s\u001b[0m 4ms/step - accuracy: 0.8665 - loss: 0.4826 - val_accuracy: 0.8571 - val_loss: 1.3322 - learning_rate: 3.0000e-04\n",
      "Epoch 17/100\n",
      "\u001b[1m18/18\u001b[0m \u001b[32m━━━━━━━━━━━━━━━━━━━━\u001b[0m\u001b[37m\u001b[0m \u001b[1m0s\u001b[0m 4ms/step - accuracy: 0.8965 - loss: 0.4579 - val_accuracy: 0.8571 - val_loss: 1.2632 - learning_rate: 3.0000e-04\n",
      "Epoch 18/100\n",
      "\u001b[1m18/18\u001b[0m \u001b[32m━━━━━━━━━━━━━━━━━━━━\u001b[0m\u001b[37m\u001b[0m \u001b[1m0s\u001b[0m 5ms/step - accuracy: 0.8965 - loss: 0.4351 - val_accuracy: 0.8571 - val_loss: 1.1952 - learning_rate: 3.0000e-04\n",
      "Epoch 19/100\n",
      "\u001b[1m18/18\u001b[0m \u001b[32m━━━━━━━━━━━━━━━━━━━━\u001b[0m\u001b[37m\u001b[0m \u001b[1m0s\u001b[0m 4ms/step - accuracy: 0.9100 - loss: 0.4141 - val_accuracy: 0.8571 - val_loss: 1.1284 - learning_rate: 3.0000e-04\n",
      "Epoch 20/100\n",
      "\u001b[1m18/18\u001b[0m \u001b[32m━━━━━━━━━━━━━━━━━━━━\u001b[0m\u001b[37m\u001b[0m \u001b[1m0s\u001b[0m 4ms/step - accuracy: 0.9165 - loss: 0.3949 - val_accuracy: 0.8571 - val_loss: 1.0643 - learning_rate: 3.0000e-04\n",
      "Epoch 21/100\n",
      "\u001b[1m18/18\u001b[0m \u001b[32m━━━━━━━━━━━━━━━━━━━━\u001b[0m\u001b[37m\u001b[0m \u001b[1m0s\u001b[0m 4ms/step - accuracy: 0.9399 - loss: 0.3772 - val_accuracy: 0.8571 - val_loss: 1.0032 - learning_rate: 3.0000e-04\n",
      "Epoch 22/100\n",
      "\u001b[1m18/18\u001b[0m \u001b[32m━━━━━━━━━━━━━━━━━━━━\u001b[0m\u001b[37m\u001b[0m \u001b[1m0s\u001b[0m 4ms/step - accuracy: 0.9399 - loss: 0.3609 - val_accuracy: 0.8571 - val_loss: 0.9448 - learning_rate: 3.0000e-04\n",
      "Epoch 23/100\n",
      "\u001b[1m18/18\u001b[0m \u001b[32m━━━━━━━━━━━━━━━━━━━━\u001b[0m\u001b[37m\u001b[0m \u001b[1m0s\u001b[0m 5ms/step - accuracy: 0.9399 - loss: 0.3460 - val_accuracy: 0.8571 - val_loss: 0.8904 - learning_rate: 3.0000e-04\n",
      "Epoch 24/100\n",
      "\u001b[1m18/18\u001b[0m \u001b[32m━━━━━━━━━━━━━━━━━━━━\u001b[0m\u001b[37m\u001b[0m \u001b[1m0s\u001b[0m 4ms/step - accuracy: 0.9435 - loss: 0.3324 - val_accuracy: 0.8571 - val_loss: 0.8388 - learning_rate: 3.0000e-04\n",
      "Epoch 25/100\n",
      "\u001b[1m18/18\u001b[0m \u001b[32m━━━━━━━━━━━━━━━━━━━━\u001b[0m\u001b[37m\u001b[0m \u001b[1m0s\u001b[0m 5ms/step - accuracy: 0.9372 - loss: 0.3199 - val_accuracy: 0.8571 - val_loss: 0.7910 - learning_rate: 3.0000e-04\n",
      "Epoch 26/100\n",
      "\u001b[1m18/18\u001b[0m \u001b[32m━━━━━━━━━━━━━━━━━━━━\u001b[0m\u001b[37m\u001b[0m \u001b[1m0s\u001b[0m 5ms/step - accuracy: 0.9415 - loss: 0.3084 - val_accuracy: 0.8571 - val_loss: 0.7474 - learning_rate: 3.0000e-04\n",
      "Epoch 27/100\n",
      "\u001b[1m18/18\u001b[0m \u001b[32m━━━━━━━━━━━━━━━━━━━━\u001b[0m\u001b[37m\u001b[0m \u001b[1m0s\u001b[0m 4ms/step - accuracy: 0.9415 - loss: 0.2977 - val_accuracy: 0.8571 - val_loss: 0.7075 - learning_rate: 3.0000e-04\n",
      "Epoch 28/100\n",
      "\u001b[1m18/18\u001b[0m \u001b[32m━━━━━━━━━━━━━━━━━━━━\u001b[0m\u001b[37m\u001b[0m \u001b[1m0s\u001b[0m 4ms/step - accuracy: 0.9415 - loss: 0.2879 - val_accuracy: 0.8571 - val_loss: 0.6712 - learning_rate: 3.0000e-04\n",
      "Epoch 29/100\n",
      "\u001b[1m18/18\u001b[0m \u001b[32m━━━━━━━━━━━━━━━━━━━━\u001b[0m\u001b[37m\u001b[0m \u001b[1m0s\u001b[0m 4ms/step - accuracy: 0.9415 - loss: 0.2788 - val_accuracy: 0.8571 - val_loss: 0.6391 - learning_rate: 3.0000e-04\n",
      "Epoch 30/100\n",
      "\u001b[1m18/18\u001b[0m \u001b[32m━━━━━━━━━━━━━━━━━━━━\u001b[0m\u001b[37m\u001b[0m \u001b[1m0s\u001b[0m 4ms/step - accuracy: 0.9550 - loss: 0.2701 - val_accuracy: 0.8571 - val_loss: 0.6089 - learning_rate: 3.0000e-04\n",
      "Epoch 31/100\n",
      "\u001b[1m18/18\u001b[0m \u001b[32m━━━━━━━━━━━━━━━━━━━━\u001b[0m\u001b[37m\u001b[0m \u001b[1m0s\u001b[0m 5ms/step - accuracy: 0.9550 - loss: 0.2619 - val_accuracy: 0.8571 - val_loss: 0.5818 - learning_rate: 3.0000e-04\n",
      "Epoch 32/100\n",
      "\u001b[1m18/18\u001b[0m \u001b[32m━━━━━━━━━━━━━━━━━━━━\u001b[0m\u001b[37m\u001b[0m \u001b[1m0s\u001b[0m 4ms/step - accuracy: 0.9550 - loss: 0.2542 - val_accuracy: 0.8571 - val_loss: 0.5577 - learning_rate: 3.0000e-04\n",
      "Epoch 33/100\n",
      "\u001b[1m18/18\u001b[0m \u001b[32m━━━━━━━━━━━━━━━━━━━━\u001b[0m\u001b[37m\u001b[0m \u001b[1m0s\u001b[0m 5ms/step - accuracy: 0.9550 - loss: 0.2470 - val_accuracy: 0.8571 - val_loss: 0.5349 - learning_rate: 3.0000e-04\n",
      "Epoch 34/100\n",
      "\u001b[1m18/18\u001b[0m \u001b[32m━━━━━━━━━━━━━━━━━━━━\u001b[0m\u001b[37m\u001b[0m \u001b[1m0s\u001b[0m 4ms/step - accuracy: 0.9550 - loss: 0.2399 - val_accuracy: 0.8571 - val_loss: 0.5146 - learning_rate: 3.0000e-04\n",
      "Epoch 35/100\n",
      "\u001b[1m18/18\u001b[0m \u001b[32m━━━━━━━━━━━━━━━━━━━━\u001b[0m\u001b[37m\u001b[0m \u001b[1m0s\u001b[0m 4ms/step - accuracy: 0.9550 - loss: 0.2334 - val_accuracy: 0.8571 - val_loss: 0.4964 - learning_rate: 3.0000e-04\n",
      "Epoch 36/100\n",
      "\u001b[1m18/18\u001b[0m \u001b[32m━━━━━━━━━━━━━━━━━━━━\u001b[0m\u001b[37m\u001b[0m \u001b[1m0s\u001b[0m 4ms/step - accuracy: 0.9550 - loss: 0.2273 - val_accuracy: 0.8571 - val_loss: 0.4800 - learning_rate: 3.0000e-04\n",
      "Epoch 37/100\n",
      "\u001b[1m18/18\u001b[0m \u001b[32m━━━━━━━━━━━━━━━━━━━━\u001b[0m\u001b[37m\u001b[0m \u001b[1m0s\u001b[0m 4ms/step - accuracy: 0.9550 - loss: 0.2216 - val_accuracy: 0.8571 - val_loss: 0.4647 - learning_rate: 3.0000e-04\n",
      "Epoch 38/100\n",
      "\u001b[1m18/18\u001b[0m \u001b[32m━━━━━━━━━━━━━━━━━━━━\u001b[0m\u001b[37m\u001b[0m \u001b[1m0s\u001b[0m 4ms/step - accuracy: 0.9550 - loss: 0.2163 - val_accuracy: 0.8571 - val_loss: 0.4515 - learning_rate: 3.0000e-04\n",
      "Epoch 39/100\n",
      "\u001b[1m18/18\u001b[0m \u001b[32m━━━━━━━━━━━━━━━━━━━━\u001b[0m\u001b[37m\u001b[0m \u001b[1m0s\u001b[0m 4ms/step - accuracy: 0.9550 - loss: 0.2111 - val_accuracy: 0.8571 - val_loss: 0.4389 - learning_rate: 3.0000e-04\n",
      "Epoch 40/100\n",
      "\u001b[1m18/18\u001b[0m \u001b[32m━━━━━━━━━━━━━━━━━━━━\u001b[0m\u001b[37m\u001b[0m \u001b[1m0s\u001b[0m 4ms/step - accuracy: 0.9550 - loss: 0.2061 - val_accuracy: 0.9143 - val_loss: 0.4277 - learning_rate: 3.0000e-04\n",
      "Epoch 41/100\n",
      "\u001b[1m18/18\u001b[0m \u001b[32m━━━━━━━━━━━━━━━━━━━━\u001b[0m\u001b[37m\u001b[0m \u001b[1m0s\u001b[0m 5ms/step - accuracy: 0.9550 - loss: 0.2015 - val_accuracy: 0.9143 - val_loss: 0.4177 - learning_rate: 3.0000e-04\n",
      "Epoch 42/100\n",
      "\u001b[1m18/18\u001b[0m \u001b[32m━━━━━━━━━━━━━━━━━━━━\u001b[0m\u001b[37m\u001b[0m \u001b[1m0s\u001b[0m 5ms/step - accuracy: 0.9550 - loss: 0.1970 - val_accuracy: 0.9143 - val_loss: 0.4081 - learning_rate: 3.0000e-04\n",
      "Epoch 43/100\n",
      "\u001b[1m18/18\u001b[0m \u001b[32m━━━━━━━━━━━━━━━━━━━━\u001b[0m\u001b[37m\u001b[0m \u001b[1m0s\u001b[0m 5ms/step - accuracy: 0.9550 - loss: 0.1927 - val_accuracy: 0.9143 - val_loss: 0.3988 - learning_rate: 3.0000e-04\n",
      "Epoch 44/100\n",
      "\u001b[1m18/18\u001b[0m \u001b[32m━━━━━━━━━━━━━━━━━━━━\u001b[0m\u001b[37m\u001b[0m \u001b[1m0s\u001b[0m 5ms/step - accuracy: 0.9550 - loss: 0.1887 - val_accuracy: 0.9143 - val_loss: 0.3908 - learning_rate: 3.0000e-04\n",
      "Epoch 45/100\n",
      "\u001b[1m18/18\u001b[0m \u001b[32m━━━━━━━━━━━━━━━━━━━━\u001b[0m\u001b[37m\u001b[0m \u001b[1m0s\u001b[0m 4ms/step - accuracy: 0.9550 - loss: 0.1846 - val_accuracy: 0.9143 - val_loss: 0.3830 - learning_rate: 3.0000e-04\n",
      "Epoch 46/100\n",
      "\u001b[1m18/18\u001b[0m \u001b[32m━━━━━━━━━━━━━━━━━━━━\u001b[0m\u001b[37m\u001b[0m \u001b[1m0s\u001b[0m 4ms/step - accuracy: 0.9550 - loss: 0.1807 - val_accuracy: 0.9143 - val_loss: 0.3761 - learning_rate: 3.0000e-04\n",
      "Epoch 47/100\n",
      "\u001b[1m18/18\u001b[0m \u001b[32m━━━━━━━━━━━━━━━━━━━━\u001b[0m\u001b[37m\u001b[0m \u001b[1m0s\u001b[0m 4ms/step - accuracy: 0.9550 - loss: 0.1771 - val_accuracy: 0.9143 - val_loss: 0.3699 - learning_rate: 3.0000e-04\n",
      "Epoch 48/100\n",
      "\u001b[1m18/18\u001b[0m \u001b[32m━━━━━━━━━━━━━━━━━━━━\u001b[0m\u001b[37m\u001b[0m \u001b[1m0s\u001b[0m 4ms/step - accuracy: 0.9550 - loss: 0.1734 - val_accuracy: 0.9143 - val_loss: 0.3630 - learning_rate: 3.0000e-04\n",
      "Epoch 49/100\n",
      "\u001b[1m18/18\u001b[0m \u001b[32m━━━━━━━━━━━━━━━━━━━━\u001b[0m\u001b[37m\u001b[0m \u001b[1m0s\u001b[0m 5ms/step - accuracy: 0.9605 - loss: 0.1699 - val_accuracy: 0.9143 - val_loss: 0.3570 - learning_rate: 3.0000e-04\n",
      "Epoch 50/100\n",
      "\u001b[1m18/18\u001b[0m \u001b[32m━━━━━━━━━━━━━━━━━━━━\u001b[0m\u001b[37m\u001b[0m \u001b[1m0s\u001b[0m 5ms/step - accuracy: 0.9605 - loss: 0.1666 - val_accuracy: 0.9143 - val_loss: 0.3507 - learning_rate: 3.0000e-04\n",
      "Epoch 51/100\n",
      "\u001b[1m18/18\u001b[0m \u001b[32m━━━━━━━━━━━━━━━━━━━━\u001b[0m\u001b[37m\u001b[0m \u001b[1m0s\u001b[0m 4ms/step - accuracy: 0.9605 - loss: 0.1633 - val_accuracy: 0.9143 - val_loss: 0.3461 - learning_rate: 3.0000e-04\n",
      "Epoch 52/100\n",
      "\u001b[1m18/18\u001b[0m \u001b[32m━━━━━━━━━━━━━━━━━━━━\u001b[0m\u001b[37m\u001b[0m \u001b[1m0s\u001b[0m 5ms/step - accuracy: 0.9605 - loss: 0.1603 - val_accuracy: 0.9143 - val_loss: 0.3407 - learning_rate: 3.0000e-04\n",
      "Epoch 53/100\n",
      "\u001b[1m18/18\u001b[0m \u001b[32m━━━━━━━━━━━━━━━━━━━━\u001b[0m\u001b[37m\u001b[0m \u001b[1m0s\u001b[0m 3ms/step - accuracy: 0.9605 - loss: 0.1572 - val_accuracy: 0.9143 - val_loss: 0.3357 - learning_rate: 3.0000e-04\n",
      "Epoch 54/100\n",
      "\u001b[1m18/18\u001b[0m \u001b[32m━━━━━━━━━━━━━━━━━━━━\u001b[0m\u001b[37m\u001b[0m \u001b[1m0s\u001b[0m 4ms/step - accuracy: 0.9605 - loss: 0.1543 - val_accuracy: 0.9143 - val_loss: 0.3307 - learning_rate: 3.0000e-04\n",
      "Epoch 55/100\n",
      "\u001b[1m18/18\u001b[0m \u001b[32m━━━━━━━━━━━━━━━━━━━━\u001b[0m\u001b[37m\u001b[0m \u001b[1m0s\u001b[0m 4ms/step - accuracy: 0.9605 - loss: 0.1515 - val_accuracy: 0.9143 - val_loss: 0.3258 - learning_rate: 3.0000e-04\n",
      "Epoch 56/100\n",
      "\u001b[1m18/18\u001b[0m \u001b[32m━━━━━━━━━━━━━━━━━━━━\u001b[0m\u001b[37m\u001b[0m \u001b[1m0s\u001b[0m 5ms/step - accuracy: 0.9605 - loss: 0.1487 - val_accuracy: 0.9143 - val_loss: 0.3222 - learning_rate: 3.0000e-04\n",
      "Epoch 57/100\n",
      "\u001b[1m18/18\u001b[0m \u001b[32m━━━━━━━━━━━━━━━━━━━━\u001b[0m\u001b[37m\u001b[0m \u001b[1m0s\u001b[0m 5ms/step - accuracy: 0.9605 - loss: 0.1461 - val_accuracy: 0.9143 - val_loss: 0.3174 - learning_rate: 3.0000e-04\n",
      "Epoch 58/100\n",
      "\u001b[1m18/18\u001b[0m \u001b[32m━━━━━━━━━━━━━━━━━━━━\u001b[0m\u001b[37m\u001b[0m \u001b[1m0s\u001b[0m 6ms/step - accuracy: 0.9605 - loss: 0.1434 - val_accuracy: 0.9143 - val_loss: 0.3137 - learning_rate: 3.0000e-04\n",
      "Epoch 59/100\n",
      "\u001b[1m18/18\u001b[0m \u001b[32m━━━━━━━━━━━━━━━━━━━━\u001b[0m\u001b[37m\u001b[0m \u001b[1m0s\u001b[0m 4ms/step - accuracy: 0.9605 - loss: 0.1409 - val_accuracy: 0.9143 - val_loss: 0.3094 - learning_rate: 3.0000e-04\n",
      "Epoch 60/100\n",
      "\u001b[1m18/18\u001b[0m \u001b[32m━━━━━━━━━━━━━━━━━━━━\u001b[0m\u001b[37m\u001b[0m \u001b[1m0s\u001b[0m 4ms/step - accuracy: 0.9605 - loss: 0.1383 - val_accuracy: 0.9143 - val_loss: 0.3056 - learning_rate: 3.0000e-04\n",
      "Epoch 61/100\n",
      "\u001b[1m18/18\u001b[0m \u001b[32m━━━━━━━━━━━━━━━━━━━━\u001b[0m\u001b[37m\u001b[0m \u001b[1m0s\u001b[0m 3ms/step - accuracy: 0.9605 - loss: 0.1359 - val_accuracy: 0.9143 - val_loss: 0.3016 - learning_rate: 3.0000e-04\n",
      "Epoch 62/100\n",
      "\u001b[1m18/18\u001b[0m \u001b[32m━━━━━━━━━━━━━━━━━━━━\u001b[0m\u001b[37m\u001b[0m \u001b[1m0s\u001b[0m 4ms/step - accuracy: 0.9605 - loss: 0.1336 - val_accuracy: 0.9143 - val_loss: 0.2990 - learning_rate: 3.0000e-04\n",
      "Epoch 63/100\n",
      "\u001b[1m18/18\u001b[0m \u001b[32m━━━━━━━━━━━━━━━━━━━━\u001b[0m\u001b[37m\u001b[0m \u001b[1m0s\u001b[0m 4ms/step - accuracy: 0.9605 - loss: 0.1313 - val_accuracy: 0.9143 - val_loss: 0.2954 - learning_rate: 3.0000e-04\n",
      "Epoch 64/100\n",
      "\u001b[1m18/18\u001b[0m \u001b[32m━━━━━━━━━━━━━━━━━━━━\u001b[0m\u001b[37m\u001b[0m \u001b[1m0s\u001b[0m 3ms/step - accuracy: 0.9605 - loss: 0.1291 - val_accuracy: 0.9143 - val_loss: 0.2920 - learning_rate: 3.0000e-04\n",
      "Epoch 65/100\n",
      "\u001b[1m18/18\u001b[0m \u001b[32m━━━━━━━━━━━━━━━━━━━━\u001b[0m\u001b[37m\u001b[0m \u001b[1m0s\u001b[0m 5ms/step - accuracy: 0.9605 - loss: 0.1269 - val_accuracy: 0.9143 - val_loss: 0.2889 - learning_rate: 3.0000e-04\n",
      "Epoch 66/100\n",
      "\u001b[1m18/18\u001b[0m \u001b[32m━━━━━━━━━━━━━━━━━━━━\u001b[0m\u001b[37m\u001b[0m \u001b[1m0s\u001b[0m 4ms/step - accuracy: 0.9605 - loss: 0.1248 - val_accuracy: 0.9143 - val_loss: 0.2858 - learning_rate: 3.0000e-04\n",
      "Epoch 67/100\n",
      "\u001b[1m18/18\u001b[0m \u001b[32m━━━━━━━━━━━━━━━━━━━━\u001b[0m\u001b[37m\u001b[0m \u001b[1m0s\u001b[0m 4ms/step - accuracy: 0.9605 - loss: 0.1228 - val_accuracy: 0.9143 - val_loss: 0.2828 - learning_rate: 3.0000e-04\n",
      "Epoch 68/100\n",
      "\u001b[1m18/18\u001b[0m \u001b[32m━━━━━━━━━━━━━━━━━━━━\u001b[0m\u001b[37m\u001b[0m \u001b[1m0s\u001b[0m 4ms/step - accuracy: 0.9605 - loss: 0.1208 - val_accuracy: 0.9143 - val_loss: 0.2797 - learning_rate: 3.0000e-04\n",
      "Epoch 69/100\n",
      "\u001b[1m18/18\u001b[0m \u001b[32m━━━━━━━━━━━━━━━━━━━━\u001b[0m\u001b[37m\u001b[0m \u001b[1m0s\u001b[0m 4ms/step - accuracy: 0.9605 - loss: 0.1188 - val_accuracy: 0.9143 - val_loss: 0.2769 - learning_rate: 3.0000e-04\n",
      "Epoch 70/100\n",
      "\u001b[1m18/18\u001b[0m \u001b[32m━━━━━━━━━━━━━━━━━━━━\u001b[0m\u001b[37m\u001b[0m \u001b[1m0s\u001b[0m 4ms/step - accuracy: 0.9605 - loss: 0.1170 - val_accuracy: 0.9143 - val_loss: 0.2744 - learning_rate: 3.0000e-04\n",
      "Epoch 71/100\n",
      "\u001b[1m18/18\u001b[0m \u001b[32m━━━━━━━━━━━━━━━━━━━━\u001b[0m\u001b[37m\u001b[0m \u001b[1m0s\u001b[0m 5ms/step - accuracy: 0.9605 - loss: 0.1152 - val_accuracy: 0.9143 - val_loss: 0.2710 - learning_rate: 3.0000e-04\n",
      "Epoch 72/100\n",
      "\u001b[1m18/18\u001b[0m \u001b[32m━━━━━━━━━━━━━━━━━━━━\u001b[0m\u001b[37m\u001b[0m \u001b[1m0s\u001b[0m 3ms/step - accuracy: 0.9605 - loss: 0.1133 - val_accuracy: 0.9143 - val_loss: 0.2685 - learning_rate: 3.0000e-04\n",
      "Epoch 73/100\n",
      "\u001b[1m18/18\u001b[0m \u001b[32m━━━━━━━━━━━━━━━━━━━━\u001b[0m\u001b[37m\u001b[0m \u001b[1m0s\u001b[0m 6ms/step - accuracy: 0.9774 - loss: 0.1115 - val_accuracy: 0.9143 - val_loss: 0.2657 - learning_rate: 3.0000e-04\n",
      "Epoch 74/100\n",
      "\u001b[1m18/18\u001b[0m \u001b[32m━━━━━━━━━━━━━━━━━━━━\u001b[0m\u001b[37m\u001b[0m \u001b[1m0s\u001b[0m 4ms/step - accuracy: 0.9774 - loss: 0.1097 - val_accuracy: 0.9143 - val_loss: 0.2634 - learning_rate: 3.0000e-04\n",
      "Epoch 75/100\n",
      "\u001b[1m18/18\u001b[0m \u001b[32m━━━━━━━━━━━━━━━━━━━━\u001b[0m\u001b[37m\u001b[0m \u001b[1m0s\u001b[0m 5ms/step - accuracy: 0.9774 - loss: 0.1079 - val_accuracy: 0.9143 - val_loss: 0.2608 - learning_rate: 3.0000e-04\n",
      "Epoch 76/100\n",
      "\u001b[1m18/18\u001b[0m \u001b[32m━━━━━━━━━━━━━━━━━━━━\u001b[0m\u001b[37m\u001b[0m \u001b[1m0s\u001b[0m 4ms/step - accuracy: 0.9774 - loss: 0.1063 - val_accuracy: 0.9143 - val_loss: 0.2580 - learning_rate: 3.0000e-04\n",
      "Epoch 77/100\n",
      "\u001b[1m18/18\u001b[0m \u001b[32m━━━━━━━━━━━━━━━━━━━━\u001b[0m\u001b[37m\u001b[0m \u001b[1m0s\u001b[0m 4ms/step - accuracy: 0.9774 - loss: 0.1047 - val_accuracy: 0.9143 - val_loss: 0.2555 - learning_rate: 3.0000e-04\n",
      "Epoch 78/100\n",
      "\u001b[1m18/18\u001b[0m \u001b[32m━━━━━━━━━━━━━━━━━━━━\u001b[0m\u001b[37m\u001b[0m \u001b[1m0s\u001b[0m 4ms/step - accuracy: 0.9774 - loss: 0.1032 - val_accuracy: 0.9143 - val_loss: 0.2531 - learning_rate: 3.0000e-04\n",
      "Epoch 79/100\n",
      "\u001b[1m18/18\u001b[0m \u001b[32m━━━━━━━━━━━━━━━━━━━━\u001b[0m\u001b[37m\u001b[0m \u001b[1m0s\u001b[0m 4ms/step - accuracy: 0.9774 - loss: 0.1017 - val_accuracy: 0.9143 - val_loss: 0.2508 - learning_rate: 3.0000e-04\n",
      "Epoch 80/100\n",
      "\u001b[1m18/18\u001b[0m \u001b[32m━━━━━━━━━━━━━━━━━━━━\u001b[0m\u001b[37m\u001b[0m \u001b[1m0s\u001b[0m 4ms/step - accuracy: 0.9774 - loss: 0.1002 - val_accuracy: 0.9143 - val_loss: 0.2487 - learning_rate: 3.0000e-04\n",
      "Epoch 81/100\n",
      "\u001b[1m18/18\u001b[0m \u001b[32m━━━━━━━━━━━━━━━━━━━━\u001b[0m\u001b[37m\u001b[0m \u001b[1m0s\u001b[0m 4ms/step - accuracy: 0.9774 - loss: 0.0988 - val_accuracy: 0.9143 - val_loss: 0.2464 - learning_rate: 3.0000e-04\n",
      "Epoch 82/100\n",
      "\u001b[1m18/18\u001b[0m \u001b[32m━━━━━━━━━━━━━━━━━━━━\u001b[0m\u001b[37m\u001b[0m \u001b[1m0s\u001b[0m 4ms/step - accuracy: 0.9887 - loss: 0.0974 - val_accuracy: 0.9143 - val_loss: 0.2441 - learning_rate: 3.0000e-04\n",
      "Epoch 83/100\n",
      "\u001b[1m18/18\u001b[0m \u001b[32m━━━━━━━━━━━━━━━━━━━━\u001b[0m\u001b[37m\u001b[0m \u001b[1m0s\u001b[0m 4ms/step - accuracy: 0.9887 - loss: 0.0961 - val_accuracy: 0.9143 - val_loss: 0.2422 - learning_rate: 3.0000e-04\n",
      "Epoch 84/100\n",
      "\u001b[1m18/18\u001b[0m \u001b[32m━━━━━━━━━━━━━━━━━━━━\u001b[0m\u001b[37m\u001b[0m \u001b[1m0s\u001b[0m 4ms/step - accuracy: 0.9887 - loss: 0.0948 - val_accuracy: 0.9143 - val_loss: 0.2400 - learning_rate: 3.0000e-04\n",
      "Epoch 85/100\n",
      "\u001b[1m18/18\u001b[0m \u001b[32m━━━━━━━━━━━━━━━━━━━━\u001b[0m\u001b[37m\u001b[0m \u001b[1m0s\u001b[0m 4ms/step - accuracy: 0.9887 - loss: 0.0935 - val_accuracy: 0.9143 - val_loss: 0.2385 - learning_rate: 3.0000e-04\n",
      "Epoch 86/100\n",
      "\u001b[1m18/18\u001b[0m \u001b[32m━━━━━━━━━━━━━━━━━━━━\u001b[0m\u001b[37m\u001b[0m \u001b[1m0s\u001b[0m 4ms/step - accuracy: 0.9887 - loss: 0.0923 - val_accuracy: 0.9143 - val_loss: 0.2361 - learning_rate: 3.0000e-04\n",
      "Epoch 87/100\n",
      "\u001b[1m18/18\u001b[0m \u001b[32m━━━━━━━━━━━━━━━━━━━━\u001b[0m\u001b[37m\u001b[0m \u001b[1m0s\u001b[0m 4ms/step - accuracy: 0.9887 - loss: 0.0910 - val_accuracy: 0.9143 - val_loss: 0.2340 - learning_rate: 3.0000e-04\n",
      "Epoch 88/100\n",
      "\u001b[1m18/18\u001b[0m \u001b[32m━━━━━━━━━━━━━━━━━━━━\u001b[0m\u001b[37m\u001b[0m \u001b[1m0s\u001b[0m 4ms/step - accuracy: 0.9887 - loss: 0.0899 - val_accuracy: 0.9143 - val_loss: 0.2322 - learning_rate: 3.0000e-04\n",
      "Epoch 89/100\n",
      "\u001b[1m18/18\u001b[0m \u001b[32m━━━━━━━━━━━━━━━━━━━━\u001b[0m\u001b[37m\u001b[0m \u001b[1m0s\u001b[0m 4ms/step - accuracy: 0.9887 - loss: 0.0887 - val_accuracy: 0.9143 - val_loss: 0.2306 - learning_rate: 3.0000e-04\n",
      "Epoch 90/100\n",
      "\u001b[1m18/18\u001b[0m \u001b[32m━━━━━━━━━━━━━━━━━━━━\u001b[0m\u001b[37m\u001b[0m \u001b[1m0s\u001b[0m 4ms/step - accuracy: 0.9887 - loss: 0.0876 - val_accuracy: 0.9143 - val_loss: 0.2285 - learning_rate: 3.0000e-04\n",
      "Epoch 91/100\n",
      "\u001b[1m18/18\u001b[0m \u001b[32m━━━━━━━━━━━━━━━━━━━━\u001b[0m\u001b[37m\u001b[0m \u001b[1m0s\u001b[0m 6ms/step - accuracy: 0.9887 - loss: 0.0866 - val_accuracy: 0.9143 - val_loss: 0.2273 - learning_rate: 3.0000e-04\n",
      "Epoch 92/100\n",
      "\u001b[1m18/18\u001b[0m \u001b[32m━━━━━━━━━━━━━━━━━━━━\u001b[0m\u001b[37m\u001b[0m \u001b[1m0s\u001b[0m 8ms/step - accuracy: 0.9887 - loss: 0.0854 - val_accuracy: 0.9143 - val_loss: 0.2253 - learning_rate: 3.0000e-04\n",
      "Epoch 93/100\n",
      "\u001b[1m18/18\u001b[0m \u001b[32m━━━━━━━━━━━━━━━━━━━━\u001b[0m\u001b[37m\u001b[0m \u001b[1m0s\u001b[0m 5ms/step - accuracy: 0.9887 - loss: 0.0843 - val_accuracy: 0.9143 - val_loss: 0.2233 - learning_rate: 3.0000e-04\n",
      "Epoch 94/100\n",
      "\u001b[1m18/18\u001b[0m \u001b[32m━━━━━━━━━━━━━━━━━━━━\u001b[0m\u001b[37m\u001b[0m \u001b[1m0s\u001b[0m 7ms/step - accuracy: 0.9887 - loss: 0.0833 - val_accuracy: 0.9143 - val_loss: 0.2216 - learning_rate: 3.0000e-04\n",
      "Epoch 95/100\n",
      "\u001b[1m18/18\u001b[0m \u001b[32m━━━━━━━━━━━━━━━━━━━━\u001b[0m\u001b[37m\u001b[0m \u001b[1m0s\u001b[0m 8ms/step - accuracy: 0.9887 - loss: 0.0823 - val_accuracy: 0.9143 - val_loss: 0.2199 - learning_rate: 3.0000e-04\n",
      "Epoch 96/100\n",
      "\u001b[1m18/18\u001b[0m \u001b[32m━━━━━━━━━━━━━━━━━━━━\u001b[0m\u001b[37m\u001b[0m \u001b[1m0s\u001b[0m 6ms/step - accuracy: 0.9887 - loss: 0.0813 - val_accuracy: 0.9143 - val_loss: 0.2185 - learning_rate: 3.0000e-04\n",
      "Epoch 97/100\n",
      "\u001b[1m18/18\u001b[0m \u001b[32m━━━━━━━━━━━━━━━━━━━━\u001b[0m\u001b[37m\u001b[0m \u001b[1m0s\u001b[0m 7ms/step - accuracy: 0.9887 - loss: 0.0804 - val_accuracy: 0.9143 - val_loss: 0.2167 - learning_rate: 3.0000e-04\n",
      "Epoch 98/100\n",
      "\u001b[1m18/18\u001b[0m \u001b[32m━━━━━━━━━━━━━━━━━━━━\u001b[0m\u001b[37m\u001b[0m \u001b[1m0s\u001b[0m 6ms/step - accuracy: 0.9887 - loss: 0.0794 - val_accuracy: 0.9143 - val_loss: 0.2154 - learning_rate: 3.0000e-04\n",
      "Epoch 99/100\n",
      "\u001b[1m18/18\u001b[0m \u001b[32m━━━━━━━━━━━━━━━━━━━━\u001b[0m\u001b[37m\u001b[0m \u001b[1m0s\u001b[0m 6ms/step - accuracy: 0.9887 - loss: 0.0785 - val_accuracy: 0.9143 - val_loss: 0.2140 - learning_rate: 3.0000e-04\n",
      "Epoch 100/100\n",
      "\u001b[1m18/18\u001b[0m \u001b[32m━━━━━━━━━━━━━━━━━━━━\u001b[0m\u001b[37m\u001b[0m \u001b[1m0s\u001b[0m 7ms/step - accuracy: 0.9887 - loss: 0.0776 - val_accuracy: 0.9143 - val_loss: 0.2128 - learning_rate: 3.0000e-04\n"
     ]
    }
   ],
   "source": [
    "early_stopping = tf.keras.callbacks.EarlyStopping(monitor='val_loss', patience=10, restore_best_weights=True)\n",
    "lr_scheduler = tf.keras.callbacks.ReduceLROnPlateau(monitor='val_loss', factor=0.5, patience=3, min_lr=1e-6)\n",
    "\n",
    "history = model.fit(X_train, y_train,\n",
    "                    epochs=100,\n",
    "                    batch_size=8,\n",
    "                    validation_split=0.2,\n",
    "                    class_weight=class_weight_dict,\n",
    "                    verbose=1,\n",
    "                    callbacks=[early_stopping, lr_scheduler])"
   ]
  },
  {
   "cell_type": "code",
   "execution_count": 345,
   "metadata": {
    "colab": {
     "base_uri": "https://localhost:8080/"
    },
    "id": "tQKQfnBFjaKl",
    "outputId": "0d1f7db1-8978-4f39-9487-4ed03bcbbe7c"
   },
   "outputs": [
    {
     "name": "stdout",
     "output_type": "stream",
     "text": [
      "\u001b[1m2/2\u001b[0m \u001b[32m━━━━━━━━━━━━━━━━━━━━\u001b[0m\u001b[37m\u001b[0m \u001b[1m0s\u001b[0m 11ms/step - accuracy: 0.9593 - loss: 0.1220\n",
      "Test Accuracy: 95.45%\n"
     ]
    }
   ],
   "source": [
    "# Evaluate the model on the test set\n",
    "test_loss, test_accuracy = model.evaluate(X_test, y_test, verbose=1)\n",
    "print(f\"Test Accuracy: {test_accuracy * 100:.2f}%\")"
   ]
  },
  {
   "cell_type": "code",
   "execution_count": null,
   "metadata": {
    "colab": {
     "base_uri": "https://localhost:8080/",
     "height": 564
    },
    "id": "kfXM5zkajvPd",
    "outputId": "4860fa1a-5c6b-48c6-fddc-743fca656db4"
   },
   "outputs": [
    {
     "data": {
      "image/png": "[encoded data removed]",
      "text/plain": [
       "<Figure size 1200x600 with 2 Axes>"
      ]
     },
     "metadata": {},
     "output_type": "display_data"
    }
   ],
   "source": [
    "# Plotting Training and Validation Accuracy\n",
    "plt.figure(figsize=(12, 6))\n",
    "\n",
    "# Accuracy Plot\n",
    "plt.subplot(1, 2, 1)\n",
    "plt.plot(history.history['accuracy'], label='Training Accuracy')\n",
    "plt.plot(history.history['val_accuracy'], label='Validation Accuracy')\n",
    "plt.title('Training and Validation Accuracy')\n",
    "plt.xlabel('Epochs')\n",
    "plt.ylabel('Accuracy')\n",
    "plt.legend()\n",
    "\n",
    "# Loss Plot\n",
    "plt.subplot(1, 2, 2)\n",
    "plt.plot(history.history['loss'], label='Training Loss')\n",
    "plt.plot(history.history['val_loss'], label='Validation Loss')\n",
    "plt.title('Training and Validation Loss')\n",
    "plt.xlabel('Epochs')\n",
    "plt.ylabel('Loss')\n",
    "plt.legend()\n",
    "\n",
    "plt.show()\n"
   ]
  },
  {
   "cell_type": "markdown",
   "metadata": {},
   "source": [
    "### Define a function to recommend phones based on the user's budget."
   ]
  },
  {
   "cell_type": "code",
   "execution_count": 355,
   "metadata": {
    "colab": {
     "base_uri": "https://localhost:8080/"
    },
    "id": "aAFIkyCujxMV",
    "outputId": "459ee578-7ae9-419e-f32b-024724f7cbf9"
   },
   "outputs": [
    {
     "name": "stdout",
     "output_type": "stream",
     "text": [
      "                                  Brand      Price  Memory     Storage\n",
      "619   realme X3 SuperZoom  Glacier Blue  3199900.0     8.0  256.000000\n",
      "626   realme X3 SuperZoom  Arctic White  3199900.0     8.0  256.000000\n",
      "610   realme X3 SuperZoom  Glacier Blue  2999900.0     8.0  128.000000\n",
      "693   realme X3 SuperZoom  Arctic White  2999900.0     8.0  128.000000\n",
      "568   realme X3 SuperZoom  Arctic White  3199900.0     8.0   60.444444\n",
      "1253            Apple iPhone 6s  Silver  2990000.0     2.0   32.000000\n",
      "1377         Apple iPhone 6s  Rose Gold  2990000.0     2.0   32.000000\n",
      "1258              Apple iPhone 7  Black  3150000.0     2.0   32.000000\n",
      "1373         Apple iPhone 6s  Rose Gold  3199900.0     2.0   16.000000\n",
      "1417               Apple iPhone 6  Gold  3078000.0     1.0   32.000000\n"
     ]
    }
   ],
   "source": [
    "def recommend_phone(budget, tolerance=0.1, top_n=20):\n",
    "    \"\"\"\n",
    "    Recommend phones based on budget, considering multiple brands and models.\n",
    "\n",
    "    Args:\n",
    "        budget (float): User's budget.\n",
    "        tolerance (float): Price tolerance as percentage (default 10%).\n",
    "        top_n (int): Number of top recommendations (default 20).\n",
    "\n",
    "    Returns:\n",
    "        pd.DataFrame: Recommended phones.\n",
    "    \"\"\"\n",
    "    # Price range based on tolerance\n",
    "    min_price = budget * (1 - tolerance)\n",
    "    max_price = budget * (1 + tolerance)\n",
    "\n",
    "    # Filter phones by price within the range\n",
    "    recommendations = data[(data['Price'] >= min_price) & (data['Price'] <= max_price)]\n",
    "\n",
    "    # Check if we have recommendations\n",
    "    if not recommendations.empty:\n",
    "        # Sort by specifications and price, but avoid recommending multiple phones of the same brand/model\n",
    "        recommendations = recommendations.sort_values(\n",
    "            by=['Memory', 'Storage', 'Price'], ascending=[False, False, True]\n",
    "        )\n",
    "\n",
    "        # Remove duplicates based on 'Brand' and 'Storage' to ensure variety in recommendations\n",
    "        recommendations = recommendations.drop_duplicates(subset=['Brand', 'Storage'], keep='first')\n",
    "\n",
    "        # Limit to the top_n recommendations\n",
    "        recommendations = recommendations.head(top_n)\n",
    "\n",
    "    # If no recommendations found, return empty dataframe\n",
    "    if recommendations.empty:\n",
    "        return pd.DataFrame(columns=['Brand', 'Price', 'Memory', 'Storage'])\n",
    "\n",
    "    return recommendations[['Brand', 'Price', 'Memory', 'Storage']]\n",
    "\n",
    "# Example usage\n",
    "example_budget = 3000000  # Example budget\n",
    "recommendations = recommend_phone(example_budget)\n",
    "print(recommendations)\n"
   ]
  },
  {
   "cell_type": "markdown",
   "metadata": {},
   "source": [
    "### Save the model as h5 format"
   ]
  },
  {
   "cell_type": "code",
   "execution_count": 356,
   "metadata": {
    "colab": {
     "base_uri": "https://localhost:8080/"
    },
    "id": "j5bSh7CXw9jp",
    "outputId": "12b11aed-e278-450f-a769-97c6ef745f44"
   },
   "outputs": [
    {
     "name": "stderr",
     "output_type": "stream",
     "text": [
      "WARNING:absl:You are saving your model as an HDF5 file via `model.save()` or `keras.saving.save_model(model)`. This file format is considered legacy. We recommend using instead the native Keras format, e.g. `model.save('my_model.keras')` or `keras.saving.save_model(model, 'my_model.keras')`. \n"
     ]
    }
   ],
   "source": [
    "model.save('Gadget_fix.h5')"
   ]
  },
  {
   "cell_type": "code",
   "execution_count": null,
   "metadata": {
    "id": "O3FeO_ga28Ft"
   },
   "outputs": [],
   "source": []
  }
 ],
 "metadata": {
  "colab": {
   "provenance": []
  },
  "kernelspec": {
   "display_name": "Python 3",
   "name": "python3"
  },
  "language_info": {
   "name": "python"
  }
 },
 "nbformat": 4,
 "nbformat_minor": 0
}
